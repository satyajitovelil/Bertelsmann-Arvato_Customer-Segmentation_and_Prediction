{
 "cells": [
  {
   "cell_type": "markdown",
   "metadata": {},
   "source": [
    "# Capstone Project: Create a Customer Segmentation Report for Arvato Financial Services\n",
    "\n",
    "In this project, you will analyze demographics data for customers of a mail-order sales company in Germany, comparing it against demographics information for the general population. You'll use unsupervised learning techniques to perform customer segmentation, identifying the parts of the population that best describe the core customer base of the company. Then, you'll apply what you've learned on a third dataset with demographics information for targets of a marketing campaign for the company, and use a model to predict which individuals are most likely to convert into becoming customers for the company. The data that you will use has been provided by our partners at Bertelsmann Arvato Analytics, and represents a real-life data science task.\n",
    "\n",
    "The versions of those two datasets used in this project will include many more features and has not been pre-cleaned. You are also free to choose whatever approach you'd like to analyzing the data rather than follow pre-determined steps. In your work on this project, make sure that you carefully document your steps and decisions, since your main deliverable for this project will be a blog post reporting your findings."
   ]
  },
  {
   "cell_type": "code",
   "execution_count": 1,
   "metadata": {},
   "outputs": [],
   "source": [
    "# import libraries here; add more as necessary\n",
    "import numpy as np\n",
    "import pandas as pd\n",
    "import matplotlib.pyplot as plt\n",
    "import seaborn as sns\n",
    "from src.utils import *\n",
    "\n",
    "# magic word for producing visualizations in notebook\n",
    "%matplotlib inline"
   ]
  },
  {
   "cell_type": "code",
   "execution_count": 2,
   "metadata": {},
   "outputs": [],
   "source": [
    "import types\n",
    "import pickle\n",
    "import dill"
   ]
  },
  {
   "cell_type": "code",
   "execution_count": 3,
   "metadata": {},
   "outputs": [],
   "source": [
    "# from sklearn.preprocessing import Imputer\n",
    "from sklearn.impute import SimpleImputer\n",
    "from sklearn.preprocessing import StandardScaler\n",
    "from sklearn.decomposition import PCA\n",
    "from sklearn.cluster import KMeans"
   ]
  },
  {
   "cell_type": "code",
   "execution_count": 4,
   "metadata": {},
   "outputs": [],
   "source": [
    "randomState = 42"
   ]
  },
  {
   "cell_type": "markdown",
   "metadata": {},
   "source": [
    "## Part 0: Get to Know the Data\n",
    "\n",
    "There are four data files associated with this project:\n",
    "\n",
    "- `Udacity_AZDIAS_052018.csv`: Demographics data for the general population of Germany; 891 211 persons (rows) x 366 features (columns).\n",
    "- `Udacity_CUSTOMERS_052018.csv`: Demographics data for customers of a mail-order company; 191 652 persons (rows) x 369 features (columns).\n",
    "- `Udacity_MAILOUT_052018_TRAIN.csv`: Demographics data for individuals who were targets of a marketing campaign; 42 982 persons (rows) x 367 (columns).\n",
    "- `Udacity_MAILOUT_052018_TEST.csv`: Demographics data for individuals who were targets of a marketing campaign; 42 833 persons (rows) x 366 (columns).\n",
    "\n",
    "Each row of the demographics files represents a single person, but also includes information outside of individuals, including information about their household, building, and neighborhood. Use the information from the first two files to figure out how customers (\"CUSTOMERS\") are similar to or differ from the general population at large (\"AZDIAS\"), then use your analysis to make predictions on the other two files (\"MAILOUT\"), predicting which recipients are most likely to become a customer for the mail-order company.\n",
    "\n",
    "The \"CUSTOMERS\" file contains three extra columns ('CUSTOMER_GROUP', 'ONLINE_PURCHASE', and 'PRODUCT_GROUP'), which provide broad information about the customers depicted in the file. The original \"MAILOUT\" file included one additional column, \"RESPONSE\", which indicated whether or not each recipient became a customer of the company. For the \"TRAIN\" subset, this column has been retained, but in the \"TEST\" subset it has been removed; it is against that withheld column that your final predictions will be assessed in the Kaggle competition.\n",
    "\n",
    "Otherwise, all of the remaining columns are the same between the three data files. For more information about the columns depicted in the files, you can refer to two Excel spreadsheets provided in the workspace. [One of them](./DIAS Information Levels - Attributes 2017.xlsx) is a top-level list of attributes and descriptions, organized by informational category. [The other](./DIAS Attributes - Values 2017.xlsx) is a detailed mapping of data values for each feature in alphabetical order.\n",
    "\n",
    "In the below cell, we've provided some initial code to load in the first two datasets. Note for all of the `.csv` data files in this project that they're semicolon (`;`) delimited, so an additional argument in the [`read_csv()`](https://pandas.pydata.org/pandas-docs/stable/generated/pandas.read_csv.html) call has been included to read in the data properly. Also, considering the size of the datasets, it may take some time for them to load completely.\n",
    "\n",
    "You'll notice when the data is loaded in that a warning message will immediately pop up. Before you really start digging into the modeling and analysis, you're going to need to perform some cleaning. Take some time to browse the structure of the data and look over the informational spreadsheets to understand the data values. Make some decisions on which features to keep, which features to drop, and if any revisions need to be made on data formats. It'll be a good idea to create a function with pre-processing steps, since you'll need to clean all of the datasets before you work with them."
   ]
  },
  {
   "cell_type": "code",
   "execution_count": 5,
   "metadata": {},
   "outputs": [
    {
     "name": "stderr",
     "output_type": "stream",
     "text": [
      "C:\\Users\\Satya\\AppData\\Local\\Temp\\ipykernel_17332\\4183925281.py:2: DtypeWarning: Columns (18,19) have mixed types. Specify dtype option on import or set low_memory=False.\n",
      "  azdias = pd.read_csv('data/Udacity_AZDIAS_052018.csv', sep=';')\n",
      "C:\\Users\\Satya\\AppData\\Local\\Temp\\ipykernel_17332\\4183925281.py:3: DtypeWarning: Columns (18,19) have mixed types. Specify dtype option on import or set low_memory=False.\n",
      "  customers = pd.read_csv('data/Udacity_CUSTOMERS_052018.csv', sep=';')\n"
     ]
    }
   ],
   "source": [
    "# load in the data\n",
    "azdias = pd.read_csv('data/Udacity_AZDIAS_052018.csv', sep=';')\n",
    "customers = pd.read_csv('data/Udacity_CUSTOMERS_052018.csv', sep=';')"
   ]
  },
  {
   "cell_type": "code",
   "execution_count": 6,
   "metadata": {},
   "outputs": [
    {
     "name": "stdout",
     "output_type": "stream",
     "text": [
      "<class 'pandas.core.frame.DataFrame'>\n",
      "RangeIndex: 891221 entries, 0 to 891220\n",
      "Columns: 366 entries, LNR to ALTERSKATEGORIE_GROB\n",
      "dtypes: float64(267), int64(93), object(6)\n",
      "memory usage: 2.4+ GB\n"
     ]
    }
   ],
   "source": [
    "azdias.info()"
   ]
  },
  {
   "cell_type": "code",
   "execution_count": 7,
   "metadata": {},
   "outputs": [
    {
     "name": "stdout",
     "output_type": "stream",
     "text": [
      "<class 'pandas.core.frame.DataFrame'>\n",
      "RangeIndex: 191652 entries, 0 to 191651\n",
      "Columns: 369 entries, LNR to ALTERSKATEGORIE_GROB\n",
      "dtypes: float64(267), int64(94), object(8)\n",
      "memory usage: 539.5+ MB\n"
     ]
    }
   ],
   "source": [
    "customers.info()"
   ]
  },
  {
   "attachments": {},
   "cell_type": "markdown",
   "metadata": {},
   "source": [
    "Check the values in the Columns that threw a warning when we loaded the csv files."
   ]
  },
  {
   "cell_type": "code",
   "execution_count": 8,
   "metadata": {},
   "outputs": [],
   "source": [
    "attributes = load_info('data/DIAS Attributes - Values 2017.xlsx', skiprows=1)"
   ]
  },
  {
   "cell_type": "code",
   "execution_count": 9,
   "metadata": {},
   "outputs": [
    {
     "data": {
      "text/html": [
       "<div>\n",
       "<style scoped>\n",
       "    .dataframe tbody tr th:only-of-type {\n",
       "        vertical-align: middle;\n",
       "    }\n",
       "\n",
       "    .dataframe tbody tr th {\n",
       "        vertical-align: top;\n",
       "    }\n",
       "\n",
       "    .dataframe thead th {\n",
       "        text-align: right;\n",
       "    }\n",
       "</style>\n",
       "<table border=\"1\" class=\"dataframe\">\n",
       "  <thead>\n",
       "    <tr style=\"text-align: right;\">\n",
       "      <th></th>\n",
       "      <th>Attribute</th>\n",
       "      <th>Description</th>\n",
       "      <th>Value</th>\n",
       "      <th>Meaning</th>\n",
       "      <th>Missing</th>\n",
       "    </tr>\n",
       "  </thead>\n",
       "  <tbody>\n",
       "    <tr>\n",
       "      <th>0</th>\n",
       "      <td>AGER_TYP</td>\n",
       "      <td>best-ager typology</td>\n",
       "      <td>-1</td>\n",
       "      <td>unknown</td>\n",
       "      <td>True</td>\n",
       "    </tr>\n",
       "    <tr>\n",
       "      <th>1</th>\n",
       "      <td>AGER_TYP</td>\n",
       "      <td>best-ager typology</td>\n",
       "      <td>0</td>\n",
       "      <td>no classification possible</td>\n",
       "      <td>False</td>\n",
       "    </tr>\n",
       "    <tr>\n",
       "      <th>2</th>\n",
       "      <td>AGER_TYP</td>\n",
       "      <td>best-ager typology</td>\n",
       "      <td>1</td>\n",
       "      <td>passive elderly</td>\n",
       "      <td>False</td>\n",
       "    </tr>\n",
       "    <tr>\n",
       "      <th>3</th>\n",
       "      <td>AGER_TYP</td>\n",
       "      <td>best-ager typology</td>\n",
       "      <td>2</td>\n",
       "      <td>cultural elderly</td>\n",
       "      <td>False</td>\n",
       "    </tr>\n",
       "    <tr>\n",
       "      <th>4</th>\n",
       "      <td>AGER_TYP</td>\n",
       "      <td>best-ager typology</td>\n",
       "      <td>3</td>\n",
       "      <td>experience-driven elderly</td>\n",
       "      <td>False</td>\n",
       "    </tr>\n",
       "  </tbody>\n",
       "</table>\n",
       "</div>"
      ],
      "text/plain": [
       "  Attribute         Description Value                     Meaning Missing\n",
       "0  AGER_TYP  best-ager typology    -1                     unknown    True\n",
       "1  AGER_TYP  best-ager typology     0  no classification possible   False\n",
       "2  AGER_TYP  best-ager typology     1             passive elderly   False\n",
       "3  AGER_TYP  best-ager typology     2            cultural elderly   False\n",
       "4  AGER_TYP  best-ager typology     3   experience-driven elderly   False"
      ]
     },
     "execution_count": 9,
     "metadata": {},
     "output_type": "execute_result"
    }
   ],
   "source": [
    "attributes.head()"
   ]
  },
  {
   "cell_type": "code",
   "execution_count": 10,
   "metadata": {},
   "outputs": [
    {
     "data": {
      "text/plain": [
       "Index(['CAMEO_DEUG_2015', 'CAMEO_INTL_2015'], dtype='object')"
      ]
     },
     "execution_count": 10,
     "metadata": {},
     "output_type": "execute_result"
    }
   ],
   "source": [
    "# Gettig the name of the columns that read_csv warned about having mixed data types\n",
    "azdias.columns[18:20]"
   ]
  },
  {
   "cell_type": "code",
   "execution_count": 11,
   "metadata": {},
   "outputs": [
    {
     "data": {
      "text/plain": [
       "Index(['CAMEO_DEU_2015', 'CAMEO_DEUG_2015', 'CAMEO_INTL_2015'], dtype='object')"
      ]
     },
     "execution_count": 11,
     "metadata": {},
     "output_type": "execute_result"
    }
   ],
   "source": [
    "find_columns('CAMEO', azdias)"
   ]
  },
  {
   "cell_type": "code",
   "execution_count": 12,
   "metadata": {},
   "outputs": [
    {
     "data": {
      "text/plain": [
       "['CAMEO_DEUG_2015', 'CAMEO_DEU_2015', 'CAMEO_DEUINTL_2015']"
      ]
     },
     "execution_count": 12,
     "metadata": {},
     "output_type": "execute_result"
    }
   ],
   "source": [
    "get_attributes('CAMEO', attributes)"
   ]
  },
  {
   "cell_type": "code",
   "execution_count": 13,
   "metadata": {},
   "outputs": [],
   "source": [
    "# The value 'CAMEO_DEUINTL_2015' in attributes excel corresponds to the column 'CAMEO_INTL_2015'\n",
    "attributes.replace({'Attribute':{'CAMEO_DEUINTL_2015':'CAMEO_INTL_2015'}}, inplace=True)"
   ]
  },
  {
   "cell_type": "code",
   "execution_count": 14,
   "metadata": {},
   "outputs": [],
   "source": [
    "cameo_cols = get_attributes('CAMEO', attributes)\n",
    "cols_cameo = get_attributes('CAMEO', attributes)"
   ]
  },
  {
   "attachments": {},
   "cell_type": "markdown",
   "metadata": {},
   "source": [
    "Lets check the unqiue values in each of the above columns"
   ]
  },
  {
   "cell_type": "code",
   "execution_count": 15,
   "metadata": {},
   "outputs": [
    {
     "name": "stdout",
     "output_type": "stream",
     "text": [
      "Unique Values in Column CAMEO_DEUG_2015:  [nan 8.0 4.0 2.0 6.0 1.0 9.0 5.0 7.0 3.0 '4' '3' '7' '2' '8' '9' '6' '5'\n",
      " '1' 'X']\n",
      "Unique Values in Column CAMEO_DEU_2015:  [nan '8A' '4C' '2A' '6B' '8C' '4A' '2D' '1A' '1E' '9D' '5C' '8B' '7A' '5D'\n",
      " '9E' '9B' '1B' '3D' '4E' '4B' '3C' '5A' '7B' '9A' '6D' '6E' '2C' '7C'\n",
      " '9C' '7D' '5E' '1D' '8D' '6C' '6A' '5B' '4D' '3A' '2B' '7E' '3B' '6F'\n",
      " '5F' '1C' 'XX']\n",
      "Unique Values in Column CAMEO_INTL_2015:  [nan 51.0 24.0 12.0 43.0 54.0 22.0 14.0 13.0 15.0 33.0 41.0 34.0 55.0 25.0\n",
      " 23.0 31.0 52.0 35.0 45.0 44.0 32.0 '22' '24' '41' '12' '54' '51' '44'\n",
      " '35' '23' '25' '14' '34' '52' '55' '31' '32' '15' '13' '43' '33' '45'\n",
      " 'XX']\n"
     ]
    }
   ],
   "source": [
    "for col in cameo_cols:\n",
    "    get_unique_vals(azdias, col)"
   ]
  },
  {
   "cell_type": "code",
   "execution_count": 16,
   "metadata": {},
   "outputs": [
    {
     "name": "stdout",
     "output_type": "stream",
     "text": [
      "Unique Values in Column CAMEO_DEUG_2015:  [1.0 nan 5.0 4.0 7.0 3.0 9.0 2.0 6.0 8.0 '6' '3' '8' '9' '2' '4' '1' '7'\n",
      " '5' 'X']\n",
      "Unique Values in Column CAMEO_DEU_2015:  ['1A' nan '5D' '4C' '7B' '3B' '1D' '9E' '2D' '4A' '6B' '9D' '8B' '5C' '9C'\n",
      " '4E' '6C' '8C' '8A' '5B' '9B' '3D' '2A' '3C' '5F' '7A' '1E' '2C' '7C'\n",
      " '5A' '2B' '6D' '7E' '5E' '6E' '3A' '9A' '4B' '1C' '1B' '6A' '8D' '7D'\n",
      " '6F' '4D' 'XX']\n",
      "Unique Values in Column CAMEO_INTL_2015:  [13.0 nan 34.0 24.0 41.0 23.0 15.0 55.0 14.0 22.0 43.0 51.0 33.0 25.0 44.0\n",
      " 54.0 32.0 12.0 35.0 31.0 45.0 52.0 '45' '25' '55' '51' '14' '54' '43'\n",
      " '22' '15' '24' '35' '23' '12' '44' '41' '52' '31' '13' '34' '32' '33'\n",
      " 'XX']\n"
     ]
    }
   ],
   "source": [
    "for col in cameo_cols:\n",
    "    get_unique_vals(customers, col)"
   ]
  },
  {
   "attachments": {},
   "cell_type": "markdown",
   "metadata": {},
   "source": [
    "Create a column to indicate missing values info; taken from attributes CSVs that have been provided"
   ]
  },
  {
   "cell_type": "code",
   "execution_count": 17,
   "metadata": {},
   "outputs": [
    {
     "data": {
      "text/plain": [
       "array([True, False, nan], dtype=object)"
      ]
     },
     "execution_count": 17,
     "metadata": {},
     "output_type": "execute_result"
    }
   ],
   "source": [
    "attributes['Missing'].unique()"
   ]
  },
  {
   "attachments": {},
   "cell_type": "markdown",
   "metadata": {},
   "source": [
    "Categorical Features or columns can be identified using three approaches:\n",
    "- columns with dtype object in the dataframe\n",
    "- columns containing the string 'klasse' or 'typ' in their name\n",
    "- columns mentioned in the attribute file with the words classification or typology in their description\n",
    "\n",
    "Out of all the potential categorical columns obtained using the above methods, some of them already might be in an encoded format, while some might need further transformation or contain information that could be made into a different columns altogether."
   ]
  },
  {
   "cell_type": "code",
   "execution_count": 18,
   "metadata": {},
   "outputs": [
    {
     "data": {
      "text/html": [
       "<div>\n",
       "<style scoped>\n",
       "    .dataframe tbody tr th:only-of-type {\n",
       "        vertical-align: middle;\n",
       "    }\n",
       "\n",
       "    .dataframe tbody tr th {\n",
       "        vertical-align: top;\n",
       "    }\n",
       "\n",
       "    .dataframe thead th {\n",
       "        text-align: right;\n",
       "    }\n",
       "</style>\n",
       "<table border=\"1\" class=\"dataframe\">\n",
       "  <thead>\n",
       "    <tr style=\"text-align: right;\">\n",
       "      <th></th>\n",
       "      <th>Attribute</th>\n",
       "      <th>Description</th>\n",
       "      <th>Value</th>\n",
       "      <th>Meaning</th>\n",
       "      <th>Missing</th>\n",
       "    </tr>\n",
       "  </thead>\n",
       "  <tbody>\n",
       "    <tr>\n",
       "      <th>0</th>\n",
       "      <td>ANZ_HAUSHALTE_AKTIV</td>\n",
       "      <td>number of households in the building</td>\n",
       "      <td>…</td>\n",
       "      <td>numeric value (typically coded from 1-10)</td>\n",
       "      <td>False</td>\n",
       "    </tr>\n",
       "    <tr>\n",
       "      <th>1</th>\n",
       "      <td>ANZ_HH_TITEL</td>\n",
       "      <td>number of academic title holder in building</td>\n",
       "      <td>…</td>\n",
       "      <td>numeric value (typically coded from 1-10)</td>\n",
       "      <td>False</td>\n",
       "    </tr>\n",
       "    <tr>\n",
       "      <th>2</th>\n",
       "      <td>ANZ_PERSONEN</td>\n",
       "      <td>number of adult persons in the household</td>\n",
       "      <td>…</td>\n",
       "      <td>numeric value (typically coded from 1-3)</td>\n",
       "      <td>False</td>\n",
       "    </tr>\n",
       "    <tr>\n",
       "      <th>3</th>\n",
       "      <td>ANZ_TITEL</td>\n",
       "      <td>number of professional title holder in household</td>\n",
       "      <td>…</td>\n",
       "      <td>numeric value (typically coded from 1-10)</td>\n",
       "      <td>False</td>\n",
       "    </tr>\n",
       "    <tr>\n",
       "      <th>4</th>\n",
       "      <td>CAMEO_DEU_2015</td>\n",
       "      <td>CAMEO classification 2015 - detailled classifi...</td>\n",
       "      <td>1A</td>\n",
       "      <td>Work-Life-Balance</td>\n",
       "      <td>False</td>\n",
       "    </tr>\n",
       "    <tr>\n",
       "      <th>5</th>\n",
       "      <td>CAMEO_DEU_2015</td>\n",
       "      <td>CAMEO classification 2015 - detailled classifi...</td>\n",
       "      <td>1B</td>\n",
       "      <td>Wealthy Best Ager</td>\n",
       "      <td>False</td>\n",
       "    </tr>\n",
       "    <tr>\n",
       "      <th>6</th>\n",
       "      <td>CAMEO_DEU_2015</td>\n",
       "      <td>CAMEO classification 2015 - detailled classifi...</td>\n",
       "      <td>1C</td>\n",
       "      <td>Successful Songwriter</td>\n",
       "      <td>False</td>\n",
       "    </tr>\n",
       "    <tr>\n",
       "      <th>7</th>\n",
       "      <td>CAMEO_DEU_2015</td>\n",
       "      <td>CAMEO classification 2015 - detailled classifi...</td>\n",
       "      <td>1D</td>\n",
       "      <td>Old Nobility</td>\n",
       "      <td>False</td>\n",
       "    </tr>\n",
       "    <tr>\n",
       "      <th>8</th>\n",
       "      <td>CAMEO_DEU_2015</td>\n",
       "      <td>CAMEO classification 2015 - detailled classifi...</td>\n",
       "      <td>1E</td>\n",
       "      <td>City Nobility</td>\n",
       "      <td>False</td>\n",
       "    </tr>\n",
       "    <tr>\n",
       "      <th>9</th>\n",
       "      <td>CAMEO_DEU_2015</td>\n",
       "      <td>CAMEO classification 2015 - detailled classifi...</td>\n",
       "      <td>2A</td>\n",
       "      <td>Cottage Chic</td>\n",
       "      <td>False</td>\n",
       "    </tr>\n",
       "    <tr>\n",
       "      <th>10</th>\n",
       "      <td>CAMEO_DEU_2015</td>\n",
       "      <td>CAMEO classification 2015 - detailled classifi...</td>\n",
       "      <td>2B</td>\n",
       "      <td>Noble Jogger</td>\n",
       "      <td>False</td>\n",
       "    </tr>\n",
       "    <tr>\n",
       "      <th>11</th>\n",
       "      <td>CAMEO_DEU_2015</td>\n",
       "      <td>CAMEO classification 2015 - detailled classifi...</td>\n",
       "      <td>2C</td>\n",
       "      <td>Established gourmet</td>\n",
       "      <td>False</td>\n",
       "    </tr>\n",
       "    <tr>\n",
       "      <th>12</th>\n",
       "      <td>CAMEO_DEU_2015</td>\n",
       "      <td>CAMEO classification 2015 - detailled classifi...</td>\n",
       "      <td>2D</td>\n",
       "      <td>Fine Management</td>\n",
       "      <td>False</td>\n",
       "    </tr>\n",
       "    <tr>\n",
       "      <th>13</th>\n",
       "      <td>CAMEO_DEU_2015</td>\n",
       "      <td>CAMEO classification 2015 - detailled classifi...</td>\n",
       "      <td>3A</td>\n",
       "      <td>Career &amp; Family</td>\n",
       "      <td>False</td>\n",
       "    </tr>\n",
       "    <tr>\n",
       "      <th>14</th>\n",
       "      <td>CAMEO_DEU_2015</td>\n",
       "      <td>CAMEO classification 2015 - detailled classifi...</td>\n",
       "      <td>3B</td>\n",
       "      <td>Powershopping Families</td>\n",
       "      <td>False</td>\n",
       "    </tr>\n",
       "    <tr>\n",
       "      <th>15</th>\n",
       "      <td>CAMEO_DEU_2015</td>\n",
       "      <td>CAMEO classification 2015 - detailled classifi...</td>\n",
       "      <td>3C</td>\n",
       "      <td>Rural Neighborhood</td>\n",
       "      <td>False</td>\n",
       "    </tr>\n",
       "    <tr>\n",
       "      <th>16</th>\n",
       "      <td>CAMEO_DEU_2015</td>\n",
       "      <td>CAMEO classification 2015 - detailled classifi...</td>\n",
       "      <td>3D</td>\n",
       "      <td>Secure Retirement</td>\n",
       "      <td>False</td>\n",
       "    </tr>\n",
       "    <tr>\n",
       "      <th>17</th>\n",
       "      <td>CAMEO_DEU_2015</td>\n",
       "      <td>CAMEO classification 2015 - detailled classifi...</td>\n",
       "      <td>4A</td>\n",
       "      <td>Family Starter</td>\n",
       "      <td>False</td>\n",
       "    </tr>\n",
       "    <tr>\n",
       "      <th>18</th>\n",
       "      <td>CAMEO_DEU_2015</td>\n",
       "      <td>CAMEO classification 2015 - detailled classifi...</td>\n",
       "      <td>4B</td>\n",
       "      <td>Family Life</td>\n",
       "      <td>False</td>\n",
       "    </tr>\n",
       "    <tr>\n",
       "      <th>19</th>\n",
       "      <td>CAMEO_DEU_2015</td>\n",
       "      <td>CAMEO classification 2015 - detailled classifi...</td>\n",
       "      <td>4C</td>\n",
       "      <td>String Trimmer</td>\n",
       "      <td>False</td>\n",
       "    </tr>\n",
       "    <tr>\n",
       "      <th>20</th>\n",
       "      <td>CAMEO_DEU_2015</td>\n",
       "      <td>CAMEO classification 2015 - detailled classifi...</td>\n",
       "      <td>4D</td>\n",
       "      <td>Empty Nest</td>\n",
       "      <td>False</td>\n",
       "    </tr>\n",
       "    <tr>\n",
       "      <th>21</th>\n",
       "      <td>CAMEO_DEU_2015</td>\n",
       "      <td>CAMEO classification 2015 - detailled classifi...</td>\n",
       "      <td>4E</td>\n",
       "      <td>Golden Ager</td>\n",
       "      <td>False</td>\n",
       "    </tr>\n",
       "    <tr>\n",
       "      <th>22</th>\n",
       "      <td>CAMEO_DEU_2015</td>\n",
       "      <td>CAMEO classification 2015 - detailled classifi...</td>\n",
       "      <td>5A</td>\n",
       "      <td>Younger Employees</td>\n",
       "      <td>False</td>\n",
       "    </tr>\n",
       "    <tr>\n",
       "      <th>23</th>\n",
       "      <td>CAMEO_DEU_2015</td>\n",
       "      <td>CAMEO classification 2015 - detailled classifi...</td>\n",
       "      <td>5B</td>\n",
       "      <td>Suddenly Family</td>\n",
       "      <td>False</td>\n",
       "    </tr>\n",
       "    <tr>\n",
       "      <th>24</th>\n",
       "      <td>CAMEO_DEU_2015</td>\n",
       "      <td>CAMEO classification 2015 - detailled classifi...</td>\n",
       "      <td>5C</td>\n",
       "      <td>Family First</td>\n",
       "      <td>False</td>\n",
       "    </tr>\n",
       "    <tr>\n",
       "      <th>25</th>\n",
       "      <td>CAMEO_DEU_2015</td>\n",
       "      <td>CAMEO classification 2015 - detailled classifi...</td>\n",
       "      <td>5D</td>\n",
       "      <td>Stock Market Junkies</td>\n",
       "      <td>False</td>\n",
       "    </tr>\n",
       "    <tr>\n",
       "      <th>26</th>\n",
       "      <td>CAMEO_DEU_2015</td>\n",
       "      <td>CAMEO classification 2015 - detailled classifi...</td>\n",
       "      <td>5E</td>\n",
       "      <td>Coffee Rider</td>\n",
       "      <td>False</td>\n",
       "    </tr>\n",
       "    <tr>\n",
       "      <th>27</th>\n",
       "      <td>CAMEO_DEU_2015</td>\n",
       "      <td>CAMEO classification 2015 - detailled classifi...</td>\n",
       "      <td>5F</td>\n",
       "      <td>Active Retirement</td>\n",
       "      <td>False</td>\n",
       "    </tr>\n",
       "    <tr>\n",
       "      <th>28</th>\n",
       "      <td>CAMEO_DEU_2015</td>\n",
       "      <td>CAMEO classification 2015 - detailled classifi...</td>\n",
       "      <td>6A</td>\n",
       "      <td>Jobstarter</td>\n",
       "      <td>False</td>\n",
       "    </tr>\n",
       "    <tr>\n",
       "      <th>29</th>\n",
       "      <td>CAMEO_DEU_2015</td>\n",
       "      <td>CAMEO classification 2015 - detailled classifi...</td>\n",
       "      <td>6B</td>\n",
       "      <td>Petty Bourgeois</td>\n",
       "      <td>False</td>\n",
       "    </tr>\n",
       "    <tr>\n",
       "      <th>30</th>\n",
       "      <td>CAMEO_DEU_2015</td>\n",
       "      <td>CAMEO classification 2015 - detailled classifi...</td>\n",
       "      <td>6C</td>\n",
       "      <td>Long-established</td>\n",
       "      <td>False</td>\n",
       "    </tr>\n",
       "    <tr>\n",
       "      <th>31</th>\n",
       "      <td>CAMEO_DEU_2015</td>\n",
       "      <td>CAMEO classification 2015 - detailled classifi...</td>\n",
       "      <td>6D</td>\n",
       "      <td>Sportgardener</td>\n",
       "      <td>False</td>\n",
       "    </tr>\n",
       "    <tr>\n",
       "      <th>32</th>\n",
       "      <td>CAMEO_DEU_2015</td>\n",
       "      <td>CAMEO classification 2015 - detailled classifi...</td>\n",
       "      <td>6E</td>\n",
       "      <td>Urban Parents</td>\n",
       "      <td>False</td>\n",
       "    </tr>\n",
       "    <tr>\n",
       "      <th>33</th>\n",
       "      <td>CAMEO_DEU_2015</td>\n",
       "      <td>CAMEO classification 2015 - detailled classifi...</td>\n",
       "      <td>6F</td>\n",
       "      <td>Frugal Aging</td>\n",
       "      <td>False</td>\n",
       "    </tr>\n",
       "    <tr>\n",
       "      <th>34</th>\n",
       "      <td>CAMEO_DEU_2015</td>\n",
       "      <td>CAMEO classification 2015 - detailled classifi...</td>\n",
       "      <td>7A</td>\n",
       "      <td>Journeymen</td>\n",
       "      <td>False</td>\n",
       "    </tr>\n",
       "    <tr>\n",
       "      <th>35</th>\n",
       "      <td>CAMEO_DEU_2015</td>\n",
       "      <td>CAMEO classification 2015 - detailled classifi...</td>\n",
       "      <td>7B</td>\n",
       "      <td>Mantaplatte</td>\n",
       "      <td>False</td>\n",
       "    </tr>\n",
       "    <tr>\n",
       "      <th>36</th>\n",
       "      <td>CAMEO_DEU_2015</td>\n",
       "      <td>CAMEO classification 2015 - detailled classifi...</td>\n",
       "      <td>7C</td>\n",
       "      <td>Factory Worker</td>\n",
       "      <td>False</td>\n",
       "    </tr>\n",
       "    <tr>\n",
       "      <th>37</th>\n",
       "      <td>CAMEO_DEU_2015</td>\n",
       "      <td>CAMEO classification 2015 - detailled classifi...</td>\n",
       "      <td>7D</td>\n",
       "      <td>Rear Window</td>\n",
       "      <td>False</td>\n",
       "    </tr>\n",
       "    <tr>\n",
       "      <th>38</th>\n",
       "      <td>CAMEO_DEU_2015</td>\n",
       "      <td>CAMEO classification 2015 - detailled classifi...</td>\n",
       "      <td>7E</td>\n",
       "      <td>Interested Retirees</td>\n",
       "      <td>False</td>\n",
       "    </tr>\n",
       "    <tr>\n",
       "      <th>39</th>\n",
       "      <td>CAMEO_DEU_2015</td>\n",
       "      <td>CAMEO classification 2015 - detailled classifi...</td>\n",
       "      <td>8A</td>\n",
       "      <td>Multi-culteral</td>\n",
       "      <td>False</td>\n",
       "    </tr>\n",
       "    <tr>\n",
       "      <th>40</th>\n",
       "      <td>CAMEO_DEU_2015</td>\n",
       "      <td>CAMEO classification 2015 - detailled classifi...</td>\n",
       "      <td>8B</td>\n",
       "      <td>Young &amp; Mobile</td>\n",
       "      <td>False</td>\n",
       "    </tr>\n",
       "    <tr>\n",
       "      <th>41</th>\n",
       "      <td>CAMEO_DEU_2015</td>\n",
       "      <td>CAMEO classification 2015 - detailled classifi...</td>\n",
       "      <td>8C</td>\n",
       "      <td>Prefab</td>\n",
       "      <td>False</td>\n",
       "    </tr>\n",
       "    <tr>\n",
       "      <th>42</th>\n",
       "      <td>CAMEO_DEU_2015</td>\n",
       "      <td>CAMEO classification 2015 - detailled classifi...</td>\n",
       "      <td>8D</td>\n",
       "      <td>Town Seniors</td>\n",
       "      <td>False</td>\n",
       "    </tr>\n",
       "    <tr>\n",
       "      <th>43</th>\n",
       "      <td>CAMEO_DEU_2015</td>\n",
       "      <td>CAMEO classification 2015 - detailled classifi...</td>\n",
       "      <td>9A</td>\n",
       "      <td>First Shared Apartment</td>\n",
       "      <td>False</td>\n",
       "    </tr>\n",
       "    <tr>\n",
       "      <th>44</th>\n",
       "      <td>CAMEO_DEU_2015</td>\n",
       "      <td>CAMEO classification 2015 - detailled classifi...</td>\n",
       "      <td>9B</td>\n",
       "      <td>Temporary Workers</td>\n",
       "      <td>False</td>\n",
       "    </tr>\n",
       "    <tr>\n",
       "      <th>45</th>\n",
       "      <td>CAMEO_DEU_2015</td>\n",
       "      <td>CAMEO classification 2015 - detailled classifi...</td>\n",
       "      <td>9C</td>\n",
       "      <td>Afternoon Talk Show</td>\n",
       "      <td>False</td>\n",
       "    </tr>\n",
       "    <tr>\n",
       "      <th>46</th>\n",
       "      <td>CAMEO_DEU_2015</td>\n",
       "      <td>CAMEO classification 2015 - detailled classifi...</td>\n",
       "      <td>9D</td>\n",
       "      <td>Mini-Jobber</td>\n",
       "      <td>False</td>\n",
       "    </tr>\n",
       "    <tr>\n",
       "      <th>47</th>\n",
       "      <td>CAMEO_DEU_2015</td>\n",
       "      <td>CAMEO classification 2015 - detailled classifi...</td>\n",
       "      <td>9E</td>\n",
       "      <td>Socking Away</td>\n",
       "      <td>False</td>\n",
       "    </tr>\n",
       "    <tr>\n",
       "      <th>48</th>\n",
       "      <td>GEBURTSJAHR</td>\n",
       "      <td>year of birth</td>\n",
       "      <td>…</td>\n",
       "      <td>numeric value</td>\n",
       "      <td>False</td>\n",
       "    </tr>\n",
       "    <tr>\n",
       "      <th>49</th>\n",
       "      <td>KBA13_ANZAHL_PKW</td>\n",
       "      <td>number of cars in the PLZ8</td>\n",
       "      <td>…</td>\n",
       "      <td>numeric value</td>\n",
       "      <td>False</td>\n",
       "    </tr>\n",
       "    <tr>\n",
       "      <th>50</th>\n",
       "      <td>MIN_GEBAEUDEJAHR</td>\n",
       "      <td>year the building was first mentioned in our d...</td>\n",
       "      <td>…</td>\n",
       "      <td>numeric value</td>\n",
       "      <td>False</td>\n",
       "    </tr>\n",
       "    <tr>\n",
       "      <th>51</th>\n",
       "      <td>ORTSGR_KLS9</td>\n",
       "      <td>size of the community</td>\n",
       "      <td>-1</td>\n",
       "      <td>unknown</td>\n",
       "      <td>True</td>\n",
       "    </tr>\n",
       "    <tr>\n",
       "      <th>52</th>\n",
       "      <td>OST_WEST_KZ</td>\n",
       "      <td>flag indicating the former GDR/FRG</td>\n",
       "      <td>O</td>\n",
       "      <td>East (GDR)</td>\n",
       "      <td>False</td>\n",
       "    </tr>\n",
       "    <tr>\n",
       "      <th>53</th>\n",
       "      <td>OST_WEST_KZ</td>\n",
       "      <td>flag indicating the former GDR/FRG</td>\n",
       "      <td>W</td>\n",
       "      <td>West (FRG)</td>\n",
       "      <td>False</td>\n",
       "    </tr>\n",
       "  </tbody>\n",
       "</table>\n",
       "</div>"
      ],
      "text/plain": [
       "              Attribute                                        Description  \\\n",
       "0   ANZ_HAUSHALTE_AKTIV               number of households in the building   \n",
       "1          ANZ_HH_TITEL        number of academic title holder in building   \n",
       "2          ANZ_PERSONEN           number of adult persons in the household   \n",
       "3             ANZ_TITEL  number of professional title holder in household    \n",
       "4        CAMEO_DEU_2015  CAMEO classification 2015 - detailled classifi...   \n",
       "5        CAMEO_DEU_2015  CAMEO classification 2015 - detailled classifi...   \n",
       "6        CAMEO_DEU_2015  CAMEO classification 2015 - detailled classifi...   \n",
       "7        CAMEO_DEU_2015  CAMEO classification 2015 - detailled classifi...   \n",
       "8        CAMEO_DEU_2015  CAMEO classification 2015 - detailled classifi...   \n",
       "9        CAMEO_DEU_2015  CAMEO classification 2015 - detailled classifi...   \n",
       "10       CAMEO_DEU_2015  CAMEO classification 2015 - detailled classifi...   \n",
       "11       CAMEO_DEU_2015  CAMEO classification 2015 - detailled classifi...   \n",
       "12       CAMEO_DEU_2015  CAMEO classification 2015 - detailled classifi...   \n",
       "13       CAMEO_DEU_2015  CAMEO classification 2015 - detailled classifi...   \n",
       "14       CAMEO_DEU_2015  CAMEO classification 2015 - detailled classifi...   \n",
       "15       CAMEO_DEU_2015  CAMEO classification 2015 - detailled classifi...   \n",
       "16       CAMEO_DEU_2015  CAMEO classification 2015 - detailled classifi...   \n",
       "17       CAMEO_DEU_2015  CAMEO classification 2015 - detailled classifi...   \n",
       "18       CAMEO_DEU_2015  CAMEO classification 2015 - detailled classifi...   \n",
       "19       CAMEO_DEU_2015  CAMEO classification 2015 - detailled classifi...   \n",
       "20       CAMEO_DEU_2015  CAMEO classification 2015 - detailled classifi...   \n",
       "21       CAMEO_DEU_2015  CAMEO classification 2015 - detailled classifi...   \n",
       "22       CAMEO_DEU_2015  CAMEO classification 2015 - detailled classifi...   \n",
       "23       CAMEO_DEU_2015  CAMEO classification 2015 - detailled classifi...   \n",
       "24       CAMEO_DEU_2015  CAMEO classification 2015 - detailled classifi...   \n",
       "25       CAMEO_DEU_2015  CAMEO classification 2015 - detailled classifi...   \n",
       "26       CAMEO_DEU_2015  CAMEO classification 2015 - detailled classifi...   \n",
       "27       CAMEO_DEU_2015  CAMEO classification 2015 - detailled classifi...   \n",
       "28       CAMEO_DEU_2015  CAMEO classification 2015 - detailled classifi...   \n",
       "29       CAMEO_DEU_2015  CAMEO classification 2015 - detailled classifi...   \n",
       "30       CAMEO_DEU_2015  CAMEO classification 2015 - detailled classifi...   \n",
       "31       CAMEO_DEU_2015  CAMEO classification 2015 - detailled classifi...   \n",
       "32       CAMEO_DEU_2015  CAMEO classification 2015 - detailled classifi...   \n",
       "33       CAMEO_DEU_2015  CAMEO classification 2015 - detailled classifi...   \n",
       "34       CAMEO_DEU_2015  CAMEO classification 2015 - detailled classifi...   \n",
       "35       CAMEO_DEU_2015  CAMEO classification 2015 - detailled classifi...   \n",
       "36       CAMEO_DEU_2015  CAMEO classification 2015 - detailled classifi...   \n",
       "37       CAMEO_DEU_2015  CAMEO classification 2015 - detailled classifi...   \n",
       "38       CAMEO_DEU_2015  CAMEO classification 2015 - detailled classifi...   \n",
       "39       CAMEO_DEU_2015  CAMEO classification 2015 - detailled classifi...   \n",
       "40       CAMEO_DEU_2015  CAMEO classification 2015 - detailled classifi...   \n",
       "41       CAMEO_DEU_2015  CAMEO classification 2015 - detailled classifi...   \n",
       "42       CAMEO_DEU_2015  CAMEO classification 2015 - detailled classifi...   \n",
       "43       CAMEO_DEU_2015  CAMEO classification 2015 - detailled classifi...   \n",
       "44       CAMEO_DEU_2015  CAMEO classification 2015 - detailled classifi...   \n",
       "45       CAMEO_DEU_2015  CAMEO classification 2015 - detailled classifi...   \n",
       "46       CAMEO_DEU_2015  CAMEO classification 2015 - detailled classifi...   \n",
       "47       CAMEO_DEU_2015  CAMEO classification 2015 - detailled classifi...   \n",
       "48          GEBURTSJAHR                                      year of birth   \n",
       "49     KBA13_ANZAHL_PKW                         number of cars in the PLZ8   \n",
       "50     MIN_GEBAEUDEJAHR  year the building was first mentioned in our d...   \n",
       "51          ORTSGR_KLS9                              size of the community   \n",
       "52          OST_WEST_KZ                 flag indicating the former GDR/FRG   \n",
       "53          OST_WEST_KZ                 flag indicating the former GDR/FRG   \n",
       "\n",
       "   Value                                    Meaning Missing  \n",
       "0      …  numeric value (typically coded from 1-10)   False  \n",
       "1      …  numeric value (typically coded from 1-10)   False  \n",
       "2      …   numeric value (typically coded from 1-3)   False  \n",
       "3      …  numeric value (typically coded from 1-10)   False  \n",
       "4     1A                          Work-Life-Balance   False  \n",
       "5     1B                          Wealthy Best Ager   False  \n",
       "6     1C                      Successful Songwriter   False  \n",
       "7     1D                               Old Nobility   False  \n",
       "8     1E                              City Nobility   False  \n",
       "9     2A                               Cottage Chic   False  \n",
       "10    2B                               Noble Jogger   False  \n",
       "11    2C                        Established gourmet   False  \n",
       "12    2D                            Fine Management   False  \n",
       "13    3A                            Career & Family   False  \n",
       "14    3B                     Powershopping Families   False  \n",
       "15    3C                         Rural Neighborhood   False  \n",
       "16    3D                          Secure Retirement   False  \n",
       "17    4A                             Family Starter   False  \n",
       "18    4B                                Family Life   False  \n",
       "19    4C                             String Trimmer   False  \n",
       "20    4D                                 Empty Nest   False  \n",
       "21    4E                                Golden Ager   False  \n",
       "22    5A                          Younger Employees   False  \n",
       "23    5B                            Suddenly Family   False  \n",
       "24    5C                               Family First   False  \n",
       "25    5D                       Stock Market Junkies   False  \n",
       "26    5E                               Coffee Rider   False  \n",
       "27    5F                          Active Retirement   False  \n",
       "28    6A                                 Jobstarter   False  \n",
       "29    6B                            Petty Bourgeois   False  \n",
       "30    6C                           Long-established   False  \n",
       "31    6D                              Sportgardener   False  \n",
       "32    6E                              Urban Parents   False  \n",
       "33    6F                               Frugal Aging   False  \n",
       "34    7A                                 Journeymen   False  \n",
       "35    7B                                Mantaplatte   False  \n",
       "36    7C                             Factory Worker   False  \n",
       "37    7D                                Rear Window   False  \n",
       "38    7E                        Interested Retirees   False  \n",
       "39    8A                             Multi-culteral   False  \n",
       "40    8B                             Young & Mobile   False  \n",
       "41    8C                                     Prefab   False  \n",
       "42    8D                               Town Seniors   False  \n",
       "43    9A                     First Shared Apartment   False  \n",
       "44    9B                          Temporary Workers   False  \n",
       "45    9C                        Afternoon Talk Show   False  \n",
       "46    9D                                Mini-Jobber   False  \n",
       "47    9E                               Socking Away   False  \n",
       "48     …                              numeric value   False  \n",
       "49     …                              numeric value   False  \n",
       "50     …                              numeric value   False  \n",
       "51    -1                                    unknown    True  \n",
       "52     O                                 East (GDR)   False  \n",
       "53     W                                 West (FRG)   False  "
      ]
     },
     "execution_count": 18,
     "metadata": {},
     "output_type": "execute_result"
    }
   ],
   "source": [
    "categorical_attributes_info = attributes.loc[attributes.Value.apply(lambda x: (type(x)==str) & (x!='-1, 0') & (x!='-1, 9')), :]\n",
    "categorical_attributes_info = categorical_attributes_info.reset_index(drop=True)\n",
    "categorical_attributes_info"
   ]
  },
  {
   "cell_type": "code",
   "execution_count": 19,
   "metadata": {},
   "outputs": [
    {
     "data": {
      "text/plain": [
       "'…'"
      ]
     },
     "execution_count": 19,
     "metadata": {},
     "output_type": "execute_result"
    }
   ],
   "source": [
    "categorical_attributes_info.loc[1, 'Value']"
   ]
  },
  {
   "cell_type": "code",
   "execution_count": 20,
   "metadata": {},
   "outputs": [
    {
     "data": {
      "text/plain": [
       "array(['CAMEO_DEU_2015', 'ORTSGR_KLS9', 'OST_WEST_KZ'], dtype=object)"
      ]
     },
     "execution_count": 20,
     "metadata": {},
     "output_type": "execute_result"
    }
   ],
   "source": [
    "# slicing off all numeric value cols from the above\n",
    "categorical_attributes_info = categorical_attributes_info[categorical_attributes_info.Value!='…']\n",
    "categorical_attributes = categorical_attributes_info.Attribute.unique()\n",
    "categorical_attributes"
   ]
  },
  {
   "cell_type": "code",
   "execution_count": 21,
   "metadata": {},
   "outputs": [
    {
     "data": {
      "text/html": [
       "<div>\n",
       "<style scoped>\n",
       "    .dataframe tbody tr th:only-of-type {\n",
       "        vertical-align: middle;\n",
       "    }\n",
       "\n",
       "    .dataframe tbody tr th {\n",
       "        vertical-align: top;\n",
       "    }\n",
       "\n",
       "    .dataframe thead th {\n",
       "        text-align: right;\n",
       "    }\n",
       "</style>\n",
       "<table border=\"1\" class=\"dataframe\">\n",
       "  <thead>\n",
       "    <tr style=\"text-align: right;\">\n",
       "      <th></th>\n",
       "      <th>Attribute</th>\n",
       "      <th>Description</th>\n",
       "      <th>Value</th>\n",
       "      <th>Meaning</th>\n",
       "      <th>Missing</th>\n",
       "    </tr>\n",
       "  </thead>\n",
       "  <tbody>\n",
       "    <tr>\n",
       "      <th>0</th>\n",
       "      <td>ANREDE_KZ</td>\n",
       "      <td>gender</td>\n",
       "      <td>1</td>\n",
       "      <td>male</td>\n",
       "      <td>False</td>\n",
       "    </tr>\n",
       "    <tr>\n",
       "      <th>1</th>\n",
       "      <td>ANREDE_KZ</td>\n",
       "      <td>gender</td>\n",
       "      <td>2</td>\n",
       "      <td>female</td>\n",
       "      <td>False</td>\n",
       "    </tr>\n",
       "    <tr>\n",
       "      <th>2</th>\n",
       "      <td>BIP_FLAG</td>\n",
       "      <td>business-flag indicating companies in the buil...</td>\n",
       "      <td>0</td>\n",
       "      <td>no company in the building</td>\n",
       "      <td>False</td>\n",
       "    </tr>\n",
       "    <tr>\n",
       "      <th>3</th>\n",
       "      <td>BIP_FLAG</td>\n",
       "      <td>business-flag indicating companies in the buil...</td>\n",
       "      <td>1</td>\n",
       "      <td>company in the building</td>\n",
       "      <td>False</td>\n",
       "    </tr>\n",
       "    <tr>\n",
       "      <th>4</th>\n",
       "      <td>GREEN_AVANTGARDE</td>\n",
       "      <td>Green avantgarde</td>\n",
       "      <td>0</td>\n",
       "      <td>doesn't belong to the green avantgarde</td>\n",
       "      <td>False</td>\n",
       "    </tr>\n",
       "    <tr>\n",
       "      <th>5</th>\n",
       "      <td>GREEN_AVANTGARDE</td>\n",
       "      <td>the environmental sustainability is the domina...</td>\n",
       "      <td>1</td>\n",
       "      <td>belongs to the green avantgarde</td>\n",
       "      <td>False</td>\n",
       "    </tr>\n",
       "    <tr>\n",
       "      <th>6</th>\n",
       "      <td>KBA05_SEG6</td>\n",
       "      <td>share of upper class cars (BMW 7er etc.) in th...</td>\n",
       "      <td>0</td>\n",
       "      <td>none</td>\n",
       "      <td>False</td>\n",
       "    </tr>\n",
       "    <tr>\n",
       "      <th>7</th>\n",
       "      <td>KBA05_SEG6</td>\n",
       "      <td>share of upper class cars (BMW 7er etc.) in th...</td>\n",
       "      <td>1</td>\n",
       "      <td>some</td>\n",
       "      <td>False</td>\n",
       "    </tr>\n",
       "    <tr>\n",
       "      <th>8</th>\n",
       "      <td>OST_WEST_KZ</td>\n",
       "      <td>flag indicating the former GDR/FRG</td>\n",
       "      <td>O</td>\n",
       "      <td>East (GDR)</td>\n",
       "      <td>False</td>\n",
       "    </tr>\n",
       "    <tr>\n",
       "      <th>9</th>\n",
       "      <td>OST_WEST_KZ</td>\n",
       "      <td>flag indicating the former GDR/FRG</td>\n",
       "      <td>W</td>\n",
       "      <td>West (FRG)</td>\n",
       "      <td>False</td>\n",
       "    </tr>\n",
       "    <tr>\n",
       "      <th>10</th>\n",
       "      <td>SOHO_FLAG</td>\n",
       "      <td>small office/home office flag</td>\n",
       "      <td>0</td>\n",
       "      <td>no small office/home office</td>\n",
       "      <td>False</td>\n",
       "    </tr>\n",
       "    <tr>\n",
       "      <th>11</th>\n",
       "      <td>SOHO_FLAG</td>\n",
       "      <td>small office/home office flag</td>\n",
       "      <td>1</td>\n",
       "      <td>small office/home office</td>\n",
       "      <td>False</td>\n",
       "    </tr>\n",
       "    <tr>\n",
       "      <th>12</th>\n",
       "      <td>VERS_TYP</td>\n",
       "      <td>insurance typology</td>\n",
       "      <td>1</td>\n",
       "      <td>social-safety driven</td>\n",
       "      <td>False</td>\n",
       "    </tr>\n",
       "    <tr>\n",
       "      <th>13</th>\n",
       "      <td>VERS_TYP</td>\n",
       "      <td>insurance typology</td>\n",
       "      <td>2</td>\n",
       "      <td>individualistic-accepting risks</td>\n",
       "      <td>False</td>\n",
       "    </tr>\n",
       "  </tbody>\n",
       "</table>\n",
       "</div>"
      ],
      "text/plain": [
       "           Attribute                                        Description Value  \\\n",
       "0          ANREDE_KZ                                             gender     1   \n",
       "1          ANREDE_KZ                                             gender     2   \n",
       "2           BIP_FLAG  business-flag indicating companies in the buil...     0   \n",
       "3           BIP_FLAG  business-flag indicating companies in the buil...     1   \n",
       "4   GREEN_AVANTGARDE                                   Green avantgarde     0   \n",
       "5   GREEN_AVANTGARDE  the environmental sustainability is the domina...     1   \n",
       "6         KBA05_SEG6  share of upper class cars (BMW 7er etc.) in th...     0   \n",
       "7         KBA05_SEG6  share of upper class cars (BMW 7er etc.) in th...     1   \n",
       "8        OST_WEST_KZ                 flag indicating the former GDR/FRG     O   \n",
       "9        OST_WEST_KZ                 flag indicating the former GDR/FRG     W   \n",
       "10         SOHO_FLAG                      small office/home office flag     0   \n",
       "11         SOHO_FLAG                      small office/home office flag     1   \n",
       "12          VERS_TYP                                insurance typology      1   \n",
       "13          VERS_TYP                                insurance typology      2   \n",
       "\n",
       "                                   Meaning Missing  \n",
       "0                                     male   False  \n",
       "1                                   female   False  \n",
       "2               no company in the building   False  \n",
       "3                  company in the building   False  \n",
       "4   doesn't belong to the green avantgarde   False  \n",
       "5          belongs to the green avantgarde   False  \n",
       "6                                     none   False  \n",
       "7                                     some   False  \n",
       "8                               East (GDR)   False  \n",
       "9                               West (FRG)   False  \n",
       "10             no small office/home office   False  \n",
       "11                small office/home office   False  \n",
       "12                    social-safety driven   False  \n",
       "13         individualistic-accepting risks   False  "
      ]
     },
     "execution_count": 21,
     "metadata": {},
     "output_type": "execute_result"
    }
   ],
   "source": [
    "binary_attrib = attributes.query(\"Missing == False\").groupby('Attribute').size()\n",
    "binary_attrib_index = binary_attrib[binary_attrib  == 2].index\n",
    "binary_attributes_info = attributes.loc[attributes.Attribute.apply(lambda x: x in binary_attrib_index), :].query(\"Missing == False\")\n",
    "binary_attributes_info.reset_index(inplace=True, drop=True)\n",
    "binary_attributes_info"
   ]
  },
  {
   "cell_type": "code",
   "execution_count": 22,
   "metadata": {},
   "outputs": [],
   "source": [
    "categorical_cols = set(list(categorical_attributes_info.Attribute.unique()) + list(binary_attributes_info.Attribute.unique()))"
   ]
  },
  {
   "cell_type": "code",
   "execution_count": 23,
   "metadata": {},
   "outputs": [],
   "source": [
    "typ_attributes_slicer = attributes.Attribute.str.contains('TYP')\n",
    "klasse_attributes_slicer = attributes.Attribute.str.contains('KLASSE')\n",
    "typ_descr_slicer = attributes.Description.str.contains('typ')\n",
    "class_descr_slicer = attributes.Description.str.contains('class')\n",
    "klasse_type_slicer = (typ_attributes_slicer | klasse_attributes_slicer | typ_descr_slicer | class_descr_slicer)\n",
    "\n",
    "klasse_type_attributes = attributes.loc[klasse_type_slicer, :]"
   ]
  },
  {
   "cell_type": "code",
   "execution_count": 24,
   "metadata": {},
   "outputs": [
    {
     "data": {
      "text/plain": [
       "['KBA13_SEG_MITTELKLASSE',\n",
       " 'ORTSGR_KLS9',\n",
       " 'VERS_TYP',\n",
       " 'ALTERSKATEGORIE_GROB',\n",
       " 'GFK_URLAUBERTYP',\n",
       " 'KBA13_SEG_OBERKLASSE',\n",
       " 'KBA05_SEG4',\n",
       " 'KBA13_SEG_KOMPAKTKLASSE',\n",
       " 'KBA13_SEG_OBEREMITTELKLASSE',\n",
       " 'REGIOTYP',\n",
       " 'CAMEO_INTL_2015',\n",
       " 'KBA05_BAUMAX',\n",
       " 'SHOPPER_TYP',\n",
       " 'PLZ8_BAUMAX',\n",
       " 'ZABEOTYP',\n",
       " 'CAMEO_DEU_2015',\n",
       " 'LP_FAMILIE_GROB',\n",
       " 'KBA05_SEG3',\n",
       " 'KBA13_KRSSEG_OBER',\n",
       " 'KBA05_SEG6',\n",
       " 'LP_FAMILIE_FEIN',\n",
       " 'CAMEO_DEUG_2015',\n",
       " 'FINANZ_HAUSBAUER',\n",
       " 'GEBAEUDETYP_RASTER',\n",
       " 'KBA05_MOD2',\n",
       " 'RETOURTYP_BK_S',\n",
       " 'KBA05_KRSOBER',\n",
       " 'FINANZ_UNAUFFAELLIGER',\n",
       " 'FINANZ_VORSORGER',\n",
       " 'CJT_GESAMTTYP',\n",
       " 'AGER_TYP',\n",
       " 'FINANZ_SPARER',\n",
       " 'FINANZ_MINIMALIST',\n",
       " 'KBA05_MOD3',\n",
       " 'KBA05_MOD1',\n",
       " 'GEBAEUDETYP',\n",
       " 'FINANZ_ANLEGER',\n",
       " 'HEALTH_TYP',\n",
       " 'FINANZTYP',\n",
       " 'KBA05_SEG5',\n",
       " 'D19_KONSUMTYP']"
      ]
     },
     "execution_count": 24,
     "metadata": {},
     "output_type": "execute_result"
    }
   ],
   "source": [
    "klasse_type_cols = klasse_type_attributes.Attribute.unique()\n",
    "klasse_type_cols = list(set(klasse_type_cols)&set(azdias.columns))\n",
    "klasse_type_cols"
   ]
  },
  {
   "cell_type": "code",
   "execution_count": 25,
   "metadata": {},
   "outputs": [
    {
     "data": {
      "text/plain": [
       "['ORTSGR_KLS9',\n",
       " 'GFK_URLAUBERTYP',\n",
       " 'KBA13_SEG_OBERKLASSE',\n",
       " 'KBA05_SEG4',\n",
       " 'REGIOTYP',\n",
       " 'CAMEO_INTL_2015',\n",
       " 'KBA05_BAUMAX',\n",
       " 'ZABEOTYP',\n",
       " 'CAMEO_DEU_2015',\n",
       " 'LP_FAMILIE_GROB',\n",
       " 'KBA05_SEG3',\n",
       " 'LP_FAMILIE_FEIN',\n",
       " 'CAMEO_DEUG_2015',\n",
       " 'KBA05_MOD2',\n",
       " 'CJT_GESAMTTYP',\n",
       " 'KBA05_MOD3',\n",
       " 'KBA05_MOD1',\n",
       " 'GEBAEUDETYP',\n",
       " 'FINANZTYP',\n",
       " 'KBA05_SEG5',\n",
       " 'D19_KONSUMTYP']"
      ]
     },
     "execution_count": 25,
     "metadata": {},
     "output_type": "execute_result"
    }
   ],
   "source": [
    "high_cardinality_klasse_type_cols = [col for col in klasse_type_cols if (azdias[col].nunique()>5)]\n",
    "high_cardinality_klasse_type_cols"
   ]
  },
  {
   "cell_type": "code",
   "execution_count": 26,
   "metadata": {},
   "outputs": [
    {
     "data": {
      "text/plain": [
       "Index(['CAMEO_DEU_2015', 'CAMEO_DEUG_2015', 'CAMEO_INTL_2015',\n",
       "       'D19_LETZTER_KAUF_BRANCHE', 'EINGEFUEGT_AM', 'OST_WEST_KZ'],\n",
       "      dtype='object')"
      ]
     },
     "execution_count": 26,
     "metadata": {},
     "output_type": "execute_result"
    }
   ],
   "source": [
    "cols_cat = azdias.select_dtypes(exclude=np.number).columns\n",
    "cols_cat"
   ]
  },
  {
   "cell_type": "code",
   "execution_count": 27,
   "metadata": {},
   "outputs": [],
   "source": [
    "from src.pipelines import Clean"
   ]
  },
  {
   "cell_type": "code",
   "execution_count": 28,
   "metadata": {},
   "outputs": [],
   "source": [
    "clean_data = Clean(azdias)"
   ]
  },
  {
   "cell_type": "markdown",
   "metadata": {},
   "source": [
    "As mentioned in the warning by the read_csv call these columns seem to have mixed data types. Before wed deal with that problem we will replace the **'X'** or **'XX'** values with NaNsas these strings represent unknowns/missing values"
   ]
  },
  {
   "cell_type": "code",
   "execution_count": 29,
   "metadata": {},
   "outputs": [
    {
     "name": "stdout",
     "output_type": "stream",
     "text": [
      "Unique Values in Column CAMEO_DEUG_2015:  [nan 8.0 4.0 2.0 6.0 1.0 9.0 5.0 7.0 3.0 '4' '3' '7' '2' '8' '9' '6' '5'\n",
      " '1']\n",
      "Unique Values in Column CAMEO_DEU_2015:  [nan '8A' '4C' '2A' '6B' '8C' '4A' '2D' '1A' '1E' '9D' '5C' '8B' '7A' '5D'\n",
      " '9E' '9B' '1B' '3D' '4E' '4B' '3C' '5A' '7B' '9A' '6D' '6E' '2C' '7C'\n",
      " '9C' '7D' '5E' '1D' '8D' '6C' '6A' '5B' '4D' '3A' '2B' '7E' '3B' '6F'\n",
      " '5F' '1C']\n",
      "Unique Values in Column CAMEO_INTL_2015:  [nan 51.0 24.0 12.0 43.0 54.0 22.0 14.0 13.0 15.0 33.0 41.0 34.0 55.0 25.0\n",
      " 23.0 31.0 52.0 35.0 45.0 44.0 32.0 '22' '24' '41' '12' '54' '51' '44'\n",
      " '35' '23' '25' '14' '34' '52' '55' '31' '32' '15' '13' '43' '33' '45']\n"
     ]
    }
   ],
   "source": [
    "# Replacing 'X' & 'XX' Values\n",
    "clean_data.fit_transform('CAMEO_DEUG_2015', {'X': np.nan})\n",
    "clean_data.fit_transform('CAMEO_INTL_2015', {'XX': np.nan})\n",
    "clean_data.fit_transform('CAMEO_DEU_2015', {'XX': np.nan})\n",
    "\n",
    "# Checking the col unique values after replacement \n",
    "for col in cameo_cols:\n",
    "    get_unique_vals(azdias, col)"
   ]
  },
  {
   "cell_type": "markdown",
   "metadata": {},
   "source": [
    "Convert string values to int so that the columns have right dtype"
   ]
  },
  {
   "cell_type": "code",
   "execution_count": 30,
   "metadata": {},
   "outputs": [
    {
     "data": {
      "text/plain": [
       "CAMEO_DEUG_2015    object\n",
       "CAMEO_INTL_2015    object\n",
       "dtype: object"
      ]
     },
     "execution_count": 30,
     "metadata": {},
     "output_type": "execute_result"
    }
   ],
   "source": [
    "azdias.iloc[:, 18:20].dtypes"
   ]
  },
  {
   "cell_type": "code",
   "execution_count": 31,
   "metadata": {},
   "outputs": [],
   "source": [
    "clean_data.fit_transform('CAMEO_DEUG_2015', lambda x: eval(x) if type(x)==str else x)\n",
    "clean_data.fit_transform('CAMEO_INTL_2015', lambda x: eval(x) if type(x)==str else x)"
   ]
  },
  {
   "cell_type": "code",
   "execution_count": 32,
   "metadata": {},
   "outputs": [
    {
     "data": {
      "text/plain": [
       "CAMEO_DEUG_2015    float64\n",
       "CAMEO_INTL_2015    float64\n",
       "dtype: object"
      ]
     },
     "execution_count": 32,
     "metadata": {},
     "output_type": "execute_result"
    }
   ],
   "source": [
    "azdias.iloc[:, 18:20].dtypes"
   ]
  },
  {
   "cell_type": "markdown",
   "metadata": {},
   "source": [
    "Quick glance at the data we have (including metadata)"
   ]
  },
  {
   "cell_type": "code",
   "execution_count": 33,
   "metadata": {},
   "outputs": [
    {
     "data": {
      "text/html": [
       "<div>\n",
       "<style scoped>\n",
       "    .dataframe tbody tr th:only-of-type {\n",
       "        vertical-align: middle;\n",
       "    }\n",
       "\n",
       "    .dataframe tbody tr th {\n",
       "        vertical-align: top;\n",
       "    }\n",
       "\n",
       "    .dataframe thead th {\n",
       "        text-align: right;\n",
       "    }\n",
       "</style>\n",
       "<table border=\"1\" class=\"dataframe\">\n",
       "  <thead>\n",
       "    <tr style=\"text-align: right;\">\n",
       "      <th></th>\n",
       "      <th>LNR</th>\n",
       "      <th>AGER_TYP</th>\n",
       "      <th>AKT_DAT_KL</th>\n",
       "      <th>ALTER_HH</th>\n",
       "      <th>ALTER_KIND1</th>\n",
       "      <th>ALTER_KIND2</th>\n",
       "      <th>ALTER_KIND3</th>\n",
       "      <th>ALTER_KIND4</th>\n",
       "      <th>ALTERSKATEGORIE_FEIN</th>\n",
       "      <th>ANZ_HAUSHALTE_AKTIV</th>\n",
       "      <th>...</th>\n",
       "      <th>VHN</th>\n",
       "      <th>VK_DHT4A</th>\n",
       "      <th>VK_DISTANZ</th>\n",
       "      <th>VK_ZG11</th>\n",
       "      <th>W_KEIT_KIND_HH</th>\n",
       "      <th>WOHNDAUER_2008</th>\n",
       "      <th>WOHNLAGE</th>\n",
       "      <th>ZABEOTYP</th>\n",
       "      <th>ANREDE_KZ</th>\n",
       "      <th>ALTERSKATEGORIE_GROB</th>\n",
       "    </tr>\n",
       "  </thead>\n",
       "  <tbody>\n",
       "    <tr>\n",
       "      <th>0</th>\n",
       "      <td>910215</td>\n",
       "      <td>-1</td>\n",
       "      <td>NaN</td>\n",
       "      <td>NaN</td>\n",
       "      <td>NaN</td>\n",
       "      <td>NaN</td>\n",
       "      <td>NaN</td>\n",
       "      <td>NaN</td>\n",
       "      <td>NaN</td>\n",
       "      <td>NaN</td>\n",
       "      <td>...</td>\n",
       "      <td>NaN</td>\n",
       "      <td>NaN</td>\n",
       "      <td>NaN</td>\n",
       "      <td>NaN</td>\n",
       "      <td>NaN</td>\n",
       "      <td>NaN</td>\n",
       "      <td>NaN</td>\n",
       "      <td>3</td>\n",
       "      <td>1</td>\n",
       "      <td>2</td>\n",
       "    </tr>\n",
       "    <tr>\n",
       "      <th>1</th>\n",
       "      <td>910220</td>\n",
       "      <td>-1</td>\n",
       "      <td>9.0</td>\n",
       "      <td>0.0</td>\n",
       "      <td>NaN</td>\n",
       "      <td>NaN</td>\n",
       "      <td>NaN</td>\n",
       "      <td>NaN</td>\n",
       "      <td>21.0</td>\n",
       "      <td>11.0</td>\n",
       "      <td>...</td>\n",
       "      <td>4.0</td>\n",
       "      <td>8.0</td>\n",
       "      <td>11.0</td>\n",
       "      <td>10.0</td>\n",
       "      <td>3.0</td>\n",
       "      <td>9.0</td>\n",
       "      <td>4.0</td>\n",
       "      <td>5</td>\n",
       "      <td>2</td>\n",
       "      <td>1</td>\n",
       "    </tr>\n",
       "    <tr>\n",
       "      <th>2</th>\n",
       "      <td>910225</td>\n",
       "      <td>-1</td>\n",
       "      <td>9.0</td>\n",
       "      <td>17.0</td>\n",
       "      <td>NaN</td>\n",
       "      <td>NaN</td>\n",
       "      <td>NaN</td>\n",
       "      <td>NaN</td>\n",
       "      <td>17.0</td>\n",
       "      <td>10.0</td>\n",
       "      <td>...</td>\n",
       "      <td>2.0</td>\n",
       "      <td>9.0</td>\n",
       "      <td>9.0</td>\n",
       "      <td>6.0</td>\n",
       "      <td>3.0</td>\n",
       "      <td>9.0</td>\n",
       "      <td>2.0</td>\n",
       "      <td>5</td>\n",
       "      <td>2</td>\n",
       "      <td>3</td>\n",
       "    </tr>\n",
       "    <tr>\n",
       "      <th>3</th>\n",
       "      <td>910226</td>\n",
       "      <td>2</td>\n",
       "      <td>1.0</td>\n",
       "      <td>13.0</td>\n",
       "      <td>NaN</td>\n",
       "      <td>NaN</td>\n",
       "      <td>NaN</td>\n",
       "      <td>NaN</td>\n",
       "      <td>13.0</td>\n",
       "      <td>1.0</td>\n",
       "      <td>...</td>\n",
       "      <td>0.0</td>\n",
       "      <td>7.0</td>\n",
       "      <td>10.0</td>\n",
       "      <td>11.0</td>\n",
       "      <td>NaN</td>\n",
       "      <td>9.0</td>\n",
       "      <td>7.0</td>\n",
       "      <td>3</td>\n",
       "      <td>2</td>\n",
       "      <td>4</td>\n",
       "    </tr>\n",
       "    <tr>\n",
       "      <th>4</th>\n",
       "      <td>910241</td>\n",
       "      <td>-1</td>\n",
       "      <td>1.0</td>\n",
       "      <td>20.0</td>\n",
       "      <td>NaN</td>\n",
       "      <td>NaN</td>\n",
       "      <td>NaN</td>\n",
       "      <td>NaN</td>\n",
       "      <td>14.0</td>\n",
       "      <td>3.0</td>\n",
       "      <td>...</td>\n",
       "      <td>2.0</td>\n",
       "      <td>3.0</td>\n",
       "      <td>5.0</td>\n",
       "      <td>4.0</td>\n",
       "      <td>2.0</td>\n",
       "      <td>9.0</td>\n",
       "      <td>3.0</td>\n",
       "      <td>4</td>\n",
       "      <td>1</td>\n",
       "      <td>3</td>\n",
       "    </tr>\n",
       "  </tbody>\n",
       "</table>\n",
       "<p>5 rows × 366 columns</p>\n",
       "</div>"
      ],
      "text/plain": [
       "      LNR  AGER_TYP  AKT_DAT_KL  ALTER_HH  ALTER_KIND1  ALTER_KIND2  \\\n",
       "0  910215        -1         NaN       NaN          NaN          NaN   \n",
       "1  910220        -1         9.0       0.0          NaN          NaN   \n",
       "2  910225        -1         9.0      17.0          NaN          NaN   \n",
       "3  910226         2         1.0      13.0          NaN          NaN   \n",
       "4  910241        -1         1.0      20.0          NaN          NaN   \n",
       "\n",
       "   ALTER_KIND3  ALTER_KIND4  ALTERSKATEGORIE_FEIN  ANZ_HAUSHALTE_AKTIV  ...  \\\n",
       "0          NaN          NaN                   NaN                  NaN  ...   \n",
       "1          NaN          NaN                  21.0                 11.0  ...   \n",
       "2          NaN          NaN                  17.0                 10.0  ...   \n",
       "3          NaN          NaN                  13.0                  1.0  ...   \n",
       "4          NaN          NaN                  14.0                  3.0  ...   \n",
       "\n",
       "   VHN  VK_DHT4A  VK_DISTANZ  VK_ZG11  W_KEIT_KIND_HH  WOHNDAUER_2008  \\\n",
       "0  NaN       NaN         NaN      NaN             NaN             NaN   \n",
       "1  4.0       8.0        11.0     10.0             3.0             9.0   \n",
       "2  2.0       9.0         9.0      6.0             3.0             9.0   \n",
       "3  0.0       7.0        10.0     11.0             NaN             9.0   \n",
       "4  2.0       3.0         5.0      4.0             2.0             9.0   \n",
       "\n",
       "   WOHNLAGE ZABEOTYP  ANREDE_KZ  ALTERSKATEGORIE_GROB  \n",
       "0       NaN        3          1                     2  \n",
       "1       4.0        5          2                     1  \n",
       "2       2.0        5          2                     3  \n",
       "3       7.0        3          2                     4  \n",
       "4       3.0        4          1                     3  \n",
       "\n",
       "[5 rows x 366 columns]"
      ]
     },
     "execution_count": 33,
     "metadata": {},
     "output_type": "execute_result"
    }
   ],
   "source": [
    "azdias.head()"
   ]
  },
  {
   "cell_type": "code",
   "execution_count": 34,
   "metadata": {},
   "outputs": [
    {
     "data": {
      "text/html": [
       "<div>\n",
       "<style scoped>\n",
       "    .dataframe tbody tr th:only-of-type {\n",
       "        vertical-align: middle;\n",
       "    }\n",
       "\n",
       "    .dataframe tbody tr th {\n",
       "        vertical-align: top;\n",
       "    }\n",
       "\n",
       "    .dataframe thead th {\n",
       "        text-align: right;\n",
       "    }\n",
       "</style>\n",
       "<table border=\"1\" class=\"dataframe\">\n",
       "  <thead>\n",
       "    <tr style=\"text-align: right;\">\n",
       "      <th></th>\n",
       "      <th>LNR</th>\n",
       "      <th>AGER_TYP</th>\n",
       "      <th>AKT_DAT_KL</th>\n",
       "      <th>ALTER_HH</th>\n",
       "      <th>ALTER_KIND1</th>\n",
       "      <th>ALTER_KIND2</th>\n",
       "      <th>ALTER_KIND3</th>\n",
       "      <th>ALTER_KIND4</th>\n",
       "      <th>ALTERSKATEGORIE_FEIN</th>\n",
       "      <th>ANZ_HAUSHALTE_AKTIV</th>\n",
       "      <th>...</th>\n",
       "      <th>VK_ZG11</th>\n",
       "      <th>W_KEIT_KIND_HH</th>\n",
       "      <th>WOHNDAUER_2008</th>\n",
       "      <th>WOHNLAGE</th>\n",
       "      <th>ZABEOTYP</th>\n",
       "      <th>PRODUCT_GROUP</th>\n",
       "      <th>CUSTOMER_GROUP</th>\n",
       "      <th>ONLINE_PURCHASE</th>\n",
       "      <th>ANREDE_KZ</th>\n",
       "      <th>ALTERSKATEGORIE_GROB</th>\n",
       "    </tr>\n",
       "  </thead>\n",
       "  <tbody>\n",
       "    <tr>\n",
       "      <th>0</th>\n",
       "      <td>9626</td>\n",
       "      <td>2</td>\n",
       "      <td>1.0</td>\n",
       "      <td>10.0</td>\n",
       "      <td>NaN</td>\n",
       "      <td>NaN</td>\n",
       "      <td>NaN</td>\n",
       "      <td>NaN</td>\n",
       "      <td>10.0</td>\n",
       "      <td>1.0</td>\n",
       "      <td>...</td>\n",
       "      <td>2.0</td>\n",
       "      <td>6.0</td>\n",
       "      <td>9.0</td>\n",
       "      <td>7.0</td>\n",
       "      <td>3</td>\n",
       "      <td>COSMETIC_AND_FOOD</td>\n",
       "      <td>MULTI_BUYER</td>\n",
       "      <td>0</td>\n",
       "      <td>1</td>\n",
       "      <td>4</td>\n",
       "    </tr>\n",
       "    <tr>\n",
       "      <th>1</th>\n",
       "      <td>9628</td>\n",
       "      <td>-1</td>\n",
       "      <td>9.0</td>\n",
       "      <td>11.0</td>\n",
       "      <td>NaN</td>\n",
       "      <td>NaN</td>\n",
       "      <td>NaN</td>\n",
       "      <td>NaN</td>\n",
       "      <td>NaN</td>\n",
       "      <td>NaN</td>\n",
       "      <td>...</td>\n",
       "      <td>3.0</td>\n",
       "      <td>0.0</td>\n",
       "      <td>9.0</td>\n",
       "      <td>NaN</td>\n",
       "      <td>3</td>\n",
       "      <td>FOOD</td>\n",
       "      <td>SINGLE_BUYER</td>\n",
       "      <td>0</td>\n",
       "      <td>1</td>\n",
       "      <td>4</td>\n",
       "    </tr>\n",
       "    <tr>\n",
       "      <th>2</th>\n",
       "      <td>143872</td>\n",
       "      <td>-1</td>\n",
       "      <td>1.0</td>\n",
       "      <td>6.0</td>\n",
       "      <td>NaN</td>\n",
       "      <td>NaN</td>\n",
       "      <td>NaN</td>\n",
       "      <td>NaN</td>\n",
       "      <td>0.0</td>\n",
       "      <td>1.0</td>\n",
       "      <td>...</td>\n",
       "      <td>11.0</td>\n",
       "      <td>6.0</td>\n",
       "      <td>9.0</td>\n",
       "      <td>2.0</td>\n",
       "      <td>3</td>\n",
       "      <td>COSMETIC_AND_FOOD</td>\n",
       "      <td>MULTI_BUYER</td>\n",
       "      <td>0</td>\n",
       "      <td>2</td>\n",
       "      <td>4</td>\n",
       "    </tr>\n",
       "    <tr>\n",
       "      <th>3</th>\n",
       "      <td>143873</td>\n",
       "      <td>1</td>\n",
       "      <td>1.0</td>\n",
       "      <td>8.0</td>\n",
       "      <td>NaN</td>\n",
       "      <td>NaN</td>\n",
       "      <td>NaN</td>\n",
       "      <td>NaN</td>\n",
       "      <td>8.0</td>\n",
       "      <td>0.0</td>\n",
       "      <td>...</td>\n",
       "      <td>2.0</td>\n",
       "      <td>NaN</td>\n",
       "      <td>9.0</td>\n",
       "      <td>7.0</td>\n",
       "      <td>1</td>\n",
       "      <td>COSMETIC</td>\n",
       "      <td>MULTI_BUYER</td>\n",
       "      <td>0</td>\n",
       "      <td>1</td>\n",
       "      <td>4</td>\n",
       "    </tr>\n",
       "    <tr>\n",
       "      <th>4</th>\n",
       "      <td>143874</td>\n",
       "      <td>-1</td>\n",
       "      <td>1.0</td>\n",
       "      <td>20.0</td>\n",
       "      <td>NaN</td>\n",
       "      <td>NaN</td>\n",
       "      <td>NaN</td>\n",
       "      <td>NaN</td>\n",
       "      <td>14.0</td>\n",
       "      <td>7.0</td>\n",
       "      <td>...</td>\n",
       "      <td>4.0</td>\n",
       "      <td>2.0</td>\n",
       "      <td>9.0</td>\n",
       "      <td>3.0</td>\n",
       "      <td>1</td>\n",
       "      <td>FOOD</td>\n",
       "      <td>MULTI_BUYER</td>\n",
       "      <td>0</td>\n",
       "      <td>1</td>\n",
       "      <td>3</td>\n",
       "    </tr>\n",
       "  </tbody>\n",
       "</table>\n",
       "<p>5 rows × 369 columns</p>\n",
       "</div>"
      ],
      "text/plain": [
       "      LNR  AGER_TYP  AKT_DAT_KL  ALTER_HH  ALTER_KIND1  ALTER_KIND2  \\\n",
       "0    9626         2         1.0      10.0          NaN          NaN   \n",
       "1    9628        -1         9.0      11.0          NaN          NaN   \n",
       "2  143872        -1         1.0       6.0          NaN          NaN   \n",
       "3  143873         1         1.0       8.0          NaN          NaN   \n",
       "4  143874        -1         1.0      20.0          NaN          NaN   \n",
       "\n",
       "   ALTER_KIND3  ALTER_KIND4  ALTERSKATEGORIE_FEIN  ANZ_HAUSHALTE_AKTIV  ...  \\\n",
       "0          NaN          NaN                  10.0                  1.0  ...   \n",
       "1          NaN          NaN                   NaN                  NaN  ...   \n",
       "2          NaN          NaN                   0.0                  1.0  ...   \n",
       "3          NaN          NaN                   8.0                  0.0  ...   \n",
       "4          NaN          NaN                  14.0                  7.0  ...   \n",
       "\n",
       "   VK_ZG11  W_KEIT_KIND_HH  WOHNDAUER_2008  WOHNLAGE  ZABEOTYP  \\\n",
       "0      2.0             6.0             9.0       7.0         3   \n",
       "1      3.0             0.0             9.0       NaN         3   \n",
       "2     11.0             6.0             9.0       2.0         3   \n",
       "3      2.0             NaN             9.0       7.0         1   \n",
       "4      4.0             2.0             9.0       3.0         1   \n",
       "\n",
       "       PRODUCT_GROUP  CUSTOMER_GROUP ONLINE_PURCHASE ANREDE_KZ  \\\n",
       "0  COSMETIC_AND_FOOD     MULTI_BUYER               0         1   \n",
       "1               FOOD    SINGLE_BUYER               0         1   \n",
       "2  COSMETIC_AND_FOOD     MULTI_BUYER               0         2   \n",
       "3           COSMETIC     MULTI_BUYER               0         1   \n",
       "4               FOOD     MULTI_BUYER               0         1   \n",
       "\n",
       "  ALTERSKATEGORIE_GROB  \n",
       "0                    4  \n",
       "1                    4  \n",
       "2                    4  \n",
       "3                    4  \n",
       "4                    3  \n",
       "\n",
       "[5 rows x 369 columns]"
      ]
     },
     "execution_count": 34,
     "metadata": {},
     "output_type": "execute_result"
    }
   ],
   "source": [
    "customers.head()"
   ]
  },
  {
   "cell_type": "code",
   "execution_count": 35,
   "metadata": {},
   "outputs": [
    {
     "data": {
      "text/html": [
       "<div>\n",
       "<style scoped>\n",
       "    .dataframe tbody tr th:only-of-type {\n",
       "        vertical-align: middle;\n",
       "    }\n",
       "\n",
       "    .dataframe tbody tr th {\n",
       "        vertical-align: top;\n",
       "    }\n",
       "\n",
       "    .dataframe thead th {\n",
       "        text-align: right;\n",
       "    }\n",
       "</style>\n",
       "<table border=\"1\" class=\"dataframe\">\n",
       "  <thead>\n",
       "    <tr style=\"text-align: right;\">\n",
       "      <th></th>\n",
       "      <th>Attribute</th>\n",
       "      <th>Description</th>\n",
       "      <th>Value</th>\n",
       "      <th>Meaning</th>\n",
       "      <th>Missing</th>\n",
       "      <th>Val</th>\n",
       "    </tr>\n",
       "  </thead>\n",
       "  <tbody>\n",
       "    <tr>\n",
       "      <th>0</th>\n",
       "      <td>AGER_TYP</td>\n",
       "      <td>best-ager typology</td>\n",
       "      <td>-1</td>\n",
       "      <td>unknown</td>\n",
       "      <td>True</td>\n",
       "      <td>[-1]</td>\n",
       "    </tr>\n",
       "    <tr>\n",
       "      <th>1</th>\n",
       "      <td>ALTERSKATEGORIE_GROB</td>\n",
       "      <td>age classification through prename analysis</td>\n",
       "      <td>-1, 0</td>\n",
       "      <td>unknown</td>\n",
       "      <td>True</td>\n",
       "      <td>[-1, 0]</td>\n",
       "    </tr>\n",
       "    <tr>\n",
       "      <th>2</th>\n",
       "      <td>ALTER_HH</td>\n",
       "      <td>main age within the household</td>\n",
       "      <td>0</td>\n",
       "      <td>unknown / no main age detectable</td>\n",
       "      <td>True</td>\n",
       "      <td>[0]</td>\n",
       "    </tr>\n",
       "    <tr>\n",
       "      <th>3</th>\n",
       "      <td>ANREDE_KZ</td>\n",
       "      <td>gender</td>\n",
       "      <td>-1, 0</td>\n",
       "      <td>unknown</td>\n",
       "      <td>True</td>\n",
       "      <td>[-1, 0]</td>\n",
       "    </tr>\n",
       "    <tr>\n",
       "      <th>4</th>\n",
       "      <td>BALLRAUM</td>\n",
       "      <td>distance to next urban centre</td>\n",
       "      <td>-1</td>\n",
       "      <td>unknown</td>\n",
       "      <td>True</td>\n",
       "      <td>[-1]</td>\n",
       "    </tr>\n",
       "  </tbody>\n",
       "</table>\n",
       "</div>"
      ],
      "text/plain": [
       "              Attribute                                   Description  Value  \\\n",
       "0              AGER_TYP                            best-ager typology     -1   \n",
       "1  ALTERSKATEGORIE_GROB  age classification through prename analysis   -1, 0   \n",
       "2              ALTER_HH                 main age within the household      0   \n",
       "3             ANREDE_KZ                                        gender  -1, 0   \n",
       "4              BALLRAUM                distance to next urban centre      -1   \n",
       "\n",
       "                            Meaning Missing      Val  \n",
       "0                           unknown    True     [-1]  \n",
       "1                           unknown    True  [-1, 0]  \n",
       "2  unknown / no main age detectable    True      [0]  \n",
       "3                           unknown    True  [-1, 0]  \n",
       "4                           unknown    True     [-1]  "
      ]
     },
     "execution_count": 35,
     "metadata": {},
     "output_type": "execute_result"
    }
   ],
   "source": [
    "# Selecting attribute info for Values that mean unkown or missing info\n",
    "unknowns = attributes[(attributes.Missing == True)|(attributes.Meaning == 'unknown')].copy()\n",
    "unknowns.reset_index(inplace=True, drop=True)\n",
    "\n",
    "# Fix the values in the Value column so that they all have a uniform pattern\n",
    "unknowns.loc[:, 'Val'] = unknowns.Value.apply(create_missing_val_list)\n",
    "unknowns.head()"
   ]
  },
  {
   "cell_type": "code",
   "execution_count": 36,
   "metadata": {},
   "outputs": [
    {
     "data": {
      "text/plain": [
       "233"
      ]
     },
     "execution_count": 36,
     "metadata": {},
     "output_type": "execute_result"
    }
   ],
   "source": [
    "# Creating a dict mapping missing/unknown values to NaN for each column\n",
    "unknowns_dict = {v.Attribute: {val: np.nan for val in v.Val} for _, v in unknowns.iterrows()}\n",
    "\n",
    "# Number of Columns to perform the replacement operation on\n",
    "len(unknowns_dict.keys())"
   ]
  },
  {
   "cell_type": "code",
   "execution_count": 37,
   "metadata": {},
   "outputs": [
    {
     "name": "stdout",
     "output_type": "stream",
     "text": [
      "BIP_FLAG\n",
      "D19_KK_KUNDENTYP\n",
      "GEOSCORE_KLS7\n",
      "HAUSHALTSSTRUKTUR\n",
      "KBA13_CCM_1400_2500\n",
      "SOHO_FLAG\n",
      "WACHSTUMSGEBIET_NB\n"
     ]
    }
   ],
   "source": [
    "# Replacing all values that indicate missing values with NaNs \n",
    "for col, map_dict in unknowns_dict.items():\n",
    "    if col in azdias.columns:\n",
    "        clean_data.fit_transform(col, map_dict)\n",
    "    else:\n",
    "        print(col)"
   ]
  },
  {
   "cell_type": "code",
   "execution_count": 38,
   "metadata": {},
   "outputs": [],
   "source": [
    "# azdias.replace(unknowns_dict, inplace=True)\n",
    "# customers.replace(unknowns_dict, inplace=True)"
   ]
  },
  {
   "cell_type": "code",
   "execution_count": 39,
   "metadata": {},
   "outputs": [
    {
     "data": {
      "text/plain": [
       "['ORTSGR_KLS9',\n",
       " 'LP_LEBENSPHASE_FEIN',\n",
       " 'LP_FAMILIE_GROB',\n",
       " 'KBA05_MODTEMP',\n",
       " 'LP_LEBENSPHASE_GROB',\n",
       " 'LP_FAMILIE_FEIN']"
      ]
     },
     "execution_count": 39,
     "metadata": {},
     "output_type": "execute_result"
    }
   ],
   "source": [
    "cols_with_extra_encoding = []\n",
    "# Select columns that have been decribed in attributes excel\n",
    "attributes_without_numeric_vals = set(attributes[~(attributes.Meaning.apply(lambda x: 'numer' in str(x)))].Attribute)\n",
    "described_cols = list(set(azdias.columns)&attributes_without_numeric_vals)\n",
    "for col in described_cols:\n",
    "    # Extracts all unique non-null values of the column and stores it in data_col_unique_vals\n",
    "    data_col_unique_vals = azdias[col].dropna().unique()\n",
    "    # Fetch all unique values of the 'Value' column of the attribute info for the given column and store it in attr_encodings\n",
    "    attr_encodings = get_attribute_info(col, attributes)['Value'].unique()\n",
    "    # Take the set difference between data_col_unique_vals and attr_encodings, store it in diff_encodings\n",
    "    diff_encodings = set(data_col_unique_vals) - (set(attr_encodings)-{'…'})\n",
    "    # If there is at least one encoding difference, append the column name to the cols_with_extra_encoding list\n",
    "    if (len(diff_encodings)>=1):\n",
    "        cols_with_extra_encoding.append(col)\n",
    "\n",
    "# Remove columns that we have already processed        \n",
    "cols_with_extra_encoding = list(set(cols_with_extra_encoding) -  (set(binary_attributes_info.Attribute)))\n",
    "cols_with_extra_encoding"
   ]
  },
  {
   "attachments": {},
   "cell_type": "markdown",
   "metadata": {},
   "source": [
    "#### Dealing with binary columns"
   ]
  },
  {
   "cell_type": "code",
   "execution_count": 40,
   "metadata": {},
   "outputs": [
    {
     "data": {
      "text/html": [
       "<div>\n",
       "<style scoped>\n",
       "    .dataframe tbody tr th:only-of-type {\n",
       "        vertical-align: middle;\n",
       "    }\n",
       "\n",
       "    .dataframe tbody tr th {\n",
       "        vertical-align: top;\n",
       "    }\n",
       "\n",
       "    .dataframe thead th {\n",
       "        text-align: right;\n",
       "    }\n",
       "</style>\n",
       "<table border=\"1\" class=\"dataframe\">\n",
       "  <thead>\n",
       "    <tr style=\"text-align: right;\">\n",
       "      <th></th>\n",
       "      <th>Attribute</th>\n",
       "      <th>Description</th>\n",
       "      <th>Value</th>\n",
       "      <th>Meaning</th>\n",
       "      <th>Missing</th>\n",
       "    </tr>\n",
       "  </thead>\n",
       "  <tbody>\n",
       "    <tr>\n",
       "      <th>0</th>\n",
       "      <td>ANREDE_KZ</td>\n",
       "      <td>gender</td>\n",
       "      <td>1</td>\n",
       "      <td>male</td>\n",
       "      <td>False</td>\n",
       "    </tr>\n",
       "    <tr>\n",
       "      <th>1</th>\n",
       "      <td>ANREDE_KZ</td>\n",
       "      <td>gender</td>\n",
       "      <td>2</td>\n",
       "      <td>female</td>\n",
       "      <td>False</td>\n",
       "    </tr>\n",
       "    <tr>\n",
       "      <th>2</th>\n",
       "      <td>BIP_FLAG</td>\n",
       "      <td>business-flag indicating companies in the buil...</td>\n",
       "      <td>0</td>\n",
       "      <td>no company in the building</td>\n",
       "      <td>False</td>\n",
       "    </tr>\n",
       "    <tr>\n",
       "      <th>3</th>\n",
       "      <td>BIP_FLAG</td>\n",
       "      <td>business-flag indicating companies in the buil...</td>\n",
       "      <td>1</td>\n",
       "      <td>company in the building</td>\n",
       "      <td>False</td>\n",
       "    </tr>\n",
       "    <tr>\n",
       "      <th>4</th>\n",
       "      <td>GREEN_AVANTGARDE</td>\n",
       "      <td>Green avantgarde</td>\n",
       "      <td>0</td>\n",
       "      <td>doesn't belong to the green avantgarde</td>\n",
       "      <td>False</td>\n",
       "    </tr>\n",
       "    <tr>\n",
       "      <th>5</th>\n",
       "      <td>GREEN_AVANTGARDE</td>\n",
       "      <td>the environmental sustainability is the domina...</td>\n",
       "      <td>1</td>\n",
       "      <td>belongs to the green avantgarde</td>\n",
       "      <td>False</td>\n",
       "    </tr>\n",
       "    <tr>\n",
       "      <th>6</th>\n",
       "      <td>KBA05_SEG6</td>\n",
       "      <td>share of upper class cars (BMW 7er etc.) in th...</td>\n",
       "      <td>0</td>\n",
       "      <td>none</td>\n",
       "      <td>False</td>\n",
       "    </tr>\n",
       "    <tr>\n",
       "      <th>7</th>\n",
       "      <td>KBA05_SEG6</td>\n",
       "      <td>share of upper class cars (BMW 7er etc.) in th...</td>\n",
       "      <td>1</td>\n",
       "      <td>some</td>\n",
       "      <td>False</td>\n",
       "    </tr>\n",
       "    <tr>\n",
       "      <th>8</th>\n",
       "      <td>OST_WEST_KZ</td>\n",
       "      <td>flag indicating the former GDR/FRG</td>\n",
       "      <td>O</td>\n",
       "      <td>East (GDR)</td>\n",
       "      <td>False</td>\n",
       "    </tr>\n",
       "    <tr>\n",
       "      <th>9</th>\n",
       "      <td>OST_WEST_KZ</td>\n",
       "      <td>flag indicating the former GDR/FRG</td>\n",
       "      <td>W</td>\n",
       "      <td>West (FRG)</td>\n",
       "      <td>False</td>\n",
       "    </tr>\n",
       "    <tr>\n",
       "      <th>10</th>\n",
       "      <td>SOHO_FLAG</td>\n",
       "      <td>small office/home office flag</td>\n",
       "      <td>0</td>\n",
       "      <td>no small office/home office</td>\n",
       "      <td>False</td>\n",
       "    </tr>\n",
       "    <tr>\n",
       "      <th>11</th>\n",
       "      <td>SOHO_FLAG</td>\n",
       "      <td>small office/home office flag</td>\n",
       "      <td>1</td>\n",
       "      <td>small office/home office</td>\n",
       "      <td>False</td>\n",
       "    </tr>\n",
       "    <tr>\n",
       "      <th>12</th>\n",
       "      <td>VERS_TYP</td>\n",
       "      <td>insurance typology</td>\n",
       "      <td>1</td>\n",
       "      <td>social-safety driven</td>\n",
       "      <td>False</td>\n",
       "    </tr>\n",
       "    <tr>\n",
       "      <th>13</th>\n",
       "      <td>VERS_TYP</td>\n",
       "      <td>insurance typology</td>\n",
       "      <td>2</td>\n",
       "      <td>individualistic-accepting risks</td>\n",
       "      <td>False</td>\n",
       "    </tr>\n",
       "  </tbody>\n",
       "</table>\n",
       "</div>"
      ],
      "text/plain": [
       "           Attribute                                        Description Value  \\\n",
       "0          ANREDE_KZ                                             gender     1   \n",
       "1          ANREDE_KZ                                             gender     2   \n",
       "2           BIP_FLAG  business-flag indicating companies in the buil...     0   \n",
       "3           BIP_FLAG  business-flag indicating companies in the buil...     1   \n",
       "4   GREEN_AVANTGARDE                                   Green avantgarde     0   \n",
       "5   GREEN_AVANTGARDE  the environmental sustainability is the domina...     1   \n",
       "6         KBA05_SEG6  share of upper class cars (BMW 7er etc.) in th...     0   \n",
       "7         KBA05_SEG6  share of upper class cars (BMW 7er etc.) in th...     1   \n",
       "8        OST_WEST_KZ                 flag indicating the former GDR/FRG     O   \n",
       "9        OST_WEST_KZ                 flag indicating the former GDR/FRG     W   \n",
       "10         SOHO_FLAG                      small office/home office flag     0   \n",
       "11         SOHO_FLAG                      small office/home office flag     1   \n",
       "12          VERS_TYP                                insurance typology      1   \n",
       "13          VERS_TYP                                insurance typology      2   \n",
       "\n",
       "                                   Meaning Missing  \n",
       "0                                     male   False  \n",
       "1                                   female   False  \n",
       "2               no company in the building   False  \n",
       "3                  company in the building   False  \n",
       "4   doesn't belong to the green avantgarde   False  \n",
       "5          belongs to the green avantgarde   False  \n",
       "6                                     none   False  \n",
       "7                                     some   False  \n",
       "8                               East (GDR)   False  \n",
       "9                               West (FRG)   False  \n",
       "10             no small office/home office   False  \n",
       "11                small office/home office   False  \n",
       "12                    social-safety driven   False  \n",
       "13         individualistic-accepting risks   False  "
      ]
     },
     "execution_count": 40,
     "metadata": {},
     "output_type": "execute_result"
    }
   ],
   "source": [
    "binary_attributes_info"
   ]
  },
  {
   "attachments": {},
   "cell_type": "markdown",
   "metadata": {},
   "source": [
    "There are a few columns above with values other than 0,1 used to indicate a binary choice; We will re-encode these values even though a a pair like 1,2 equally serves the purpose in order to standardise interpretation"
   ]
  },
  {
   "cell_type": "code",
   "execution_count": 41,
   "metadata": {},
   "outputs": [],
   "source": [
    "clean_data.fit_transform('OST_WEST_KZ',{'O':0, 'W':1})\n",
    "clean_data.fit_transform('ANREDE_KZ', {1:0, 2:1})\n",
    "clean_data.fit_transform('VERS_TYP', {1:0, 2:1})"
   ]
  },
  {
   "attachments": {},
   "cell_type": "markdown",
   "metadata": {},
   "source": [
    "Lets deal with columns that have mismatched encodings; values whose meaning hasn't been described in the attributes excel files  that have been provided"
   ]
  },
  {
   "cell_type": "code",
   "execution_count": 42,
   "metadata": {},
   "outputs": [
    {
     "data": {
      "text/plain": [
       "array([ 2.,  3.,  1.,  0.,  5.,  4., nan])"
      ]
     },
     "execution_count": 42,
     "metadata": {},
     "output_type": "execute_result"
    }
   ],
   "source": [
    "azdias['LP_FAMILIE_GROB'].unique()"
   ]
  },
  {
   "cell_type": "code",
   "execution_count": 43,
   "metadata": {},
   "outputs": [
    {
     "data": {
      "text/plain": [
       "array([ 2., nan,  1.,  0.,  5.,  4.,  3.])"
      ]
     },
     "execution_count": 43,
     "metadata": {},
     "output_type": "execute_result"
    }
   ],
   "source": [
    "customers['LP_FAMILIE_GROB'].unique()"
   ]
  },
  {
   "cell_type": "code",
   "execution_count": 44,
   "metadata": {},
   "outputs": [
    {
     "data": {
      "text/html": [
       "<div>\n",
       "<style scoped>\n",
       "    .dataframe tbody tr th:only-of-type {\n",
       "        vertical-align: middle;\n",
       "    }\n",
       "\n",
       "    .dataframe tbody tr th {\n",
       "        vertical-align: top;\n",
       "    }\n",
       "\n",
       "    .dataframe thead th {\n",
       "        text-align: right;\n",
       "    }\n",
       "</style>\n",
       "<table border=\"1\" class=\"dataframe\">\n",
       "  <thead>\n",
       "    <tr style=\"text-align: right;\">\n",
       "      <th></th>\n",
       "      <th>Attribute</th>\n",
       "      <th>Description</th>\n",
       "      <th>Value</th>\n",
       "      <th>Meaning</th>\n",
       "      <th>Missing</th>\n",
       "    </tr>\n",
       "  </thead>\n",
       "  <tbody>\n",
       "    <tr>\n",
       "      <th>1903</th>\n",
       "      <td>LP_FAMILIE_GROB</td>\n",
       "      <td>familytyp rough</td>\n",
       "      <td>1</td>\n",
       "      <td>single</td>\n",
       "      <td>False</td>\n",
       "    </tr>\n",
       "    <tr>\n",
       "      <th>1904</th>\n",
       "      <td>LP_FAMILIE_GROB</td>\n",
       "      <td>familytyp rough</td>\n",
       "      <td>2</td>\n",
       "      <td>couple</td>\n",
       "      <td>False</td>\n",
       "    </tr>\n",
       "    <tr>\n",
       "      <th>1905</th>\n",
       "      <td>LP_FAMILIE_GROB</td>\n",
       "      <td>familytyp rough</td>\n",
       "      <td>3</td>\n",
       "      <td>single parent</td>\n",
       "      <td>False</td>\n",
       "    </tr>\n",
       "    <tr>\n",
       "      <th>1906</th>\n",
       "      <td>LP_FAMILIE_GROB</td>\n",
       "      <td>familytyp rough</td>\n",
       "      <td>4</td>\n",
       "      <td>NaN</td>\n",
       "      <td>NaN</td>\n",
       "    </tr>\n",
       "    <tr>\n",
       "      <th>1907</th>\n",
       "      <td>LP_FAMILIE_GROB</td>\n",
       "      <td>familytyp rough</td>\n",
       "      <td>5</td>\n",
       "      <td>NaN</td>\n",
       "      <td>NaN</td>\n",
       "    </tr>\n",
       "    <tr>\n",
       "      <th>1908</th>\n",
       "      <td>LP_FAMILIE_GROB</td>\n",
       "      <td>familytyp rough</td>\n",
       "      <td>6</td>\n",
       "      <td>family</td>\n",
       "      <td>False</td>\n",
       "    </tr>\n",
       "    <tr>\n",
       "      <th>1909</th>\n",
       "      <td>LP_FAMILIE_GROB</td>\n",
       "      <td>familytyp rough</td>\n",
       "      <td>7</td>\n",
       "      <td>NaN</td>\n",
       "      <td>NaN</td>\n",
       "    </tr>\n",
       "    <tr>\n",
       "      <th>1910</th>\n",
       "      <td>LP_FAMILIE_GROB</td>\n",
       "      <td>familytyp rough</td>\n",
       "      <td>8</td>\n",
       "      <td>NaN</td>\n",
       "      <td>NaN</td>\n",
       "    </tr>\n",
       "    <tr>\n",
       "      <th>1911</th>\n",
       "      <td>LP_FAMILIE_GROB</td>\n",
       "      <td>familytyp rough</td>\n",
       "      <td>9</td>\n",
       "      <td>multiperson household</td>\n",
       "      <td>False</td>\n",
       "    </tr>\n",
       "    <tr>\n",
       "      <th>1912</th>\n",
       "      <td>LP_FAMILIE_GROB</td>\n",
       "      <td>familytyp rough</td>\n",
       "      <td>10</td>\n",
       "      <td>NaN</td>\n",
       "      <td>NaN</td>\n",
       "    </tr>\n",
       "    <tr>\n",
       "      <th>1913</th>\n",
       "      <td>LP_FAMILIE_GROB</td>\n",
       "      <td>familytyp rough</td>\n",
       "      <td>11</td>\n",
       "      <td>NaN</td>\n",
       "      <td>NaN</td>\n",
       "    </tr>\n",
       "  </tbody>\n",
       "</table>\n",
       "</div>"
      ],
      "text/plain": [
       "            Attribute      Description Value                Meaning Missing\n",
       "1903  LP_FAMILIE_GROB  familytyp rough     1                single    False\n",
       "1904  LP_FAMILIE_GROB  familytyp rough     2                 couple   False\n",
       "1905  LP_FAMILIE_GROB  familytyp rough     3          single parent   False\n",
       "1906  LP_FAMILIE_GROB  familytyp rough     4                    NaN     NaN\n",
       "1907  LP_FAMILIE_GROB  familytyp rough     5                    NaN     NaN\n",
       "1908  LP_FAMILIE_GROB  familytyp rough     6                 family   False\n",
       "1909  LP_FAMILIE_GROB  familytyp rough     7                    NaN     NaN\n",
       "1910  LP_FAMILIE_GROB  familytyp rough     8                    NaN     NaN\n",
       "1911  LP_FAMILIE_GROB  familytyp rough     9  multiperson household   False\n",
       "1912  LP_FAMILIE_GROB  familytyp rough    10                    NaN     NaN\n",
       "1913  LP_FAMILIE_GROB  familytyp rough    11                    NaN     NaN"
      ]
     },
     "execution_count": 44,
     "metadata": {},
     "output_type": "execute_result"
    }
   ],
   "source": [
    "get_attribute_info('LP_FAMILIE_GROB', attributes)"
   ]
  },
  {
   "cell_type": "code",
   "execution_count": 45,
   "metadata": {},
   "outputs": [],
   "source": [
    "clean_data.fit_transform('LP_FAMILIE_GROB', {0:np.nan})"
   ]
  },
  {
   "cell_type": "code",
   "execution_count": 46,
   "metadata": {},
   "outputs": [
    {
     "data": {
      "text/plain": [
       "array([ 2.,  5.,  1.,  0., 10.,  7., 11.,  3.,  8.,  4.,  6., nan,  9.])"
      ]
     },
     "execution_count": 46,
     "metadata": {},
     "output_type": "execute_result"
    }
   ],
   "source": [
    "azdias['LP_FAMILIE_FEIN'].unique()"
   ]
  },
  {
   "cell_type": "code",
   "execution_count": 47,
   "metadata": {},
   "outputs": [
    {
     "data": {
      "text/plain": [
       "array([ 2., nan,  1.,  0., 10.,  8.,  6., 11.,  9.,  7.,  5.,  3.,  4.])"
      ]
     },
     "execution_count": 47,
     "metadata": {},
     "output_type": "execute_result"
    }
   ],
   "source": [
    "customers['LP_FAMILIE_FEIN'].unique()"
   ]
  },
  {
   "cell_type": "code",
   "execution_count": 48,
   "metadata": {},
   "outputs": [],
   "source": [
    "clean_data.fit_transform('LP_FAMILIE_FEIN', {0:np.nan})"
   ]
  },
  {
   "cell_type": "code",
   "execution_count": 49,
   "metadata": {},
   "outputs": [
    {
     "data": {
      "text/plain": [
       "array([ 4.,  6.,  1.,  0., 10.,  2.,  3.,  5.,  7., 12., 11.,  9.,  8.,\n",
       "       nan])"
      ]
     },
     "execution_count": 49,
     "metadata": {},
     "output_type": "execute_result"
    }
   ],
   "source": [
    "azdias['LP_LEBENSPHASE_GROB'].unique()"
   ]
  },
  {
   "cell_type": "code",
   "execution_count": 50,
   "metadata": {},
   "outputs": [
    {
     "data": {
      "text/plain": [
       "array([ 5., nan,  3.,  0., 10.,  2.,  8., 12., 11.,  1.,  4.,  6.,  7.,\n",
       "        9.])"
      ]
     },
     "execution_count": 50,
     "metadata": {},
     "output_type": "execute_result"
    }
   ],
   "source": [
    "customers['LP_LEBENSPHASE_GROB'].unique()"
   ]
  },
  {
   "cell_type": "code",
   "execution_count": 51,
   "metadata": {},
   "outputs": [
    {
     "data": {
      "text/html": [
       "<div>\n",
       "<style scoped>\n",
       "    .dataframe tbody tr th:only-of-type {\n",
       "        vertical-align: middle;\n",
       "    }\n",
       "\n",
       "    .dataframe tbody tr th {\n",
       "        vertical-align: top;\n",
       "    }\n",
       "\n",
       "    .dataframe thead th {\n",
       "        text-align: right;\n",
       "    }\n",
       "</style>\n",
       "<table border=\"1\" class=\"dataframe\">\n",
       "  <thead>\n",
       "    <tr style=\"text-align: right;\">\n",
       "      <th></th>\n",
       "      <th>Attribute</th>\n",
       "      <th>Description</th>\n",
       "      <th>Value</th>\n",
       "      <th>Meaning</th>\n",
       "      <th>Missing</th>\n",
       "    </tr>\n",
       "  </thead>\n",
       "  <tbody>\n",
       "    <tr>\n",
       "      <th>1954</th>\n",
       "      <td>LP_LEBENSPHASE_GROB</td>\n",
       "      <td>lifestage rough</td>\n",
       "      <td>1</td>\n",
       "      <td>single low-income- and average earners of youn...</td>\n",
       "      <td>False</td>\n",
       "    </tr>\n",
       "    <tr>\n",
       "      <th>1955</th>\n",
       "      <td>LP_LEBENSPHASE_GROB</td>\n",
       "      <td>lifestage rough</td>\n",
       "      <td>2</td>\n",
       "      <td>single low-income- and average earners of high...</td>\n",
       "      <td>False</td>\n",
       "    </tr>\n",
       "    <tr>\n",
       "      <th>1956</th>\n",
       "      <td>LP_LEBENSPHASE_GROB</td>\n",
       "      <td>lifestage rough</td>\n",
       "      <td>3</td>\n",
       "      <td>single high-income earners</td>\n",
       "      <td>False</td>\n",
       "    </tr>\n",
       "    <tr>\n",
       "      <th>1957</th>\n",
       "      <td>LP_LEBENSPHASE_GROB</td>\n",
       "      <td>lifestage rough</td>\n",
       "      <td>4</td>\n",
       "      <td>single low-income- and average earner-couples</td>\n",
       "      <td>False</td>\n",
       "    </tr>\n",
       "    <tr>\n",
       "      <th>1958</th>\n",
       "      <td>LP_LEBENSPHASE_GROB</td>\n",
       "      <td>lifestage rough</td>\n",
       "      <td>5</td>\n",
       "      <td>single high-income earner-couples</td>\n",
       "      <td>False</td>\n",
       "    </tr>\n",
       "    <tr>\n",
       "      <th>1959</th>\n",
       "      <td>LP_LEBENSPHASE_GROB</td>\n",
       "      <td>lifestage rough</td>\n",
       "      <td>6</td>\n",
       "      <td>single parents</td>\n",
       "      <td>False</td>\n",
       "    </tr>\n",
       "    <tr>\n",
       "      <th>1960</th>\n",
       "      <td>LP_LEBENSPHASE_GROB</td>\n",
       "      <td>lifestage rough</td>\n",
       "      <td>7</td>\n",
       "      <td>single low-income- and average earner-families</td>\n",
       "      <td>False</td>\n",
       "    </tr>\n",
       "    <tr>\n",
       "      <th>1961</th>\n",
       "      <td>LP_LEBENSPHASE_GROB</td>\n",
       "      <td>lifestage rough</td>\n",
       "      <td>8</td>\n",
       "      <td>high-income earner-families</td>\n",
       "      <td>False</td>\n",
       "    </tr>\n",
       "    <tr>\n",
       "      <th>1962</th>\n",
       "      <td>LP_LEBENSPHASE_GROB</td>\n",
       "      <td>lifestage rough</td>\n",
       "      <td>9</td>\n",
       "      <td>average earners of younger age from mulitperso...</td>\n",
       "      <td>False</td>\n",
       "    </tr>\n",
       "    <tr>\n",
       "      <th>1963</th>\n",
       "      <td>LP_LEBENSPHASE_GROB</td>\n",
       "      <td>lifestage rough</td>\n",
       "      <td>10</td>\n",
       "      <td>low-income- and average earners of higher age ...</td>\n",
       "      <td>False</td>\n",
       "    </tr>\n",
       "    <tr>\n",
       "      <th>1964</th>\n",
       "      <td>LP_LEBENSPHASE_GROB</td>\n",
       "      <td>lifestage rough</td>\n",
       "      <td>11</td>\n",
       "      <td>high-income earners of younger age from multip...</td>\n",
       "      <td>False</td>\n",
       "    </tr>\n",
       "    <tr>\n",
       "      <th>1965</th>\n",
       "      <td>LP_LEBENSPHASE_GROB</td>\n",
       "      <td>lifestage rough</td>\n",
       "      <td>12</td>\n",
       "      <td>high-income earners of higher age from multipe...</td>\n",
       "      <td>False</td>\n",
       "    </tr>\n",
       "  </tbody>\n",
       "</table>\n",
       "</div>"
      ],
      "text/plain": [
       "                Attribute      Description Value  \\\n",
       "1954  LP_LEBENSPHASE_GROB  lifestage rough     1   \n",
       "1955  LP_LEBENSPHASE_GROB  lifestage rough     2   \n",
       "1956  LP_LEBENSPHASE_GROB  lifestage rough     3   \n",
       "1957  LP_LEBENSPHASE_GROB  lifestage rough     4   \n",
       "1958  LP_LEBENSPHASE_GROB  lifestage rough     5   \n",
       "1959  LP_LEBENSPHASE_GROB  lifestage rough     6   \n",
       "1960  LP_LEBENSPHASE_GROB  lifestage rough     7   \n",
       "1961  LP_LEBENSPHASE_GROB  lifestage rough     8   \n",
       "1962  LP_LEBENSPHASE_GROB  lifestage rough     9   \n",
       "1963  LP_LEBENSPHASE_GROB  lifestage rough    10   \n",
       "1964  LP_LEBENSPHASE_GROB  lifestage rough    11   \n",
       "1965  LP_LEBENSPHASE_GROB  lifestage rough    12   \n",
       "\n",
       "                                                Meaning Missing  \n",
       "1954  single low-income- and average earners of youn...   False  \n",
       "1955  single low-income- and average earners of high...   False  \n",
       "1956                         single high-income earners   False  \n",
       "1957     single low-income- and average earner-couples    False  \n",
       "1958                  single high-income earner-couples   False  \n",
       "1959                                     single parents   False  \n",
       "1960     single low-income- and average earner-families   False  \n",
       "1961                        high-income earner-families   False  \n",
       "1962  average earners of younger age from mulitperso...   False  \n",
       "1963  low-income- and average earners of higher age ...   False  \n",
       "1964  high-income earners of younger age from multip...   False  \n",
       "1965  high-income earners of higher age from multipe...   False  "
      ]
     },
     "execution_count": 51,
     "metadata": {},
     "output_type": "execute_result"
    }
   ],
   "source": [
    "get_attribute_info('LP_LEBENSPHASE_GROB', attributes)"
   ]
  },
  {
   "cell_type": "code",
   "execution_count": 52,
   "metadata": {},
   "outputs": [],
   "source": [
    "clean_data.fit_transform('LP_LEBENSPHASE_GROB', {0:np.nan})"
   ]
  },
  {
   "cell_type": "code",
   "execution_count": 53,
   "metadata": {},
   "outputs": [
    {
     "data": {
      "text/plain": [
       "array([15., 21.,  3.,  0., 32.,  8.,  2.,  5., 10.,  4.,  6., 23., 12.,\n",
       "       20.,  1., 11., 25., 13.,  7., 18., 31., 19., 38., 35., 30., 22.,\n",
       "       14., 33., 29., 24., 28., 37., 26., 39., 27., 36.,  9., 34., nan,\n",
       "       40., 16., 17.])"
      ]
     },
     "execution_count": 53,
     "metadata": {},
     "output_type": "execute_result"
    }
   ],
   "source": [
    "azdias['LP_LEBENSPHASE_FEIN'].unique()"
   ]
  },
  {
   "cell_type": "code",
   "execution_count": 54,
   "metadata": {},
   "outputs": [
    {
     "data": {
      "text/plain": [
       "array([20., nan, 13.,  0., 31., 17.,  6., 28.,  5., 27., 40., 35.,  2.,\n",
       "       19., 38., 36.,  8., 34., 10., 12., 26., 11.,  9., 37., 14., 39.,\n",
       "       32.,  7., 15., 23., 21., 25., 33., 16., 24., 30., 18.,  4., 22.,\n",
       "        1., 29.,  3.])"
      ]
     },
     "execution_count": 54,
     "metadata": {},
     "output_type": "execute_result"
    }
   ],
   "source": [
    "customers['LP_LEBENSPHASE_FEIN'].unique()"
   ]
  },
  {
   "cell_type": "code",
   "execution_count": 55,
   "metadata": {},
   "outputs": [
    {
     "data": {
      "text/html": [
       "<div>\n",
       "<style scoped>\n",
       "    .dataframe tbody tr th:only-of-type {\n",
       "        vertical-align: middle;\n",
       "    }\n",
       "\n",
       "    .dataframe tbody tr th {\n",
       "        vertical-align: top;\n",
       "    }\n",
       "\n",
       "    .dataframe thead th {\n",
       "        text-align: right;\n",
       "    }\n",
       "</style>\n",
       "<table border=\"1\" class=\"dataframe\">\n",
       "  <thead>\n",
       "    <tr style=\"text-align: right;\">\n",
       "      <th></th>\n",
       "      <th>Attribute</th>\n",
       "      <th>Description</th>\n",
       "      <th>Value</th>\n",
       "      <th>Meaning</th>\n",
       "      <th>Missing</th>\n",
       "    </tr>\n",
       "  </thead>\n",
       "  <tbody>\n",
       "    <tr>\n",
       "      <th>1914</th>\n",
       "      <td>LP_LEBENSPHASE_FEIN</td>\n",
       "      <td>lifestage fine</td>\n",
       "      <td>1</td>\n",
       "      <td>single low-income earners of younger age</td>\n",
       "      <td>False</td>\n",
       "    </tr>\n",
       "    <tr>\n",
       "      <th>1915</th>\n",
       "      <td>LP_LEBENSPHASE_FEIN</td>\n",
       "      <td>lifestage fine</td>\n",
       "      <td>2</td>\n",
       "      <td>single low-income earners of middle age</td>\n",
       "      <td>False</td>\n",
       "    </tr>\n",
       "    <tr>\n",
       "      <th>1916</th>\n",
       "      <td>LP_LEBENSPHASE_FEIN</td>\n",
       "      <td>lifestage fine</td>\n",
       "      <td>3</td>\n",
       "      <td>single average earners of younger age</td>\n",
       "      <td>False</td>\n",
       "    </tr>\n",
       "    <tr>\n",
       "      <th>1917</th>\n",
       "      <td>LP_LEBENSPHASE_FEIN</td>\n",
       "      <td>lifestage fine</td>\n",
       "      <td>4</td>\n",
       "      <td>single average earners of middle age</td>\n",
       "      <td>False</td>\n",
       "    </tr>\n",
       "    <tr>\n",
       "      <th>1918</th>\n",
       "      <td>LP_LEBENSPHASE_FEIN</td>\n",
       "      <td>lifestage fine</td>\n",
       "      <td>5</td>\n",
       "      <td>single low-income earners of advanced age</td>\n",
       "      <td>False</td>\n",
       "    </tr>\n",
       "    <tr>\n",
       "      <th>1919</th>\n",
       "      <td>LP_LEBENSPHASE_FEIN</td>\n",
       "      <td>lifestage fine</td>\n",
       "      <td>6</td>\n",
       "      <td>single low-income earners at retirement age</td>\n",
       "      <td>False</td>\n",
       "    </tr>\n",
       "    <tr>\n",
       "      <th>1920</th>\n",
       "      <td>LP_LEBENSPHASE_FEIN</td>\n",
       "      <td>lifestage fine</td>\n",
       "      <td>7</td>\n",
       "      <td>single average earners of advanced age</td>\n",
       "      <td>False</td>\n",
       "    </tr>\n",
       "    <tr>\n",
       "      <th>1921</th>\n",
       "      <td>LP_LEBENSPHASE_FEIN</td>\n",
       "      <td>lifestage fine</td>\n",
       "      <td>8</td>\n",
       "      <td>single average earners at retirement age</td>\n",
       "      <td>False</td>\n",
       "    </tr>\n",
       "    <tr>\n",
       "      <th>1922</th>\n",
       "      <td>LP_LEBENSPHASE_FEIN</td>\n",
       "      <td>lifestage fine</td>\n",
       "      <td>9</td>\n",
       "      <td>single independant persons</td>\n",
       "      <td>False</td>\n",
       "    </tr>\n",
       "    <tr>\n",
       "      <th>1923</th>\n",
       "      <td>LP_LEBENSPHASE_FEIN</td>\n",
       "      <td>lifestage fine</td>\n",
       "      <td>10</td>\n",
       "      <td>wealthy single homeowners</td>\n",
       "      <td>False</td>\n",
       "    </tr>\n",
       "    <tr>\n",
       "      <th>1924</th>\n",
       "      <td>LP_LEBENSPHASE_FEIN</td>\n",
       "      <td>lifestage fine</td>\n",
       "      <td>11</td>\n",
       "      <td>single homeowners of advanced age</td>\n",
       "      <td>False</td>\n",
       "    </tr>\n",
       "    <tr>\n",
       "      <th>1925</th>\n",
       "      <td>LP_LEBENSPHASE_FEIN</td>\n",
       "      <td>lifestage fine</td>\n",
       "      <td>12</td>\n",
       "      <td>single homeowners at retirement age</td>\n",
       "      <td>False</td>\n",
       "    </tr>\n",
       "    <tr>\n",
       "      <th>1926</th>\n",
       "      <td>LP_LEBENSPHASE_FEIN</td>\n",
       "      <td>lifestage fine</td>\n",
       "      <td>13</td>\n",
       "      <td>single top earners of higher age</td>\n",
       "      <td>False</td>\n",
       "    </tr>\n",
       "    <tr>\n",
       "      <th>1927</th>\n",
       "      <td>LP_LEBENSPHASE_FEIN</td>\n",
       "      <td>lifestage fine</td>\n",
       "      <td>14</td>\n",
       "      <td>low-income- and average earner-couples of youn...</td>\n",
       "      <td>False</td>\n",
       "    </tr>\n",
       "    <tr>\n",
       "      <th>1928</th>\n",
       "      <td>LP_LEBENSPHASE_FEIN</td>\n",
       "      <td>lifestage fine</td>\n",
       "      <td>15</td>\n",
       "      <td>low-income earner-couples of higher age</td>\n",
       "      <td>False</td>\n",
       "    </tr>\n",
       "    <tr>\n",
       "      <th>1929</th>\n",
       "      <td>LP_LEBENSPHASE_FEIN</td>\n",
       "      <td>lifestage fine</td>\n",
       "      <td>16</td>\n",
       "      <td>average earner-couples of higher age</td>\n",
       "      <td>False</td>\n",
       "    </tr>\n",
       "    <tr>\n",
       "      <th>1930</th>\n",
       "      <td>LP_LEBENSPHASE_FEIN</td>\n",
       "      <td>lifestage fine</td>\n",
       "      <td>17</td>\n",
       "      <td>independant couples</td>\n",
       "      <td>False</td>\n",
       "    </tr>\n",
       "    <tr>\n",
       "      <th>1931</th>\n",
       "      <td>LP_LEBENSPHASE_FEIN</td>\n",
       "      <td>lifestage fine</td>\n",
       "      <td>18</td>\n",
       "      <td>wealthy homeowner-couples of younger age</td>\n",
       "      <td>False</td>\n",
       "    </tr>\n",
       "    <tr>\n",
       "      <th>1932</th>\n",
       "      <td>LP_LEBENSPHASE_FEIN</td>\n",
       "      <td>lifestage fine</td>\n",
       "      <td>19</td>\n",
       "      <td>homeowner-couples of higher age</td>\n",
       "      <td>False</td>\n",
       "    </tr>\n",
       "    <tr>\n",
       "      <th>1933</th>\n",
       "      <td>LP_LEBENSPHASE_FEIN</td>\n",
       "      <td>lifestage fine</td>\n",
       "      <td>20</td>\n",
       "      <td>top earner-couples of higher age</td>\n",
       "      <td>False</td>\n",
       "    </tr>\n",
       "    <tr>\n",
       "      <th>1934</th>\n",
       "      <td>LP_LEBENSPHASE_FEIN</td>\n",
       "      <td>lifestage fine</td>\n",
       "      <td>21</td>\n",
       "      <td>single parent low-income earners</td>\n",
       "      <td>False</td>\n",
       "    </tr>\n",
       "    <tr>\n",
       "      <th>1935</th>\n",
       "      <td>LP_LEBENSPHASE_FEIN</td>\n",
       "      <td>lifestage fine</td>\n",
       "      <td>22</td>\n",
       "      <td>single parent average earners</td>\n",
       "      <td>False</td>\n",
       "    </tr>\n",
       "    <tr>\n",
       "      <th>1936</th>\n",
       "      <td>LP_LEBENSPHASE_FEIN</td>\n",
       "      <td>lifestage fine</td>\n",
       "      <td>23</td>\n",
       "      <td>single parent high-income earners</td>\n",
       "      <td>False</td>\n",
       "    </tr>\n",
       "    <tr>\n",
       "      <th>1937</th>\n",
       "      <td>LP_LEBENSPHASE_FEIN</td>\n",
       "      <td>lifestage fine</td>\n",
       "      <td>24</td>\n",
       "      <td>low-income earner-families</td>\n",
       "      <td>False</td>\n",
       "    </tr>\n",
       "    <tr>\n",
       "      <th>1938</th>\n",
       "      <td>LP_LEBENSPHASE_FEIN</td>\n",
       "      <td>lifestage fine</td>\n",
       "      <td>25</td>\n",
       "      <td>average earner-families</td>\n",
       "      <td>False</td>\n",
       "    </tr>\n",
       "    <tr>\n",
       "      <th>1939</th>\n",
       "      <td>LP_LEBENSPHASE_FEIN</td>\n",
       "      <td>lifestage fine</td>\n",
       "      <td>26</td>\n",
       "      <td>independant families</td>\n",
       "      <td>False</td>\n",
       "    </tr>\n",
       "    <tr>\n",
       "      <th>1940</th>\n",
       "      <td>LP_LEBENSPHASE_FEIN</td>\n",
       "      <td>lifestage fine</td>\n",
       "      <td>27</td>\n",
       "      <td>homeowner-families</td>\n",
       "      <td>False</td>\n",
       "    </tr>\n",
       "    <tr>\n",
       "      <th>1941</th>\n",
       "      <td>LP_LEBENSPHASE_FEIN</td>\n",
       "      <td>lifestage fine</td>\n",
       "      <td>28</td>\n",
       "      <td>top earner-families</td>\n",
       "      <td>False</td>\n",
       "    </tr>\n",
       "    <tr>\n",
       "      <th>1942</th>\n",
       "      <td>LP_LEBENSPHASE_FEIN</td>\n",
       "      <td>lifestage fine</td>\n",
       "      <td>29</td>\n",
       "      <td>low-income earners of younger age from mulitpe...</td>\n",
       "      <td>False</td>\n",
       "    </tr>\n",
       "    <tr>\n",
       "      <th>1943</th>\n",
       "      <td>LP_LEBENSPHASE_FEIN</td>\n",
       "      <td>lifestage fine</td>\n",
       "      <td>30</td>\n",
       "      <td>average earners of younger age from mulitperso...</td>\n",
       "      <td>False</td>\n",
       "    </tr>\n",
       "    <tr>\n",
       "      <th>1944</th>\n",
       "      <td>LP_LEBENSPHASE_FEIN</td>\n",
       "      <td>lifestage fine</td>\n",
       "      <td>31</td>\n",
       "      <td>low-income earners of higher age from mulitper...</td>\n",
       "      <td>False</td>\n",
       "    </tr>\n",
       "    <tr>\n",
       "      <th>1945</th>\n",
       "      <td>LP_LEBENSPHASE_FEIN</td>\n",
       "      <td>lifestage fine</td>\n",
       "      <td>32</td>\n",
       "      <td>average earners of higher age from mulitperson...</td>\n",
       "      <td>False</td>\n",
       "    </tr>\n",
       "    <tr>\n",
       "      <th>1946</th>\n",
       "      <td>LP_LEBENSPHASE_FEIN</td>\n",
       "      <td>lifestage fine</td>\n",
       "      <td>33</td>\n",
       "      <td>independant persons of younger age from mulitp...</td>\n",
       "      <td>False</td>\n",
       "    </tr>\n",
       "    <tr>\n",
       "      <th>1947</th>\n",
       "      <td>LP_LEBENSPHASE_FEIN</td>\n",
       "      <td>lifestage fine</td>\n",
       "      <td>34</td>\n",
       "      <td>homeowners of younger age from mulitperson hou...</td>\n",
       "      <td>False</td>\n",
       "    </tr>\n",
       "    <tr>\n",
       "      <th>1948</th>\n",
       "      <td>LP_LEBENSPHASE_FEIN</td>\n",
       "      <td>lifestage fine</td>\n",
       "      <td>35</td>\n",
       "      <td>top earners of younger age from mulitperson ho...</td>\n",
       "      <td>False</td>\n",
       "    </tr>\n",
       "    <tr>\n",
       "      <th>1949</th>\n",
       "      <td>LP_LEBENSPHASE_FEIN</td>\n",
       "      <td>lifestage fine</td>\n",
       "      <td>36</td>\n",
       "      <td>independant persons of higher age from mulitpe...</td>\n",
       "      <td>False</td>\n",
       "    </tr>\n",
       "    <tr>\n",
       "      <th>1950</th>\n",
       "      <td>LP_LEBENSPHASE_FEIN</td>\n",
       "      <td>lifestage fine</td>\n",
       "      <td>37</td>\n",
       "      <td>homeowners of advanced age from mulitperson ho...</td>\n",
       "      <td>False</td>\n",
       "    </tr>\n",
       "    <tr>\n",
       "      <th>1951</th>\n",
       "      <td>LP_LEBENSPHASE_FEIN</td>\n",
       "      <td>lifestage fine</td>\n",
       "      <td>38</td>\n",
       "      <td>homeowners at retirement age from mulitperson ...</td>\n",
       "      <td>False</td>\n",
       "    </tr>\n",
       "    <tr>\n",
       "      <th>1952</th>\n",
       "      <td>LP_LEBENSPHASE_FEIN</td>\n",
       "      <td>lifestage fine</td>\n",
       "      <td>39</td>\n",
       "      <td>top earners of middle age from mulitperson hou...</td>\n",
       "      <td>False</td>\n",
       "    </tr>\n",
       "    <tr>\n",
       "      <th>1953</th>\n",
       "      <td>LP_LEBENSPHASE_FEIN</td>\n",
       "      <td>lifestage fine</td>\n",
       "      <td>40</td>\n",
       "      <td>top earners at retirement age from mulitperson...</td>\n",
       "      <td>False</td>\n",
       "    </tr>\n",
       "  </tbody>\n",
       "</table>\n",
       "</div>"
      ],
      "text/plain": [
       "                Attribute      Description Value  \\\n",
       "1914  LP_LEBENSPHASE_FEIN  lifestage fine      1   \n",
       "1915  LP_LEBENSPHASE_FEIN  lifestage fine      2   \n",
       "1916  LP_LEBENSPHASE_FEIN  lifestage fine      3   \n",
       "1917  LP_LEBENSPHASE_FEIN  lifestage fine      4   \n",
       "1918  LP_LEBENSPHASE_FEIN  lifestage fine      5   \n",
       "1919  LP_LEBENSPHASE_FEIN  lifestage fine      6   \n",
       "1920  LP_LEBENSPHASE_FEIN  lifestage fine      7   \n",
       "1921  LP_LEBENSPHASE_FEIN  lifestage fine      8   \n",
       "1922  LP_LEBENSPHASE_FEIN  lifestage fine      9   \n",
       "1923  LP_LEBENSPHASE_FEIN  lifestage fine     10   \n",
       "1924  LP_LEBENSPHASE_FEIN  lifestage fine     11   \n",
       "1925  LP_LEBENSPHASE_FEIN  lifestage fine     12   \n",
       "1926  LP_LEBENSPHASE_FEIN  lifestage fine     13   \n",
       "1927  LP_LEBENSPHASE_FEIN  lifestage fine     14   \n",
       "1928  LP_LEBENSPHASE_FEIN  lifestage fine     15   \n",
       "1929  LP_LEBENSPHASE_FEIN  lifestage fine     16   \n",
       "1930  LP_LEBENSPHASE_FEIN  lifestage fine     17   \n",
       "1931  LP_LEBENSPHASE_FEIN  lifestage fine     18   \n",
       "1932  LP_LEBENSPHASE_FEIN  lifestage fine     19   \n",
       "1933  LP_LEBENSPHASE_FEIN  lifestage fine     20   \n",
       "1934  LP_LEBENSPHASE_FEIN  lifestage fine     21   \n",
       "1935  LP_LEBENSPHASE_FEIN  lifestage fine     22   \n",
       "1936  LP_LEBENSPHASE_FEIN  lifestage fine     23   \n",
       "1937  LP_LEBENSPHASE_FEIN  lifestage fine     24   \n",
       "1938  LP_LEBENSPHASE_FEIN  lifestage fine     25   \n",
       "1939  LP_LEBENSPHASE_FEIN  lifestage fine     26   \n",
       "1940  LP_LEBENSPHASE_FEIN  lifestage fine     27   \n",
       "1941  LP_LEBENSPHASE_FEIN  lifestage fine     28   \n",
       "1942  LP_LEBENSPHASE_FEIN  lifestage fine     29   \n",
       "1943  LP_LEBENSPHASE_FEIN  lifestage fine     30   \n",
       "1944  LP_LEBENSPHASE_FEIN  lifestage fine     31   \n",
       "1945  LP_LEBENSPHASE_FEIN  lifestage fine     32   \n",
       "1946  LP_LEBENSPHASE_FEIN  lifestage fine     33   \n",
       "1947  LP_LEBENSPHASE_FEIN  lifestage fine     34   \n",
       "1948  LP_LEBENSPHASE_FEIN  lifestage fine     35   \n",
       "1949  LP_LEBENSPHASE_FEIN  lifestage fine     36   \n",
       "1950  LP_LEBENSPHASE_FEIN  lifestage fine     37   \n",
       "1951  LP_LEBENSPHASE_FEIN  lifestage fine     38   \n",
       "1952  LP_LEBENSPHASE_FEIN  lifestage fine     39   \n",
       "1953  LP_LEBENSPHASE_FEIN  lifestage fine     40   \n",
       "\n",
       "                                                Meaning Missing  \n",
       "1914           single low-income earners of younger age   False  \n",
       "1915            single low-income earners of middle age   False  \n",
       "1916             single average earners of younger age    False  \n",
       "1917               single average earners of middle age   False  \n",
       "1918          single low-income earners of advanced age   False  \n",
       "1919       single low-income earners at retirement age    False  \n",
       "1920             single average earners of advanced age   False  \n",
       "1921           single average earners at retirement age   False  \n",
       "1922                         single independant persons   False  \n",
       "1923                          wealthy single homeowners   False  \n",
       "1924                  single homeowners of advanced age   False  \n",
       "1925                single homeowners at retirement age   False  \n",
       "1926                  single top earners of higher age    False  \n",
       "1927  low-income- and average earner-couples of youn...   False  \n",
       "1928            low-income earner-couples of higher age   False  \n",
       "1929              average earner-couples of higher age    False  \n",
       "1930                                independant couples   False  \n",
       "1931          wealthy homeowner-couples of younger age    False  \n",
       "1932                    homeowner-couples of higher age   False  \n",
       "1933                   top earner-couples of higher age   False  \n",
       "1934                   single parent low-income earners   False  \n",
       "1935                      single parent average earners   False  \n",
       "1936                  single parent high-income earners   False  \n",
       "1937                         low-income earner-families   False  \n",
       "1938                           average earner-families    False  \n",
       "1939                               independant families   False  \n",
       "1940                                 homeowner-families   False  \n",
       "1941                                top earner-families   False  \n",
       "1942  low-income earners of younger age from mulitpe...   False  \n",
       "1943  average earners of younger age from mulitperso...   False  \n",
       "1944  low-income earners of higher age from mulitper...   False  \n",
       "1945  average earners of higher age from mulitperson...   False  \n",
       "1946  independant persons of younger age from mulitp...   False  \n",
       "1947  homeowners of younger age from mulitperson hou...   False  \n",
       "1948  top earners of younger age from mulitperson ho...   False  \n",
       "1949  independant persons of higher age from mulitpe...   False  \n",
       "1950  homeowners of advanced age from mulitperson ho...   False  \n",
       "1951  homeowners at retirement age from mulitperson ...   False  \n",
       "1952  top earners of middle age from mulitperson hou...   False  \n",
       "1953  top earners at retirement age from mulitperson...   False  "
      ]
     },
     "execution_count": 55,
     "metadata": {},
     "output_type": "execute_result"
    }
   ],
   "source": [
    "get_attribute_info('LP_LEBENSPHASE_FEIN', attributes)"
   ]
  },
  {
   "cell_type": "code",
   "execution_count": 56,
   "metadata": {},
   "outputs": [],
   "source": [
    "clean_data.fit_transform('LP_LEBENSPHASE_FEIN', {0:np.nan})"
   ]
  },
  {
   "cell_type": "code",
   "execution_count": 57,
   "metadata": {},
   "outputs": [
    {
     "data": {
      "text/html": [
       "<div>\n",
       "<style scoped>\n",
       "    .dataframe tbody tr th:only-of-type {\n",
       "        vertical-align: middle;\n",
       "    }\n",
       "\n",
       "    .dataframe tbody tr th {\n",
       "        vertical-align: top;\n",
       "    }\n",
       "\n",
       "    .dataframe thead th {\n",
       "        text-align: right;\n",
       "    }\n",
       "</style>\n",
       "<table border=\"1\" class=\"dataframe\">\n",
       "  <thead>\n",
       "    <tr style=\"text-align: right;\">\n",
       "      <th></th>\n",
       "      <th>Attribute</th>\n",
       "      <th>Description</th>\n",
       "      <th>Value</th>\n",
       "      <th>Meaning</th>\n",
       "      <th>Missing</th>\n",
       "    </tr>\n",
       "  </thead>\n",
       "  <tbody>\n",
       "    <tr>\n",
       "      <th>2003</th>\n",
       "      <td>ORTSGR_KLS9</td>\n",
       "      <td>size of the community</td>\n",
       "      <td>-1</td>\n",
       "      <td>unknown</td>\n",
       "      <td>True</td>\n",
       "    </tr>\n",
       "    <tr>\n",
       "      <th>2004</th>\n",
       "      <td>ORTSGR_KLS9</td>\n",
       "      <td>'- classified number of inhabitants</td>\n",
       "      <td>1</td>\n",
       "      <td>&lt;= 2.000 inhabitants</td>\n",
       "      <td>False</td>\n",
       "    </tr>\n",
       "    <tr>\n",
       "      <th>2005</th>\n",
       "      <td>ORTSGR_KLS9</td>\n",
       "      <td>'- classified number of inhabitants</td>\n",
       "      <td>2</td>\n",
       "      <td>2.001 to 5.000 inhabitants</td>\n",
       "      <td>False</td>\n",
       "    </tr>\n",
       "    <tr>\n",
       "      <th>2006</th>\n",
       "      <td>ORTSGR_KLS9</td>\n",
       "      <td>'- classified number of inhabitants</td>\n",
       "      <td>3</td>\n",
       "      <td>5.001 to 10.000 inhabitants</td>\n",
       "      <td>False</td>\n",
       "    </tr>\n",
       "    <tr>\n",
       "      <th>2007</th>\n",
       "      <td>ORTSGR_KLS9</td>\n",
       "      <td>'- classified number of inhabitants</td>\n",
       "      <td>4</td>\n",
       "      <td>10.001 to 20.000 inhabitants</td>\n",
       "      <td>False</td>\n",
       "    </tr>\n",
       "    <tr>\n",
       "      <th>2008</th>\n",
       "      <td>ORTSGR_KLS9</td>\n",
       "      <td>'- classified number of inhabitants</td>\n",
       "      <td>5</td>\n",
       "      <td>20.001 to 50.000 inhabitants</td>\n",
       "      <td>False</td>\n",
       "    </tr>\n",
       "    <tr>\n",
       "      <th>2009</th>\n",
       "      <td>ORTSGR_KLS9</td>\n",
       "      <td>'- classified number of inhabitants</td>\n",
       "      <td>6</td>\n",
       "      <td>50.001 to 100.000 inhabitants</td>\n",
       "      <td>False</td>\n",
       "    </tr>\n",
       "    <tr>\n",
       "      <th>2010</th>\n",
       "      <td>ORTSGR_KLS9</td>\n",
       "      <td>'- classified number of inhabitants</td>\n",
       "      <td>7</td>\n",
       "      <td>100.001 to 300.000 inhabitants</td>\n",
       "      <td>False</td>\n",
       "    </tr>\n",
       "    <tr>\n",
       "      <th>2011</th>\n",
       "      <td>ORTSGR_KLS9</td>\n",
       "      <td>'- classified number of inhabitants</td>\n",
       "      <td>8</td>\n",
       "      <td>300.001 to 700.000 inhabitants</td>\n",
       "      <td>False</td>\n",
       "    </tr>\n",
       "    <tr>\n",
       "      <th>2012</th>\n",
       "      <td>ORTSGR_KLS9</td>\n",
       "      <td>'- classified number of inhabitants</td>\n",
       "      <td>9</td>\n",
       "      <td>&gt; 700.000  inhabitants</td>\n",
       "      <td>False</td>\n",
       "    </tr>\n",
       "  </tbody>\n",
       "</table>\n",
       "</div>"
      ],
      "text/plain": [
       "        Attribute                          Description Value  \\\n",
       "2003  ORTSGR_KLS9                size of the community    -1   \n",
       "2004  ORTSGR_KLS9  '- classified number of inhabitants     1   \n",
       "2005  ORTSGR_KLS9  '- classified number of inhabitants     2   \n",
       "2006  ORTSGR_KLS9  '- classified number of inhabitants     3   \n",
       "2007  ORTSGR_KLS9  '- classified number of inhabitants     4   \n",
       "2008  ORTSGR_KLS9  '- classified number of inhabitants     5   \n",
       "2009  ORTSGR_KLS9  '- classified number of inhabitants     6   \n",
       "2010  ORTSGR_KLS9  '- classified number of inhabitants     7   \n",
       "2011  ORTSGR_KLS9  '- classified number of inhabitants     8   \n",
       "2012  ORTSGR_KLS9  '- classified number of inhabitants     9   \n",
       "\n",
       "                             Meaning Missing  \n",
       "2003                         unknown    True  \n",
       "2004            <= 2.000 inhabitants   False  \n",
       "2005      2.001 to 5.000 inhabitants   False  \n",
       "2006     5.001 to 10.000 inhabitants   False  \n",
       "2007    10.001 to 20.000 inhabitants   False  \n",
       "2008    20.001 to 50.000 inhabitants   False  \n",
       "2009   50.001 to 100.000 inhabitants   False  \n",
       "2010  100.001 to 300.000 inhabitants   False  \n",
       "2011  300.001 to 700.000 inhabitants   False  \n",
       "2012          > 700.000  inhabitants   False  "
      ]
     },
     "execution_count": 57,
     "metadata": {},
     "output_type": "execute_result"
    }
   ],
   "source": [
    "get_attribute_info('ORTSGR_KLS9',attributes)"
   ]
  },
  {
   "cell_type": "code",
   "execution_count": 58,
   "metadata": {},
   "outputs": [
    {
     "data": {
      "text/html": [
       "<div>\n",
       "<style scoped>\n",
       "    .dataframe tbody tr th:only-of-type {\n",
       "        vertical-align: middle;\n",
       "    }\n",
       "\n",
       "    .dataframe tbody tr th {\n",
       "        vertical-align: top;\n",
       "    }\n",
       "\n",
       "    .dataframe thead th {\n",
       "        text-align: right;\n",
       "    }\n",
       "</style>\n",
       "<table border=\"1\" class=\"dataframe\">\n",
       "  <thead>\n",
       "    <tr style=\"text-align: right;\">\n",
       "      <th></th>\n",
       "      <th>Attribute</th>\n",
       "      <th>Description</th>\n",
       "      <th>Value</th>\n",
       "      <th>Meaning</th>\n",
       "      <th>Missing</th>\n",
       "    </tr>\n",
       "  </thead>\n",
       "  <tbody>\n",
       "    <tr>\n",
       "      <th>1025</th>\n",
       "      <td>KBA05_MODTEMP</td>\n",
       "      <td>development of the most common car segment in ...</td>\n",
       "      <td>-1, 9</td>\n",
       "      <td>unknown</td>\n",
       "      <td>True</td>\n",
       "    </tr>\n",
       "    <tr>\n",
       "      <th>1026</th>\n",
       "      <td>KBA05_MODTEMP</td>\n",
       "      <td>development of the most common car segment in ...</td>\n",
       "      <td>1</td>\n",
       "      <td>promoted</td>\n",
       "      <td>False</td>\n",
       "    </tr>\n",
       "    <tr>\n",
       "      <th>1027</th>\n",
       "      <td>KBA05_MODTEMP</td>\n",
       "      <td>development of the most common car segment in ...</td>\n",
       "      <td>2</td>\n",
       "      <td>stayed upper level</td>\n",
       "      <td>False</td>\n",
       "    </tr>\n",
       "    <tr>\n",
       "      <th>1028</th>\n",
       "      <td>KBA05_MODTEMP</td>\n",
       "      <td>development of the most common car segment in ...</td>\n",
       "      <td>3</td>\n",
       "      <td>stayed lower/average level</td>\n",
       "      <td>False</td>\n",
       "    </tr>\n",
       "    <tr>\n",
       "      <th>1029</th>\n",
       "      <td>KBA05_MODTEMP</td>\n",
       "      <td>development of the most common car segment in ...</td>\n",
       "      <td>4</td>\n",
       "      <td>demoted</td>\n",
       "      <td>False</td>\n",
       "    </tr>\n",
       "    <tr>\n",
       "      <th>1030</th>\n",
       "      <td>KBA05_MODTEMP</td>\n",
       "      <td>development of the most common car segment in ...</td>\n",
       "      <td>5</td>\n",
       "      <td>new building</td>\n",
       "      <td>False</td>\n",
       "    </tr>\n",
       "  </tbody>\n",
       "</table>\n",
       "</div>"
      ],
      "text/plain": [
       "          Attribute                                        Description  Value  \\\n",
       "1025  KBA05_MODTEMP  development of the most common car segment in ...  -1, 9   \n",
       "1026  KBA05_MODTEMP  development of the most common car segment in ...      1   \n",
       "1027  KBA05_MODTEMP  development of the most common car segment in ...      2   \n",
       "1028  KBA05_MODTEMP  development of the most common car segment in ...      3   \n",
       "1029  KBA05_MODTEMP  development of the most common car segment in ...      4   \n",
       "1030  KBA05_MODTEMP  development of the most common car segment in ...      5   \n",
       "\n",
       "                         Meaning Missing  \n",
       "1025                     unknown    True  \n",
       "1026                    promoted   False  \n",
       "1027          stayed upper level   False  \n",
       "1028  stayed lower/average level   False  \n",
       "1029                     demoted   False  \n",
       "1030                new building   False  "
      ]
     },
     "execution_count": 58,
     "metadata": {},
     "output_type": "execute_result"
    }
   ],
   "source": [
    "get_attribute_info('KBA05_MODTEMP',attributes)"
   ]
  },
  {
   "attachments": {},
   "cell_type": "markdown",
   "metadata": {},
   "source": [
    "#### Lets deal with attributes that have values with unexplained meaning"
   ]
  },
  {
   "cell_type": "code",
   "execution_count": 59,
   "metadata": {},
   "outputs": [
    {
     "data": {
      "text/plain": [
       "array(['no classification possible', 'no company in the building',\n",
       "       'no transactions known', 'no transaction known',\n",
       "       'no Online-transactions within the last 12 months',\n",
       "       \"doesn't belong to the green avantgarde\",\n",
       "       'classification not possible', 'none', 'no 1-2 family homes',\n",
       "       'no 3-5 family homes', 'no 6-10 family homes',\n",
       "       'no >10 family homes', 'external supplied hedonists ',\n",
       "       'no small office/home office', 'no score calculated'], dtype=object)"
      ]
     },
     "execution_count": 59,
     "metadata": {},
     "output_type": "execute_result"
    }
   ],
   "source": [
    "attributes.query(\"Value == 0 & Missing == False\").Meaning.unique()"
   ]
  },
  {
   "cell_type": "code",
   "execution_count": 60,
   "metadata": {},
   "outputs": [
    {
     "data": {
      "text/html": [
       "<div>\n",
       "<style scoped>\n",
       "    .dataframe tbody tr th:only-of-type {\n",
       "        vertical-align: middle;\n",
       "    }\n",
       "\n",
       "    .dataframe tbody tr th {\n",
       "        vertical-align: top;\n",
       "    }\n",
       "\n",
       "    .dataframe thead th {\n",
       "        text-align: right;\n",
       "    }\n",
       "</style>\n",
       "<table border=\"1\" class=\"dataframe\">\n",
       "  <thead>\n",
       "    <tr style=\"text-align: right;\">\n",
       "      <th></th>\n",
       "      <th>Attribute</th>\n",
       "      <th>Description</th>\n",
       "      <th>Value</th>\n",
       "      <th>Meaning</th>\n",
       "      <th>Missing</th>\n",
       "    </tr>\n",
       "  </thead>\n",
       "  <tbody>\n",
       "    <tr>\n",
       "      <th>745</th>\n",
       "      <td>HEALTH_TYP</td>\n",
       "      <td>health typology</td>\n",
       "      <td>0</td>\n",
       "      <td>classification not possible</td>\n",
       "      <td>False</td>\n",
       "    </tr>\n",
       "    <tr>\n",
       "      <th>2230</th>\n",
       "      <td>WOHNLAGE</td>\n",
       "      <td>residential-area</td>\n",
       "      <td>0</td>\n",
       "      <td>no score calculated</td>\n",
       "      <td>False</td>\n",
       "    </tr>\n",
       "  </tbody>\n",
       "</table>\n",
       "</div>"
      ],
      "text/plain": [
       "       Attribute        Description Value                      Meaning Missing\n",
       "745   HEALTH_TYP    health typology     0  classification not possible   False\n",
       "2230    WOHNLAGE  residential-area      0          no score calculated   False"
      ]
     },
     "execution_count": 60,
     "metadata": {},
     "output_type": "execute_result"
    }
   ],
   "source": [
    "attributes[attributes.Meaning.isin(['classification not possible', 'no score calculated'])]"
   ]
  },
  {
   "cell_type": "code",
   "execution_count": 61,
   "metadata": {},
   "outputs": [
    {
     "data": {
      "text/html": [
       "<div>\n",
       "<style scoped>\n",
       "    .dataframe tbody tr th:only-of-type {\n",
       "        vertical-align: middle;\n",
       "    }\n",
       "\n",
       "    .dataframe tbody tr th {\n",
       "        vertical-align: top;\n",
       "    }\n",
       "\n",
       "    .dataframe thead th {\n",
       "        text-align: right;\n",
       "    }\n",
       "</style>\n",
       "<table border=\"1\" class=\"dataframe\">\n",
       "  <thead>\n",
       "    <tr style=\"text-align: right;\">\n",
       "      <th></th>\n",
       "      <th>Attribute</th>\n",
       "      <th>Description</th>\n",
       "      <th>Value</th>\n",
       "      <th>Meaning</th>\n",
       "      <th>Missing</th>\n",
       "    </tr>\n",
       "  </thead>\n",
       "  <tbody>\n",
       "    <tr>\n",
       "      <th>2229</th>\n",
       "      <td>WOHNLAGE</td>\n",
       "      <td>residential-area</td>\n",
       "      <td>-1</td>\n",
       "      <td>unknown</td>\n",
       "      <td>True</td>\n",
       "    </tr>\n",
       "    <tr>\n",
       "      <th>2230</th>\n",
       "      <td>WOHNLAGE</td>\n",
       "      <td>residential-area</td>\n",
       "      <td>0</td>\n",
       "      <td>no score calculated</td>\n",
       "      <td>False</td>\n",
       "    </tr>\n",
       "    <tr>\n",
       "      <th>2231</th>\n",
       "      <td>WOHNLAGE</td>\n",
       "      <td>residential-area</td>\n",
       "      <td>1</td>\n",
       "      <td>very good neighbourhood</td>\n",
       "      <td>False</td>\n",
       "    </tr>\n",
       "    <tr>\n",
       "      <th>2232</th>\n",
       "      <td>WOHNLAGE</td>\n",
       "      <td>residential-area</td>\n",
       "      <td>2</td>\n",
       "      <td>good neighbourhood</td>\n",
       "      <td>False</td>\n",
       "    </tr>\n",
       "    <tr>\n",
       "      <th>2233</th>\n",
       "      <td>WOHNLAGE</td>\n",
       "      <td>residential-area</td>\n",
       "      <td>3</td>\n",
       "      <td>average neighbourhood</td>\n",
       "      <td>False</td>\n",
       "    </tr>\n",
       "    <tr>\n",
       "      <th>2234</th>\n",
       "      <td>WOHNLAGE</td>\n",
       "      <td>residential-area</td>\n",
       "      <td>4</td>\n",
       "      <td>poor neighbourhood</td>\n",
       "      <td>False</td>\n",
       "    </tr>\n",
       "    <tr>\n",
       "      <th>2235</th>\n",
       "      <td>WOHNLAGE</td>\n",
       "      <td>residential-area</td>\n",
       "      <td>5</td>\n",
       "      <td>very poor neighbourhood</td>\n",
       "      <td>False</td>\n",
       "    </tr>\n",
       "    <tr>\n",
       "      <th>2236</th>\n",
       "      <td>WOHNLAGE</td>\n",
       "      <td>residential-area</td>\n",
       "      <td>7</td>\n",
       "      <td>rural neighbourhood</td>\n",
       "      <td>False</td>\n",
       "    </tr>\n",
       "    <tr>\n",
       "      <th>2237</th>\n",
       "      <td>WOHNLAGE</td>\n",
       "      <td>residential-area</td>\n",
       "      <td>8</td>\n",
       "      <td>new building in rural neighbourhood</td>\n",
       "      <td>False</td>\n",
       "    </tr>\n",
       "  </tbody>\n",
       "</table>\n",
       "</div>"
      ],
      "text/plain": [
       "     Attribute        Description Value                              Meaning  \\\n",
       "2229  WOHNLAGE  residential-area     -1                              unknown   \n",
       "2230  WOHNLAGE  residential-area      0                  no score calculated   \n",
       "2231  WOHNLAGE  residential-area      1              very good neighbourhood   \n",
       "2232  WOHNLAGE  residential-area      2                   good neighbourhood   \n",
       "2233  WOHNLAGE  residential-area      3                average neighbourhood   \n",
       "2234  WOHNLAGE  residential-area      4                   poor neighbourhood   \n",
       "2235  WOHNLAGE  residential-area      5              very poor neighbourhood   \n",
       "2236  WOHNLAGE  residential-area      7                  rural neighbourhood   \n",
       "2237  WOHNLAGE  residential-area      8  new building in rural neighbourhood   \n",
       "\n",
       "     Missing  \n",
       "2229    True  \n",
       "2230   False  \n",
       "2231   False  \n",
       "2232   False  \n",
       "2233   False  \n",
       "2234   False  \n",
       "2235   False  \n",
       "2236   False  \n",
       "2237   False  "
      ]
     },
     "execution_count": 61,
     "metadata": {},
     "output_type": "execute_result"
    }
   ],
   "source": [
    "get_attribute_info('WOHNLAGE', attributes)"
   ]
  },
  {
   "cell_type": "code",
   "execution_count": 62,
   "metadata": {},
   "outputs": [],
   "source": [
    "clean_data.fit_transform('WOHNLAGE', {0:np.nan})"
   ]
  },
  {
   "cell_type": "code",
   "execution_count": 63,
   "metadata": {},
   "outputs": [
    {
     "data": {
      "text/html": [
       "<div>\n",
       "<style scoped>\n",
       "    .dataframe tbody tr th:only-of-type {\n",
       "        vertical-align: middle;\n",
       "    }\n",
       "\n",
       "    .dataframe tbody tr th {\n",
       "        vertical-align: top;\n",
       "    }\n",
       "\n",
       "    .dataframe thead th {\n",
       "        text-align: right;\n",
       "    }\n",
       "</style>\n",
       "<table border=\"1\" class=\"dataframe\">\n",
       "  <thead>\n",
       "    <tr style=\"text-align: right;\">\n",
       "      <th></th>\n",
       "      <th>Attribute</th>\n",
       "      <th>Description</th>\n",
       "      <th>Value</th>\n",
       "      <th>Meaning</th>\n",
       "      <th>Missing</th>\n",
       "    </tr>\n",
       "  </thead>\n",
       "  <tbody>\n",
       "    <tr>\n",
       "      <th>744</th>\n",
       "      <td>HEALTH_TYP</td>\n",
       "      <td>health typology</td>\n",
       "      <td>-1</td>\n",
       "      <td>unknown</td>\n",
       "      <td>True</td>\n",
       "    </tr>\n",
       "    <tr>\n",
       "      <th>745</th>\n",
       "      <td>HEALTH_TYP</td>\n",
       "      <td>health typology</td>\n",
       "      <td>0</td>\n",
       "      <td>classification not possible</td>\n",
       "      <td>False</td>\n",
       "    </tr>\n",
       "    <tr>\n",
       "      <th>746</th>\n",
       "      <td>HEALTH_TYP</td>\n",
       "      <td>health typology</td>\n",
       "      <td>1</td>\n",
       "      <td>critical reserved</td>\n",
       "      <td>False</td>\n",
       "    </tr>\n",
       "    <tr>\n",
       "      <th>747</th>\n",
       "      <td>HEALTH_TYP</td>\n",
       "      <td>health typology</td>\n",
       "      <td>2</td>\n",
       "      <td>sanitary affine</td>\n",
       "      <td>False</td>\n",
       "    </tr>\n",
       "    <tr>\n",
       "      <th>748</th>\n",
       "      <td>HEALTH_TYP</td>\n",
       "      <td>health typology</td>\n",
       "      <td>3</td>\n",
       "      <td>jaunty hedonists</td>\n",
       "      <td>False</td>\n",
       "    </tr>\n",
       "  </tbody>\n",
       "</table>\n",
       "</div>"
      ],
      "text/plain": [
       "      Attribute      Description Value                      Meaning Missing\n",
       "744  HEALTH_TYP  health typology    -1                      unknown    True\n",
       "745  HEALTH_TYP  health typology     0  classification not possible   False\n",
       "746  HEALTH_TYP  health typology     1           critical reserved    False\n",
       "747  HEALTH_TYP  health typology     2            sanitary affine     False\n",
       "748  HEALTH_TYP  health typology     3            jaunty hedonists    False"
      ]
     },
     "execution_count": 63,
     "metadata": {},
     "output_type": "execute_result"
    }
   ],
   "source": [
    "get_attribute_info('HEALTH_TYP', attributes)"
   ]
  },
  {
   "cell_type": "code",
   "execution_count": 64,
   "metadata": {},
   "outputs": [],
   "source": [
    "# Apply all transformations to customers dataframe\n",
    "clean_data.transform(customers)"
   ]
  },
  {
   "cell_type": "markdown",
   "metadata": {},
   "source": [
    "Check columns that might be specific to a particular dataframe and refer the attributes file for more info"
   ]
  },
  {
   "cell_type": "code",
   "execution_count": 65,
   "metadata": {},
   "outputs": [
    {
     "data": {
      "text/plain": [
       "273"
      ]
     },
     "execution_count": 65,
     "metadata": {},
     "output_type": "execute_result"
    }
   ],
   "source": [
    "len(set(azdias.columns) & set(attributes.Attribute) & set(customers.columns))"
   ]
  },
  {
   "cell_type": "code",
   "execution_count": 66,
   "metadata": {},
   "outputs": [
    {
     "data": {
      "text/plain": [
       "314"
      ]
     },
     "execution_count": 66,
     "metadata": {},
     "output_type": "execute_result"
    }
   ],
   "source": [
    "len(set(attributes.Attribute))"
   ]
  },
  {
   "cell_type": "code",
   "execution_count": 67,
   "metadata": {},
   "outputs": [],
   "source": [
    "# Getting columns exclusive to a dataframe\n",
    "attributes_notin_df = set(attributes.Attribute) - set(customers.columns)\n",
    "cols_not_in_attributes = set(customers.columns) - set(attributes.Attribute)\n",
    "customers_only_cols = list(set(customers.columns) - set(azdias.columns))"
   ]
  },
  {
   "cell_type": "code",
   "execution_count": 68,
   "metadata": {},
   "outputs": [
    {
     "name": "stdout",
     "output_type": "stream",
     "text": [
      "PRODUCT_GROUP unique values:  ['COSMETIC_AND_FOOD' 'FOOD' 'COSMETIC']\n",
      "CUSTOMER_GROUP unique values:  ['MULTI_BUYER' 'SINGLE_BUYER']\n",
      "ONLINE_PURCHASE unique values:  [0 1]\n"
     ]
    }
   ],
   "source": [
    "# Printing Unique Values in customer only columns\n",
    "for col in customers_only_cols:\n",
    "    print(f'{col} unique values: ',customers[col].unique())"
   ]
  },
  {
   "cell_type": "markdown",
   "metadata": {},
   "source": [
    "For now we will drop the customer specific columns. We can always perform a join post cleaning and add the required values back."
   ]
  },
  {
   "cell_type": "code",
   "execution_count": 69,
   "metadata": {},
   "outputs": [
    {
     "data": {
      "text/plain": [
       "['PRODUCT_GROUP', 'CUSTOMER_GROUP', 'ONLINE_PURCHASE']"
      ]
     },
     "execution_count": 69,
     "metadata": {},
     "output_type": "execute_result"
    }
   ],
   "source": [
    "cols_to_drop = customers_only_cols\n",
    "cols_to_drop"
   ]
  },
  {
   "cell_type": "code",
   "execution_count": 70,
   "metadata": {},
   "outputs": [],
   "source": [
    "# Dropping Customer only cols\n",
    "customers.drop(cols_to_drop, axis=1, inplace=True)"
   ]
  },
  {
   "cell_type": "markdown",
   "metadata": {},
   "source": [
    "Figure out the optimum percentage of NaN threshold such that both dataframes end up with same number of columns being dropped"
   ]
  },
  {
   "cell_type": "code",
   "execution_count": 71,
   "metadata": {},
   "outputs": [
    {
     "data": {
      "text/plain": [
       "{'KKK', 'REGIOTYP'}"
      ]
     },
     "execution_count": 71,
     "metadata": {},
     "output_type": "execute_result"
    }
   ],
   "source": [
    "# calculates the number columns with NaNs greater than 0\n",
    "customers_missing_val = customers.isnull().sum() / len(customers)\n",
    "customers_missing_val = customers_missing_val[customers_missing_val>0]\n",
    "azdias_missing_val = azdias.isnull().sum() / len(azdias)\n",
    "azdias_missing_val = azdias_missing_val[azdias_missing_val>0]\n",
    "\n",
    "# gets the columns with NaNs greater than 30 % of df len (num of rows)\n",
    "customers_cols_to_drop = get_cols_to_drop(customers, 0.30)\n",
    "azdias_cols_to_drop = get_cols_to_drop(azdias, 0.30)\n",
    "set(customers_cols_to_drop) - set(azdias_cols_to_drop)"
   ]
  },
  {
   "cell_type": "code",
   "execution_count": 72,
   "metadata": {},
   "outputs": [
    {
     "data": {
      "text/plain": [
       "KKK         0.313401\n",
       "REGIOTYP    0.313401\n",
       "dtype: float64"
      ]
     },
     "execution_count": 72,
     "metadata": {},
     "output_type": "execute_result"
    }
   ],
   "source": [
    "customers_missing_val[['KKK', 'REGIOTYP']]"
   ]
  },
  {
   "cell_type": "code",
   "execution_count": 73,
   "metadata": {},
   "outputs": [
    {
     "data": {
      "text/plain": [
       "KKK         0.177357\n",
       "REGIOTYP    0.177357\n",
       "dtype: float64"
      ]
     },
     "execution_count": 73,
     "metadata": {},
     "output_type": "execute_result"
    }
   ],
   "source": [
    "azdias_missing_val[['KKK', 'REGIOTYP']]"
   ]
  },
  {
   "cell_type": "code",
   "execution_count": 74,
   "metadata": {},
   "outputs": [
    {
     "data": {
      "text/plain": [
       "set()"
      ]
     },
     "execution_count": 74,
     "metadata": {},
     "output_type": "execute_result"
    }
   ],
   "source": [
    "# Change the threshold such that equal number of cols are dropped\n",
    "customers_cols_to_drop = get_cols_to_drop(customers, 0.33)\n",
    "azdias_cols_to_drop = get_cols_to_drop(azdias, 0.33)\n",
    "set(customers_cols_to_drop) - set(azdias_cols_to_drop)"
   ]
  },
  {
   "cell_type": "code",
   "execution_count": 75,
   "metadata": {},
   "outputs": [],
   "source": [
    "# Drop columns based on above threshold\n",
    "customers.dropna(thresh=int(0.66*len(customers)), axis=1, inplace=True)\n",
    "azdias.dropna(thresh=int(0.66*len(azdias)), axis=1, inplace=True)"
   ]
  },
  {
   "cell_type": "code",
   "execution_count": 76,
   "metadata": {},
   "outputs": [
    {
     "data": {
      "text/plain": [
       "True"
      ]
     },
     "execution_count": 76,
     "metadata": {},
     "output_type": "execute_result"
    }
   ],
   "source": [
    "# Verify same num of columns are present \n",
    "set(azdias.columns) == set(customers.columns)"
   ]
  },
  {
   "cell_type": "markdown",
   "metadata": {},
   "source": [
    "Let us look at the number of missing values per row and then construct a hist to check both dataframes"
   ]
  },
  {
   "cell_type": "code",
   "execution_count": 77,
   "metadata": {},
   "outputs": [],
   "source": [
    "# calculates the number rows with NaNs greater than 0\n",
    "azdias_missing_rows = azdias.isnull().sum(axis=1)\n",
    "azdias_missing_rows = azdias_missing_rows[azdias_missing_rows>0]\n",
    "customers_missing_rows = customers.isnull().sum(axis=1)\n",
    "customers_missing_rows = customers_missing_rows[customers_missing_rows>0]"
   ]
  },
  {
   "attachments": {},
   "cell_type": "markdown",
   "metadata": {},
   "source": [
    "Visualizing the missing data"
   ]
  },
  {
   "cell_type": "code",
   "execution_count": 78,
   "metadata": {},
   "outputs": [
    {
     "data": {
      "image/png": "[encoded data removed]",
      "text/plain": [
       "<Figure size 640x480 with 1 Axes>"
      ]
     },
     "metadata": {},
     "output_type": "display_data"
    }
   ],
   "source": [
    "plt.hist(azdias_missing_rows.values, label='azdias')\n",
    "plt.hist(customers_missing_rows.values, label='customers')\n",
    "plt.xlabel('Number of Missing Values')\n",
    "plt.ylabel('Number of Rows')\n",
    "plt.legend()\n",
    "plt.title('Distribution of Missing Values across Rows');"
   ]
  },
  {
   "cell_type": "code",
   "execution_count": 79,
   "metadata": {},
   "outputs": [
    {
     "data": {
      "text/plain": [
       "{20: 71.2, 25: 89.0, 50: 178.0, 70: 249.2, 75: 267.0, 80: 284.8}"
      ]
     },
     "execution_count": 79,
     "metadata": {},
     "output_type": "execute_result"
    }
   ],
   "source": [
    "# get the % of row size\n",
    "proportion_cols = {}\n",
    "for percent in [20, 25, 50, 70, 75, 80]:\n",
    "    proportion_cols[percent] = (percent/100)*azdias.shape[1]\n",
    "\n",
    "proportion_cols"
   ]
  },
  {
   "cell_type": "code",
   "execution_count": 80,
   "metadata": {},
   "outputs": [
    {
     "data": {
      "text/plain": [
       "(26.75735186692547, 11.87225166372875)"
      ]
     },
     "execution_count": 80,
     "metadata": {},
     "output_type": "execute_result"
    }
   ],
   "source": [
    "# Get proportion of rows that would be dropped given a particular threshold (100) of missing values\n",
    "get_missing_rows_percent(customers, 100), get_missing_rows_percent(azdias, 100)"
   ]
  },
  {
   "cell_type": "code",
   "execution_count": 81,
   "metadata": {},
   "outputs": [
    {
     "data": {
      "text/plain": [
       "(26.768309227140858, 11.890316767670422)"
      ]
     },
     "execution_count": 81,
     "metadata": {},
     "output_type": "execute_result"
    }
   ],
   "source": [
    "# Get proportion of rows that would be dropped given a particular threshold (25 % of columns length) of missing values\n",
    "get_missing_rows_percent(customers, proportion_cols[25]), get_missing_rows_percent(azdias, proportion_cols[25])"
   ]
  },
  {
   "cell_type": "code",
   "execution_count": 82,
   "metadata": {},
   "outputs": [
    {
     "data": {
      "text/plain": [
       "267.0"
      ]
     },
     "execution_count": 82,
     "metadata": {},
     "output_type": "execute_result"
    }
   ],
   "source": [
    "na_threshold_rows = np.ceil(proportion_cols[75])\n",
    "na_threshold_rows"
   ]
  },
  {
   "cell_type": "code",
   "execution_count": 83,
   "metadata": {},
   "outputs": [],
   "source": [
    "# value of thresh arg determines the minimum non-na values required beyond which the row is considered for dropping \n",
    "azdias.dropna(thresh=na_threshold_rows, axis=0, inplace=True)\n",
    "customers.dropna(thresh=na_threshold_rows, axis=0, inplace=True)"
   ]
  },
  {
   "cell_type": "markdown",
   "metadata": {},
   "source": [
    "Visualizing the missing data"
   ]
  },
  {
   "cell_type": "code",
   "execution_count": 84,
   "metadata": {},
   "outputs": [
    {
     "data": {
      "image/png": "[encoded data removed]",
      "text/plain": [
       "<Figure size 640x480 with 1 Axes>"
      ]
     },
     "metadata": {},
     "output_type": "display_data"
    }
   ],
   "source": [
    "plt.hist(azdias.isnull().sum(axis=1).values, label='azdias')\n",
    "plt.hist(customers.isnull().sum(axis=1).values, label='customers')\n",
    "plt.xlabel('Number of Missing Values')\n",
    "plt.ylabel('Number of Rows')\n",
    "plt.legend()\n",
    "plt.title('Distribution of Missing Values across Rows');"
   ]
  },
  {
   "attachments": {},
   "cell_type": "markdown",
   "metadata": {},
   "source": [
    "##### Checkpoint"
   ]
  },
  {
   "cell_type": "code",
   "execution_count": 85,
   "metadata": {},
   "outputs": [],
   "source": [
    "with open('models/clean_data.pkl', 'wb') as file:\n",
    "    dill.dump(clean_data, file)"
   ]
  },
  {
   "cell_type": "code",
   "execution_count": 86,
   "metadata": {},
   "outputs": [],
   "source": [
    "azdias.to_pickle('data/azdias_cleaned.pkl')\n",
    "customers.to_pickle('data/customers_cleaned.pkl')"
   ]
  },
  {
   "cell_type": "code",
   "execution_count": 88,
   "metadata": {},
   "outputs": [],
   "source": [
    "azdias=pd.read_pickle('data/azdias_cleaned.pkl')\n",
    "customers=pd.read_pickle('data/customers_cleaned.pkl')"
   ]
  },
  {
   "attachments": {},
   "cell_type": "markdown",
   "metadata": {},
   "source": [
    "### Feature Engineering by re-encoding certain columns"
   ]
  },
  {
   "cell_type": "code",
   "execution_count": 85,
   "metadata": {},
   "outputs": [],
   "source": [
    "from src.pipelines import FeatureEngineer"
   ]
  },
  {
   "cell_type": "code",
   "execution_count": 86,
   "metadata": {},
   "outputs": [],
   "source": [
    "feature_engine = FeatureEngineer(azdias)"
   ]
  },
  {
   "attachments": {},
   "cell_type": "markdown",
   "metadata": {},
   "source": [
    "#### Dealing with cameo Cols"
   ]
  },
  {
   "cell_type": "code",
   "execution_count": 87,
   "metadata": {},
   "outputs": [
    {
     "data": {
      "text/html": [
       "<div>\n",
       "<style scoped>\n",
       "    .dataframe tbody tr th:only-of-type {\n",
       "        vertical-align: middle;\n",
       "    }\n",
       "\n",
       "    .dataframe tbody tr th {\n",
       "        vertical-align: top;\n",
       "    }\n",
       "\n",
       "    .dataframe thead th {\n",
       "        text-align: right;\n",
       "    }\n",
       "</style>\n",
       "<table border=\"1\" class=\"dataframe\">\n",
       "  <thead>\n",
       "    <tr style=\"text-align: right;\">\n",
       "      <th></th>\n",
       "      <th>Attribute</th>\n",
       "      <th>Description</th>\n",
       "      <th>Value</th>\n",
       "      <th>Meaning</th>\n",
       "      <th>Missing</th>\n",
       "    </tr>\n",
       "  </thead>\n",
       "  <tbody>\n",
       "    <tr>\n",
       "      <th>105</th>\n",
       "      <td>CAMEO_INTL_2015</td>\n",
       "      <td>CAMEO classification 2015 - international typo...</td>\n",
       "      <td>-1</td>\n",
       "      <td>unknown</td>\n",
       "      <td>True</td>\n",
       "    </tr>\n",
       "    <tr>\n",
       "      <th>106</th>\n",
       "      <td>CAMEO_INTL_2015</td>\n",
       "      <td>(each German CAMEO code belongs to one interna...</td>\n",
       "      <td>11</td>\n",
       "      <td>Wealthy Households-Pre-Family Couples &amp; Singles</td>\n",
       "      <td>False</td>\n",
       "    </tr>\n",
       "    <tr>\n",
       "      <th>107</th>\n",
       "      <td>CAMEO_INTL_2015</td>\n",
       "      <td>(each German CAMEO code belongs to one interna...</td>\n",
       "      <td>12</td>\n",
       "      <td>Wealthy Households-Young Couples With Children</td>\n",
       "      <td>False</td>\n",
       "    </tr>\n",
       "    <tr>\n",
       "      <th>108</th>\n",
       "      <td>CAMEO_INTL_2015</td>\n",
       "      <td>(each German CAMEO code belongs to one interna...</td>\n",
       "      <td>13</td>\n",
       "      <td>Wealthy Households-Families With School Age Ch...</td>\n",
       "      <td>False</td>\n",
       "    </tr>\n",
       "    <tr>\n",
       "      <th>109</th>\n",
       "      <td>CAMEO_INTL_2015</td>\n",
       "      <td>(each German CAMEO code belongs to one interna...</td>\n",
       "      <td>14</td>\n",
       "      <td>Wealthy Households-Older Families &amp;  Mature Co...</td>\n",
       "      <td>False</td>\n",
       "    </tr>\n",
       "    <tr>\n",
       "      <th>110</th>\n",
       "      <td>CAMEO_INTL_2015</td>\n",
       "      <td>(each German CAMEO code belongs to one interna...</td>\n",
       "      <td>15</td>\n",
       "      <td>Wealthy Households-Elders In Retirement</td>\n",
       "      <td>False</td>\n",
       "    </tr>\n",
       "    <tr>\n",
       "      <th>111</th>\n",
       "      <td>CAMEO_INTL_2015</td>\n",
       "      <td>(each German CAMEO code belongs to one interna...</td>\n",
       "      <td>21</td>\n",
       "      <td>Prosperous Households-Pre-Family Couples &amp; Sin...</td>\n",
       "      <td>False</td>\n",
       "    </tr>\n",
       "    <tr>\n",
       "      <th>112</th>\n",
       "      <td>CAMEO_INTL_2015</td>\n",
       "      <td>(each German CAMEO code belongs to one interna...</td>\n",
       "      <td>22</td>\n",
       "      <td>Prosperous Households-Young Couples With Children</td>\n",
       "      <td>False</td>\n",
       "    </tr>\n",
       "    <tr>\n",
       "      <th>113</th>\n",
       "      <td>CAMEO_INTL_2015</td>\n",
       "      <td>(each German CAMEO code belongs to one interna...</td>\n",
       "      <td>23</td>\n",
       "      <td>Prosperous Households-Families With School Age...</td>\n",
       "      <td>False</td>\n",
       "    </tr>\n",
       "    <tr>\n",
       "      <th>114</th>\n",
       "      <td>CAMEO_INTL_2015</td>\n",
       "      <td>(each German CAMEO code belongs to one interna...</td>\n",
       "      <td>24</td>\n",
       "      <td>Prosperous Households-Older Families &amp; Mature ...</td>\n",
       "      <td>False</td>\n",
       "    </tr>\n",
       "    <tr>\n",
       "      <th>115</th>\n",
       "      <td>CAMEO_INTL_2015</td>\n",
       "      <td>(each German CAMEO code belongs to one interna...</td>\n",
       "      <td>25</td>\n",
       "      <td>Prosperous Households-Elders In Retirement</td>\n",
       "      <td>False</td>\n",
       "    </tr>\n",
       "    <tr>\n",
       "      <th>116</th>\n",
       "      <td>CAMEO_INTL_2015</td>\n",
       "      <td>(each German CAMEO code belongs to one interna...</td>\n",
       "      <td>31</td>\n",
       "      <td>Comfortable Households-Pre-Family Couples &amp; Si...</td>\n",
       "      <td>False</td>\n",
       "    </tr>\n",
       "    <tr>\n",
       "      <th>117</th>\n",
       "      <td>CAMEO_INTL_2015</td>\n",
       "      <td>(each German CAMEO code belongs to one interna...</td>\n",
       "      <td>32</td>\n",
       "      <td>Comfortable Households-Young Couples With Chil...</td>\n",
       "      <td>False</td>\n",
       "    </tr>\n",
       "    <tr>\n",
       "      <th>118</th>\n",
       "      <td>CAMEO_INTL_2015</td>\n",
       "      <td>(each German CAMEO code belongs to one interna...</td>\n",
       "      <td>33</td>\n",
       "      <td>Comfortable Households-Families With School Ag...</td>\n",
       "      <td>False</td>\n",
       "    </tr>\n",
       "    <tr>\n",
       "      <th>119</th>\n",
       "      <td>CAMEO_INTL_2015</td>\n",
       "      <td>(each German CAMEO code belongs to one interna...</td>\n",
       "      <td>34</td>\n",
       "      <td>Comfortable Households-Older Families &amp; Mature...</td>\n",
       "      <td>False</td>\n",
       "    </tr>\n",
       "    <tr>\n",
       "      <th>120</th>\n",
       "      <td>CAMEO_INTL_2015</td>\n",
       "      <td>(each German CAMEO code belongs to one interna...</td>\n",
       "      <td>35</td>\n",
       "      <td>Comfortable Households-Elders In Retirement</td>\n",
       "      <td>False</td>\n",
       "    </tr>\n",
       "    <tr>\n",
       "      <th>121</th>\n",
       "      <td>CAMEO_INTL_2015</td>\n",
       "      <td>(each German CAMEO code belongs to one interna...</td>\n",
       "      <td>41</td>\n",
       "      <td>Less Affluent Households-Pre-Family Couples &amp; ...</td>\n",
       "      <td>False</td>\n",
       "    </tr>\n",
       "    <tr>\n",
       "      <th>122</th>\n",
       "      <td>CAMEO_INTL_2015</td>\n",
       "      <td>(each German CAMEO code belongs to one interna...</td>\n",
       "      <td>42</td>\n",
       "      <td>Less Affluent Households-Young Couples With Ch...</td>\n",
       "      <td>False</td>\n",
       "    </tr>\n",
       "    <tr>\n",
       "      <th>123</th>\n",
       "      <td>CAMEO_INTL_2015</td>\n",
       "      <td>(each German CAMEO code belongs to one interna...</td>\n",
       "      <td>43</td>\n",
       "      <td>Less Affluent Households-Families With School ...</td>\n",
       "      <td>False</td>\n",
       "    </tr>\n",
       "    <tr>\n",
       "      <th>124</th>\n",
       "      <td>CAMEO_INTL_2015</td>\n",
       "      <td>(each German CAMEO code belongs to one interna...</td>\n",
       "      <td>44</td>\n",
       "      <td>Less Affluent Households-Older Families &amp; Matu...</td>\n",
       "      <td>False</td>\n",
       "    </tr>\n",
       "    <tr>\n",
       "      <th>125</th>\n",
       "      <td>CAMEO_INTL_2015</td>\n",
       "      <td>(each German CAMEO code belongs to one interna...</td>\n",
       "      <td>45</td>\n",
       "      <td>Less Affluent Households-Elders In Retirement</td>\n",
       "      <td>False</td>\n",
       "    </tr>\n",
       "    <tr>\n",
       "      <th>126</th>\n",
       "      <td>CAMEO_INTL_2015</td>\n",
       "      <td>(each German CAMEO code belongs to one interna...</td>\n",
       "      <td>51</td>\n",
       "      <td>Poorer Households-Pre-Family Couples &amp; Singles</td>\n",
       "      <td>False</td>\n",
       "    </tr>\n",
       "    <tr>\n",
       "      <th>127</th>\n",
       "      <td>CAMEO_INTL_2015</td>\n",
       "      <td>(each German CAMEO code belongs to one interna...</td>\n",
       "      <td>52</td>\n",
       "      <td>Poorer Households-Young Couples With Children</td>\n",
       "      <td>False</td>\n",
       "    </tr>\n",
       "    <tr>\n",
       "      <th>128</th>\n",
       "      <td>CAMEO_INTL_2015</td>\n",
       "      <td>(each German CAMEO code belongs to one interna...</td>\n",
       "      <td>53</td>\n",
       "      <td>Poorer Households-Families With School Age Chi...</td>\n",
       "      <td>False</td>\n",
       "    </tr>\n",
       "    <tr>\n",
       "      <th>129</th>\n",
       "      <td>CAMEO_INTL_2015</td>\n",
       "      <td>(each German CAMEO code belongs to one interna...</td>\n",
       "      <td>54</td>\n",
       "      <td>Poorer Households-Older Families &amp; Mature Couples</td>\n",
       "      <td>False</td>\n",
       "    </tr>\n",
       "    <tr>\n",
       "      <th>130</th>\n",
       "      <td>CAMEO_INTL_2015</td>\n",
       "      <td>(each German CAMEO code belongs to one interna...</td>\n",
       "      <td>55</td>\n",
       "      <td>Poorer Households-Elders In Retirement</td>\n",
       "      <td>False</td>\n",
       "    </tr>\n",
       "  </tbody>\n",
       "</table>\n",
       "</div>"
      ],
      "text/plain": [
       "           Attribute                                        Description Value  \\\n",
       "105  CAMEO_INTL_2015  CAMEO classification 2015 - international typo...    -1   \n",
       "106  CAMEO_INTL_2015  (each German CAMEO code belongs to one interna...    11   \n",
       "107  CAMEO_INTL_2015  (each German CAMEO code belongs to one interna...    12   \n",
       "108  CAMEO_INTL_2015  (each German CAMEO code belongs to one interna...    13   \n",
       "109  CAMEO_INTL_2015  (each German CAMEO code belongs to one interna...    14   \n",
       "110  CAMEO_INTL_2015  (each German CAMEO code belongs to one interna...    15   \n",
       "111  CAMEO_INTL_2015  (each German CAMEO code belongs to one interna...    21   \n",
       "112  CAMEO_INTL_2015  (each German CAMEO code belongs to one interna...    22   \n",
       "113  CAMEO_INTL_2015  (each German CAMEO code belongs to one interna...    23   \n",
       "114  CAMEO_INTL_2015  (each German CAMEO code belongs to one interna...    24   \n",
       "115  CAMEO_INTL_2015  (each German CAMEO code belongs to one interna...    25   \n",
       "116  CAMEO_INTL_2015  (each German CAMEO code belongs to one interna...    31   \n",
       "117  CAMEO_INTL_2015  (each German CAMEO code belongs to one interna...    32   \n",
       "118  CAMEO_INTL_2015  (each German CAMEO code belongs to one interna...    33   \n",
       "119  CAMEO_INTL_2015  (each German CAMEO code belongs to one interna...    34   \n",
       "120  CAMEO_INTL_2015  (each German CAMEO code belongs to one interna...    35   \n",
       "121  CAMEO_INTL_2015  (each German CAMEO code belongs to one interna...    41   \n",
       "122  CAMEO_INTL_2015  (each German CAMEO code belongs to one interna...    42   \n",
       "123  CAMEO_INTL_2015  (each German CAMEO code belongs to one interna...    43   \n",
       "124  CAMEO_INTL_2015  (each German CAMEO code belongs to one interna...    44   \n",
       "125  CAMEO_INTL_2015  (each German CAMEO code belongs to one interna...    45   \n",
       "126  CAMEO_INTL_2015  (each German CAMEO code belongs to one interna...    51   \n",
       "127  CAMEO_INTL_2015  (each German CAMEO code belongs to one interna...    52   \n",
       "128  CAMEO_INTL_2015  (each German CAMEO code belongs to one interna...    53   \n",
       "129  CAMEO_INTL_2015  (each German CAMEO code belongs to one interna...    54   \n",
       "130  CAMEO_INTL_2015  (each German CAMEO code belongs to one interna...    55   \n",
       "\n",
       "                                               Meaning Missing  \n",
       "105                                            unknown    True  \n",
       "106    Wealthy Households-Pre-Family Couples & Singles   False  \n",
       "107     Wealthy Households-Young Couples With Children   False  \n",
       "108  Wealthy Households-Families With School Age Ch...   False  \n",
       "109  Wealthy Households-Older Families &  Mature Co...   False  \n",
       "110            Wealthy Households-Elders In Retirement   False  \n",
       "111  Prosperous Households-Pre-Family Couples & Sin...   False  \n",
       "112  Prosperous Households-Young Couples With Children   False  \n",
       "113  Prosperous Households-Families With School Age...   False  \n",
       "114  Prosperous Households-Older Families & Mature ...   False  \n",
       "115         Prosperous Households-Elders In Retirement   False  \n",
       "116  Comfortable Households-Pre-Family Couples & Si...   False  \n",
       "117  Comfortable Households-Young Couples With Chil...   False  \n",
       "118  Comfortable Households-Families With School Ag...   False  \n",
       "119  Comfortable Households-Older Families & Mature...   False  \n",
       "120        Comfortable Households-Elders In Retirement   False  \n",
       "121  Less Affluent Households-Pre-Family Couples & ...   False  \n",
       "122  Less Affluent Households-Young Couples With Ch...   False  \n",
       "123  Less Affluent Households-Families With School ...   False  \n",
       "124  Less Affluent Households-Older Families & Matu...   False  \n",
       "125      Less Affluent Households-Elders In Retirement   False  \n",
       "126     Poorer Households-Pre-Family Couples & Singles   False  \n",
       "127      Poorer Households-Young Couples With Children   False  \n",
       "128  Poorer Households-Families With School Age Chi...   False  \n",
       "129  Poorer Households-Older Families & Mature Couples   False  \n",
       "130             Poorer Households-Elders In Retirement   False  "
      ]
     },
     "execution_count": 87,
     "metadata": {},
     "output_type": "execute_result"
    }
   ],
   "source": [
    "get_attribute_info(cols_cameo[2], attributes)"
   ]
  },
  {
   "cell_type": "code",
   "execution_count": 88,
   "metadata": {},
   "outputs": [],
   "source": [
    "# Create new columns by applying function to cameo cols\n",
    "feature_engine.apply_transform('CAMEO_INTL_HH_ECON', cols_cameo[2], lambda x: x//10)\n",
    "feature_engine.apply_transform('CAMEO_INTL_FAM_INFO', cols_cameo[2], lambda x: x%10)"
   ]
  },
  {
   "cell_type": "code",
   "execution_count": 89,
   "metadata": {},
   "outputs": [],
   "source": [
    "# feature_engine.apply_transform('CAMEO_DEU_LEBENSSTIL', cols_cameo[1], lambda x: x[1] if type(x)==str else x)\n",
    "# azdias['CAMEO_DEU_LEBENSSTIL'].unique()"
   ]
  },
  {
   "cell_type": "code",
   "execution_count": 90,
   "metadata": {},
   "outputs": [],
   "source": [
    "# print(azdias['CAMEO_DEU_LEBENSSTIL'].unique())\n",
    "# feature_engine.apply_remap('CAMEO_DEU_LEBENSSTIL', 'CAMEO_DEU_LEBENSSTIL', {'A':1, 'C':3, 'B':2, 'D':4, 'E':5, 'F':6})\n",
    "# print(azdias['CAMEO_DEU_LEBENSSTIL'].unique())"
   ]
  },
  {
   "attachments": {},
   "cell_type": "markdown",
   "metadata": {},
   "source": [
    "#### Dealing with ther columns with extra encodings & other issues we noticed earlier "
   ]
  },
  {
   "cell_type": "code",
   "execution_count": 91,
   "metadata": {},
   "outputs": [
    {
     "data": {
      "text/html": [
       "<div>\n",
       "<style scoped>\n",
       "    .dataframe tbody tr th:only-of-type {\n",
       "        vertical-align: middle;\n",
       "    }\n",
       "\n",
       "    .dataframe tbody tr th {\n",
       "        vertical-align: top;\n",
       "    }\n",
       "\n",
       "    .dataframe thead th {\n",
       "        text-align: right;\n",
       "    }\n",
       "</style>\n",
       "<table border=\"1\" class=\"dataframe\">\n",
       "  <thead>\n",
       "    <tr style=\"text-align: right;\">\n",
       "      <th></th>\n",
       "      <th>Attribute</th>\n",
       "      <th>Description</th>\n",
       "      <th>Value</th>\n",
       "      <th>Meaning</th>\n",
       "      <th>Missing</th>\n",
       "    </tr>\n",
       "  </thead>\n",
       "  <tbody>\n",
       "    <tr>\n",
       "      <th>1903</th>\n",
       "      <td>LP_FAMILIE_GROB</td>\n",
       "      <td>familytyp rough</td>\n",
       "      <td>1</td>\n",
       "      <td>single</td>\n",
       "      <td>False</td>\n",
       "    </tr>\n",
       "    <tr>\n",
       "      <th>1904</th>\n",
       "      <td>LP_FAMILIE_GROB</td>\n",
       "      <td>familytyp rough</td>\n",
       "      <td>2</td>\n",
       "      <td>couple</td>\n",
       "      <td>False</td>\n",
       "    </tr>\n",
       "    <tr>\n",
       "      <th>1905</th>\n",
       "      <td>LP_FAMILIE_GROB</td>\n",
       "      <td>familytyp rough</td>\n",
       "      <td>3</td>\n",
       "      <td>single parent</td>\n",
       "      <td>False</td>\n",
       "    </tr>\n",
       "    <tr>\n",
       "      <th>1906</th>\n",
       "      <td>LP_FAMILIE_GROB</td>\n",
       "      <td>familytyp rough</td>\n",
       "      <td>4</td>\n",
       "      <td>NaN</td>\n",
       "      <td>NaN</td>\n",
       "    </tr>\n",
       "    <tr>\n",
       "      <th>1907</th>\n",
       "      <td>LP_FAMILIE_GROB</td>\n",
       "      <td>familytyp rough</td>\n",
       "      <td>5</td>\n",
       "      <td>NaN</td>\n",
       "      <td>NaN</td>\n",
       "    </tr>\n",
       "    <tr>\n",
       "      <th>1908</th>\n",
       "      <td>LP_FAMILIE_GROB</td>\n",
       "      <td>familytyp rough</td>\n",
       "      <td>6</td>\n",
       "      <td>family</td>\n",
       "      <td>False</td>\n",
       "    </tr>\n",
       "    <tr>\n",
       "      <th>1909</th>\n",
       "      <td>LP_FAMILIE_GROB</td>\n",
       "      <td>familytyp rough</td>\n",
       "      <td>7</td>\n",
       "      <td>NaN</td>\n",
       "      <td>NaN</td>\n",
       "    </tr>\n",
       "    <tr>\n",
       "      <th>1910</th>\n",
       "      <td>LP_FAMILIE_GROB</td>\n",
       "      <td>familytyp rough</td>\n",
       "      <td>8</td>\n",
       "      <td>NaN</td>\n",
       "      <td>NaN</td>\n",
       "    </tr>\n",
       "    <tr>\n",
       "      <th>1911</th>\n",
       "      <td>LP_FAMILIE_GROB</td>\n",
       "      <td>familytyp rough</td>\n",
       "      <td>9</td>\n",
       "      <td>multiperson household</td>\n",
       "      <td>False</td>\n",
       "    </tr>\n",
       "    <tr>\n",
       "      <th>1912</th>\n",
       "      <td>LP_FAMILIE_GROB</td>\n",
       "      <td>familytyp rough</td>\n",
       "      <td>10</td>\n",
       "      <td>NaN</td>\n",
       "      <td>NaN</td>\n",
       "    </tr>\n",
       "    <tr>\n",
       "      <th>1913</th>\n",
       "      <td>LP_FAMILIE_GROB</td>\n",
       "      <td>familytyp rough</td>\n",
       "      <td>11</td>\n",
       "      <td>NaN</td>\n",
       "      <td>NaN</td>\n",
       "    </tr>\n",
       "  </tbody>\n",
       "</table>\n",
       "</div>"
      ],
      "text/plain": [
       "            Attribute      Description Value                Meaning Missing\n",
       "1903  LP_FAMILIE_GROB  familytyp rough     1                single    False\n",
       "1904  LP_FAMILIE_GROB  familytyp rough     2                 couple   False\n",
       "1905  LP_FAMILIE_GROB  familytyp rough     3          single parent   False\n",
       "1906  LP_FAMILIE_GROB  familytyp rough     4                    NaN     NaN\n",
       "1907  LP_FAMILIE_GROB  familytyp rough     5                    NaN     NaN\n",
       "1908  LP_FAMILIE_GROB  familytyp rough     6                 family   False\n",
       "1909  LP_FAMILIE_GROB  familytyp rough     7                    NaN     NaN\n",
       "1910  LP_FAMILIE_GROB  familytyp rough     8                    NaN     NaN\n",
       "1911  LP_FAMILIE_GROB  familytyp rough     9  multiperson household   False\n",
       "1912  LP_FAMILIE_GROB  familytyp rough    10                    NaN     NaN\n",
       "1913  LP_FAMILIE_GROB  familytyp rough    11                    NaN     NaN"
      ]
     },
     "execution_count": 91,
     "metadata": {},
     "output_type": "execute_result"
    }
   ],
   "source": [
    "LP_FAMILIE_GROB_attribute_values = get_attribute_info('LP_FAMILIE_GROB', attributes).copy()\n",
    "LP_FAMILIE_GROB_attribute_values"
   ]
  },
  {
   "cell_type": "code",
   "execution_count": 92,
   "metadata": {},
   "outputs": [
    {
     "data": {
      "text/plain": [
       "array([ 3.,  1., nan,  5.,  2.,  4.])"
      ]
     },
     "execution_count": 92,
     "metadata": {},
     "output_type": "execute_result"
    }
   ],
   "source": [
    "azdias['LP_FAMILIE_GROB'].unique()"
   ]
  },
  {
   "cell_type": "code",
   "execution_count": 93,
   "metadata": {},
   "outputs": [],
   "source": [
    "# Creates a dict using attributes df\n",
    "LP_FAMILIE_GROB_attribute_values.Meaning = LP_FAMILIE_GROB_attribute_values.Meaning.str.strip()\n",
    "# https://stackoverflow.com/questions/18695605/how-to-convert-a-dataframe-to-a-dictionary\n",
    "LP_FAMILIE_GROB_attribute_values.ffill(inplace=True)\n",
    "LP_FAMILIE_GROB_attribute_values['Meaning'].replace(\n",
    "    {'single':1, 'couple':2, 'single parent':3, 'family':4, 'multiperson household':5},\n",
    "    inplace=True)\n",
    "LP_FAMILIE_GROB_dict = LP_FAMILIE_GROB_attribute_values.set_index('Value')['Meaning'].to_dict()\n",
    "\n",
    "# Create new column from the applied encoding\n",
    "feature_engine.apply_remap('LP_FAMILIE_GROB_HH', 'LP_FAMILIE_GROB', \n",
    "                           LP_FAMILIE_GROB_dict\n",
    "                           )"
   ]
  },
  {
   "cell_type": "code",
   "execution_count": 94,
   "metadata": {},
   "outputs": [
    {
     "data": {
      "text/html": [
       "<div>\n",
       "<style scoped>\n",
       "    .dataframe tbody tr th:only-of-type {\n",
       "        vertical-align: middle;\n",
       "    }\n",
       "\n",
       "    .dataframe tbody tr th {\n",
       "        vertical-align: top;\n",
       "    }\n",
       "\n",
       "    .dataframe thead th {\n",
       "        text-align: right;\n",
       "    }\n",
       "</style>\n",
       "<table border=\"1\" class=\"dataframe\">\n",
       "  <thead>\n",
       "    <tr style=\"text-align: right;\">\n",
       "      <th></th>\n",
       "      <th>Attribute</th>\n",
       "      <th>Description</th>\n",
       "      <th>Value</th>\n",
       "      <th>Meaning</th>\n",
       "      <th>Missing</th>\n",
       "    </tr>\n",
       "  </thead>\n",
       "  <tbody>\n",
       "    <tr>\n",
       "      <th>1892</th>\n",
       "      <td>LP_FAMILIE_FEIN</td>\n",
       "      <td>familytyp fine</td>\n",
       "      <td>1</td>\n",
       "      <td>single</td>\n",
       "      <td>False</td>\n",
       "    </tr>\n",
       "    <tr>\n",
       "      <th>1893</th>\n",
       "      <td>LP_FAMILIE_FEIN</td>\n",
       "      <td>familytyp fine</td>\n",
       "      <td>2</td>\n",
       "      <td>couple</td>\n",
       "      <td>False</td>\n",
       "    </tr>\n",
       "    <tr>\n",
       "      <th>1894</th>\n",
       "      <td>LP_FAMILIE_FEIN</td>\n",
       "      <td>familytyp fine</td>\n",
       "      <td>3</td>\n",
       "      <td>young single parent</td>\n",
       "      <td>False</td>\n",
       "    </tr>\n",
       "    <tr>\n",
       "      <th>1895</th>\n",
       "      <td>LP_FAMILIE_FEIN</td>\n",
       "      <td>familytyp fine</td>\n",
       "      <td>4</td>\n",
       "      <td>single parent with teenager</td>\n",
       "      <td>False</td>\n",
       "    </tr>\n",
       "    <tr>\n",
       "      <th>1896</th>\n",
       "      <td>LP_FAMILIE_FEIN</td>\n",
       "      <td>familytyp fine</td>\n",
       "      <td>5</td>\n",
       "      <td>single parent with child of full age</td>\n",
       "      <td>False</td>\n",
       "    </tr>\n",
       "    <tr>\n",
       "      <th>1897</th>\n",
       "      <td>LP_FAMILIE_FEIN</td>\n",
       "      <td>familytyp fine</td>\n",
       "      <td>6</td>\n",
       "      <td>young family</td>\n",
       "      <td>False</td>\n",
       "    </tr>\n",
       "    <tr>\n",
       "      <th>1898</th>\n",
       "      <td>LP_FAMILIE_FEIN</td>\n",
       "      <td>familytyp fine</td>\n",
       "      <td>7</td>\n",
       "      <td>family with teenager</td>\n",
       "      <td>False</td>\n",
       "    </tr>\n",
       "    <tr>\n",
       "      <th>1899</th>\n",
       "      <td>LP_FAMILIE_FEIN</td>\n",
       "      <td>familytyp fine</td>\n",
       "      <td>8</td>\n",
       "      <td>family with child of full age</td>\n",
       "      <td>False</td>\n",
       "    </tr>\n",
       "    <tr>\n",
       "      <th>1900</th>\n",
       "      <td>LP_FAMILIE_FEIN</td>\n",
       "      <td>familytyp fine</td>\n",
       "      <td>9</td>\n",
       "      <td>shared flat</td>\n",
       "      <td>False</td>\n",
       "    </tr>\n",
       "    <tr>\n",
       "      <th>1901</th>\n",
       "      <td>LP_FAMILIE_FEIN</td>\n",
       "      <td>familytyp fine</td>\n",
       "      <td>10</td>\n",
       "      <td>two-generational household</td>\n",
       "      <td>False</td>\n",
       "    </tr>\n",
       "    <tr>\n",
       "      <th>1902</th>\n",
       "      <td>LP_FAMILIE_FEIN</td>\n",
       "      <td>familytyp fine</td>\n",
       "      <td>11</td>\n",
       "      <td>multi-generational household</td>\n",
       "      <td>False</td>\n",
       "    </tr>\n",
       "  </tbody>\n",
       "</table>\n",
       "</div>"
      ],
      "text/plain": [
       "            Attribute     Description Value  \\\n",
       "1892  LP_FAMILIE_FEIN  familytyp fine     1   \n",
       "1893  LP_FAMILIE_FEIN  familytyp fine     2   \n",
       "1894  LP_FAMILIE_FEIN  familytyp fine     3   \n",
       "1895  LP_FAMILIE_FEIN  familytyp fine     4   \n",
       "1896  LP_FAMILIE_FEIN  familytyp fine     5   \n",
       "1897  LP_FAMILIE_FEIN  familytyp fine     6   \n",
       "1898  LP_FAMILIE_FEIN  familytyp fine     7   \n",
       "1899  LP_FAMILIE_FEIN  familytyp fine     8   \n",
       "1900  LP_FAMILIE_FEIN  familytyp fine     9   \n",
       "1901  LP_FAMILIE_FEIN  familytyp fine    10   \n",
       "1902  LP_FAMILIE_FEIN  familytyp fine    11   \n",
       "\n",
       "                                   Meaning Missing  \n",
       "1892                               single    False  \n",
       "1893                                couple   False  \n",
       "1894                  young single parent    False  \n",
       "1895           single parent with teenager   False  \n",
       "1896  single parent with child of full age   False  \n",
       "1897                         young family    False  \n",
       "1898                 family with teenager    False  \n",
       "1899         family with child of full age   False  \n",
       "1900                           shared flat   False  \n",
       "1901            two-generational household   False  \n",
       "1902          multi-generational household   False  "
      ]
     },
     "execution_count": 94,
     "metadata": {},
     "output_type": "execute_result"
    }
   ],
   "source": [
    "LP_FAMILIE_FEIN_attribute_values = get_attribute_info('LP_FAMILIE_FEIN', attributes).copy()\n",
    "LP_FAMILIE_FEIN_attribute_values"
   ]
  },
  {
   "cell_type": "code",
   "execution_count": 95,
   "metadata": {},
   "outputs": [
    {
     "data": {
      "text/plain": [
       "array([ 5.,  1., nan, 10.,  2.,  7., 11.,  8.,  4.,  6.,  9.,  3.])"
      ]
     },
     "execution_count": 95,
     "metadata": {},
     "output_type": "execute_result"
    }
   ],
   "source": [
    "azdias['LP_FAMILIE_FEIN'].unique()"
   ]
  },
  {
   "cell_type": "code",
   "execution_count": 96,
   "metadata": {},
   "outputs": [],
   "source": [
    "# Create new column from the applied encoding\n",
    "# We will use the dict above as the values are similar\n",
    "feature_engine.apply_remap('LP_FAMILIE_FEIN_HH', 'LP_FAMILIE_FEIN',\n",
    "                            LP_FAMILIE_GROB_dict\n",
    "                            )"
   ]
  },
  {
   "cell_type": "code",
   "execution_count": 97,
   "metadata": {},
   "outputs": [
    {
     "name": "stdout",
     "output_type": "stream",
     "text": [
      "Unique Values in Column LP_FAMILIE_GROB:  [ 3.  1. nan  5.  2.  4.]\n",
      "Unique Values in Column LP_FAMILIE_FEIN:  [ 5.  1. nan 10.  2.  7. 11.  8.  4.  6.  9.  3.]\n"
     ]
    }
   ],
   "source": [
    "# Check unique values in above columns after transformations/replacement\n",
    "for col in ['LP_FAMILIE_GROB', 'LP_FAMILIE_FEIN']:\n",
    "    get_unique_vals(azdias, col)"
   ]
  },
  {
   "cell_type": "code",
   "execution_count": 98,
   "metadata": {},
   "outputs": [
    {
     "data": {
      "text/html": [
       "<div>\n",
       "<style scoped>\n",
       "    .dataframe tbody tr th:only-of-type {\n",
       "        vertical-align: middle;\n",
       "    }\n",
       "\n",
       "    .dataframe tbody tr th {\n",
       "        vertical-align: top;\n",
       "    }\n",
       "\n",
       "    .dataframe thead th {\n",
       "        text-align: right;\n",
       "    }\n",
       "</style>\n",
       "<table border=\"1\" class=\"dataframe\">\n",
       "  <thead>\n",
       "    <tr style=\"text-align: right;\">\n",
       "      <th></th>\n",
       "      <th>Attribute</th>\n",
       "      <th>Description</th>\n",
       "      <th>Value</th>\n",
       "      <th>Meaning</th>\n",
       "      <th>Missing</th>\n",
       "    </tr>\n",
       "  </thead>\n",
       "  <tbody>\n",
       "    <tr>\n",
       "      <th>1892</th>\n",
       "      <td>LP_FAMILIE_FEIN</td>\n",
       "      <td>familytyp fine</td>\n",
       "      <td>1</td>\n",
       "      <td>single</td>\n",
       "      <td>False</td>\n",
       "    </tr>\n",
       "    <tr>\n",
       "      <th>1893</th>\n",
       "      <td>LP_FAMILIE_FEIN</td>\n",
       "      <td>familytyp fine</td>\n",
       "      <td>2</td>\n",
       "      <td>couple</td>\n",
       "      <td>False</td>\n",
       "    </tr>\n",
       "    <tr>\n",
       "      <th>1894</th>\n",
       "      <td>LP_FAMILIE_FEIN</td>\n",
       "      <td>familytyp fine</td>\n",
       "      <td>3</td>\n",
       "      <td>young single parent</td>\n",
       "      <td>False</td>\n",
       "    </tr>\n",
       "    <tr>\n",
       "      <th>1895</th>\n",
       "      <td>LP_FAMILIE_FEIN</td>\n",
       "      <td>familytyp fine</td>\n",
       "      <td>4</td>\n",
       "      <td>single parent with teenager</td>\n",
       "      <td>False</td>\n",
       "    </tr>\n",
       "    <tr>\n",
       "      <th>1896</th>\n",
       "      <td>LP_FAMILIE_FEIN</td>\n",
       "      <td>familytyp fine</td>\n",
       "      <td>5</td>\n",
       "      <td>single parent with child of full age</td>\n",
       "      <td>False</td>\n",
       "    </tr>\n",
       "    <tr>\n",
       "      <th>1897</th>\n",
       "      <td>LP_FAMILIE_FEIN</td>\n",
       "      <td>familytyp fine</td>\n",
       "      <td>6</td>\n",
       "      <td>young family</td>\n",
       "      <td>False</td>\n",
       "    </tr>\n",
       "    <tr>\n",
       "      <th>1898</th>\n",
       "      <td>LP_FAMILIE_FEIN</td>\n",
       "      <td>familytyp fine</td>\n",
       "      <td>7</td>\n",
       "      <td>family with teenager</td>\n",
       "      <td>False</td>\n",
       "    </tr>\n",
       "    <tr>\n",
       "      <th>1899</th>\n",
       "      <td>LP_FAMILIE_FEIN</td>\n",
       "      <td>familytyp fine</td>\n",
       "      <td>8</td>\n",
       "      <td>family with child of full age</td>\n",
       "      <td>False</td>\n",
       "    </tr>\n",
       "    <tr>\n",
       "      <th>1900</th>\n",
       "      <td>LP_FAMILIE_FEIN</td>\n",
       "      <td>familytyp fine</td>\n",
       "      <td>9</td>\n",
       "      <td>shared flat</td>\n",
       "      <td>False</td>\n",
       "    </tr>\n",
       "    <tr>\n",
       "      <th>1901</th>\n",
       "      <td>LP_FAMILIE_FEIN</td>\n",
       "      <td>familytyp fine</td>\n",
       "      <td>10</td>\n",
       "      <td>two-generational household</td>\n",
       "      <td>False</td>\n",
       "    </tr>\n",
       "    <tr>\n",
       "      <th>1902</th>\n",
       "      <td>LP_FAMILIE_FEIN</td>\n",
       "      <td>familytyp fine</td>\n",
       "      <td>11</td>\n",
       "      <td>multi-generational household</td>\n",
       "      <td>False</td>\n",
       "    </tr>\n",
       "  </tbody>\n",
       "</table>\n",
       "</div>"
      ],
      "text/plain": [
       "            Attribute     Description Value  \\\n",
       "1892  LP_FAMILIE_FEIN  familytyp fine     1   \n",
       "1893  LP_FAMILIE_FEIN  familytyp fine     2   \n",
       "1894  LP_FAMILIE_FEIN  familytyp fine     3   \n",
       "1895  LP_FAMILIE_FEIN  familytyp fine     4   \n",
       "1896  LP_FAMILIE_FEIN  familytyp fine     5   \n",
       "1897  LP_FAMILIE_FEIN  familytyp fine     6   \n",
       "1898  LP_FAMILIE_FEIN  familytyp fine     7   \n",
       "1899  LP_FAMILIE_FEIN  familytyp fine     8   \n",
       "1900  LP_FAMILIE_FEIN  familytyp fine     9   \n",
       "1901  LP_FAMILIE_FEIN  familytyp fine    10   \n",
       "1902  LP_FAMILIE_FEIN  familytyp fine    11   \n",
       "\n",
       "                                   Meaning Missing  \n",
       "1892                               single    False  \n",
       "1893                                couple   False  \n",
       "1894                  young single parent    False  \n",
       "1895           single parent with teenager   False  \n",
       "1896  single parent with child of full age   False  \n",
       "1897                         young family    False  \n",
       "1898                 family with teenager    False  \n",
       "1899         family with child of full age   False  \n",
       "1900                           shared flat   False  \n",
       "1901            two-generational household   False  \n",
       "1902          multi-generational household   False  "
      ]
     },
     "execution_count": 98,
     "metadata": {},
     "output_type": "execute_result"
    }
   ],
   "source": [
    "LP_FAMILIE_FEIN_attribute_values"
   ]
  },
  {
   "cell_type": "code",
   "execution_count": 99,
   "metadata": {},
   "outputs": [],
   "source": [
    "# Creates a dict using attributes df\n",
    "LP_FAMILIE_FEIN_attribute_values.Meaning = ['no_child', 'no_child', 'young', \n",
    "                                            'with_teenager', 'with_full_age_child', \n",
    "                                            'young', 'with_teenager', 'with_full_age_child',\n",
    "                                            'shared', 'two_generational', 'multi_generational'\n",
    "                                            ]\n",
    "LP_FAMILIE_FEIN_attribute_values.Meaning.replace({'no_child':1, 'young':2, 'with_teenager':3, 'with_full_age_child':4, \n",
    "                                                  'shared':5, 'two_generational':6, 'multi_generational':7},\n",
    "                                                   inplace=True\n",
    "                                                   )\n",
    "\n",
    "LP_FAMILIE_FEIN_dict = LP_FAMILIE_FEIN_attribute_values.set_index(\"Value\")['Meaning'].to_dict()\n",
    "\n",
    "# Create new column from the applied encoding\n",
    "feature_engine.apply_remap('LP_FAMILIE_FEIN_INFO', 'LP_FAMILIE_FEIN', LP_FAMILIE_FEIN_dict)"
   ]
  },
  {
   "cell_type": "code",
   "execution_count": 100,
   "metadata": {},
   "outputs": [
    {
     "data": {
      "text/plain": [
       "array([ 4.,  1., nan,  6.,  3.,  7.,  2.,  5.])"
      ]
     },
     "execution_count": 100,
     "metadata": {},
     "output_type": "execute_result"
    }
   ],
   "source": [
    "azdias['LP_FAMILIE_FEIN_INFO'].unique()"
   ]
  },
  {
   "cell_type": "code",
   "execution_count": 101,
   "metadata": {},
   "outputs": [
    {
     "data": {
      "text/html": [
       "<div>\n",
       "<style scoped>\n",
       "    .dataframe tbody tr th:only-of-type {\n",
       "        vertical-align: middle;\n",
       "    }\n",
       "\n",
       "    .dataframe tbody tr th {\n",
       "        vertical-align: top;\n",
       "    }\n",
       "\n",
       "    .dataframe thead th {\n",
       "        text-align: right;\n",
       "    }\n",
       "</style>\n",
       "<table border=\"1\" class=\"dataframe\">\n",
       "  <thead>\n",
       "    <tr style=\"text-align: right;\">\n",
       "      <th></th>\n",
       "      <th>Attribute</th>\n",
       "      <th>Description</th>\n",
       "      <th>Value</th>\n",
       "      <th>Meaning</th>\n",
       "      <th>Missing</th>\n",
       "    </tr>\n",
       "  </thead>\n",
       "  <tbody>\n",
       "    <tr>\n",
       "      <th>1976</th>\n",
       "      <td>LP_STATUS_GROB</td>\n",
       "      <td>social status rough</td>\n",
       "      <td>1</td>\n",
       "      <td>low-income earners</td>\n",
       "      <td>False</td>\n",
       "    </tr>\n",
       "    <tr>\n",
       "      <th>1977</th>\n",
       "      <td>LP_STATUS_GROB</td>\n",
       "      <td>social status rough</td>\n",
       "      <td>2</td>\n",
       "      <td>NaN</td>\n",
       "      <td>NaN</td>\n",
       "    </tr>\n",
       "    <tr>\n",
       "      <th>1978</th>\n",
       "      <td>LP_STATUS_GROB</td>\n",
       "      <td>social status rough</td>\n",
       "      <td>3</td>\n",
       "      <td>average earners</td>\n",
       "      <td>False</td>\n",
       "    </tr>\n",
       "    <tr>\n",
       "      <th>1979</th>\n",
       "      <td>LP_STATUS_GROB</td>\n",
       "      <td>social status rough</td>\n",
       "      <td>4</td>\n",
       "      <td>NaN</td>\n",
       "      <td>NaN</td>\n",
       "    </tr>\n",
       "    <tr>\n",
       "      <th>1980</th>\n",
       "      <td>LP_STATUS_GROB</td>\n",
       "      <td>social status rough</td>\n",
       "      <td>5</td>\n",
       "      <td>NaN</td>\n",
       "      <td>NaN</td>\n",
       "    </tr>\n",
       "    <tr>\n",
       "      <th>1981</th>\n",
       "      <td>LP_STATUS_GROB</td>\n",
       "      <td>social status rough</td>\n",
       "      <td>6</td>\n",
       "      <td>independants</td>\n",
       "      <td>False</td>\n",
       "    </tr>\n",
       "    <tr>\n",
       "      <th>1982</th>\n",
       "      <td>LP_STATUS_GROB</td>\n",
       "      <td>social status rough</td>\n",
       "      <td>7</td>\n",
       "      <td>NaN</td>\n",
       "      <td>NaN</td>\n",
       "    </tr>\n",
       "    <tr>\n",
       "      <th>1983</th>\n",
       "      <td>LP_STATUS_GROB</td>\n",
       "      <td>social status rough</td>\n",
       "      <td>8</td>\n",
       "      <td>houseowners</td>\n",
       "      <td>False</td>\n",
       "    </tr>\n",
       "    <tr>\n",
       "      <th>1984</th>\n",
       "      <td>LP_STATUS_GROB</td>\n",
       "      <td>social status rough</td>\n",
       "      <td>9</td>\n",
       "      <td>NaN</td>\n",
       "      <td>NaN</td>\n",
       "    </tr>\n",
       "    <tr>\n",
       "      <th>1985</th>\n",
       "      <td>LP_STATUS_GROB</td>\n",
       "      <td>social status rough</td>\n",
       "      <td>10</td>\n",
       "      <td>top earners</td>\n",
       "      <td>False</td>\n",
       "    </tr>\n",
       "  </tbody>\n",
       "</table>\n",
       "</div>"
      ],
      "text/plain": [
       "           Attribute          Description Value             Meaning Missing\n",
       "1976  LP_STATUS_GROB  social status rough     1  low-income earners   False\n",
       "1977  LP_STATUS_GROB  social status rough     2                 NaN     NaN\n",
       "1978  LP_STATUS_GROB  social status rough     3     average earners   False\n",
       "1979  LP_STATUS_GROB  social status rough     4                 NaN     NaN\n",
       "1980  LP_STATUS_GROB  social status rough     5                 NaN     NaN\n",
       "1981  LP_STATUS_GROB  social status rough     6        independants   False\n",
       "1982  LP_STATUS_GROB  social status rough     7                 NaN     NaN\n",
       "1983  LP_STATUS_GROB  social status rough     8         houseowners   False\n",
       "1984  LP_STATUS_GROB  social status rough     9                 NaN     NaN\n",
       "1985  LP_STATUS_GROB  social status rough    10        top earners    False"
      ]
     },
     "execution_count": 101,
     "metadata": {},
     "output_type": "execute_result"
    }
   ],
   "source": [
    "LP_STATUS_GROB_attribute_values = get_attribute_info('LP_STATUS_GROB', attributes).copy()\n",
    "LP_STATUS_GROB_attribute_values"
   ]
  },
  {
   "cell_type": "code",
   "execution_count": 102,
   "metadata": {},
   "outputs": [
    {
     "data": {
      "text/plain": [
       "array([ 1.,  2.,  4.,  5.,  3., nan])"
      ]
     },
     "execution_count": 102,
     "metadata": {},
     "output_type": "execute_result"
    }
   ],
   "source": [
    "azdias['LP_STATUS_GROB'].unique()"
   ]
  },
  {
   "cell_type": "code",
   "execution_count": 103,
   "metadata": {},
   "outputs": [],
   "source": [
    "# Creates a dict using attributes df\n",
    "LP_STATUS_GROB_attribute_values.Meaning.ffill(inplace=True)\n",
    "LP_STATUS_GROB_attribute_values.Meaning.replace({'low-income earners':1, 'average earners':2, \n",
    "                                                 'independants':3, 'houseowners':4, 'top earners ':5\n",
    "                                                 },\n",
    "                                                 inplace=True\n",
    "                                                )\n",
    "LP_STATUS_GROB_dict = LP_STATUS_GROB_attribute_values.set_index('Value')['Meaning'].to_dict()\n",
    "\n",
    "# Replace column values using the applied encoding\n",
    "feature_engine.apply_remap('LP_STATUS_GROB', 'LP_STATUS_GROB', LP_STATUS_GROB_dict)"
   ]
  },
  {
   "cell_type": "code",
   "execution_count": 104,
   "metadata": {},
   "outputs": [
    {
     "data": {
      "text/plain": [
       "array([ 1.,  2., nan])"
      ]
     },
     "execution_count": 104,
     "metadata": {},
     "output_type": "execute_result"
    }
   ],
   "source": [
    "azdias['LP_STATUS_GROB'].unique()"
   ]
  },
  {
   "cell_type": "code",
   "execution_count": 105,
   "metadata": {},
   "outputs": [
    {
     "data": {
      "text/html": [
       "<div>\n",
       "<style scoped>\n",
       "    .dataframe tbody tr th:only-of-type {\n",
       "        vertical-align: middle;\n",
       "    }\n",
       "\n",
       "    .dataframe tbody tr th {\n",
       "        vertical-align: top;\n",
       "    }\n",
       "\n",
       "    .dataframe thead th {\n",
       "        text-align: right;\n",
       "    }\n",
       "</style>\n",
       "<table border=\"1\" class=\"dataframe\">\n",
       "  <thead>\n",
       "    <tr style=\"text-align: right;\">\n",
       "      <th></th>\n",
       "      <th>Attribute</th>\n",
       "      <th>Description</th>\n",
       "      <th>Value</th>\n",
       "      <th>Meaning</th>\n",
       "      <th>Missing</th>\n",
       "    </tr>\n",
       "  </thead>\n",
       "  <tbody>\n",
       "    <tr>\n",
       "      <th>1914</th>\n",
       "      <td>LP_LEBENSPHASE_FEIN</td>\n",
       "      <td>lifestage fine</td>\n",
       "      <td>1</td>\n",
       "      <td>single low-income earners of younger age</td>\n",
       "      <td>False</td>\n",
       "    </tr>\n",
       "    <tr>\n",
       "      <th>1915</th>\n",
       "      <td>LP_LEBENSPHASE_FEIN</td>\n",
       "      <td>lifestage fine</td>\n",
       "      <td>2</td>\n",
       "      <td>single low-income earners of middle age</td>\n",
       "      <td>False</td>\n",
       "    </tr>\n",
       "    <tr>\n",
       "      <th>1916</th>\n",
       "      <td>LP_LEBENSPHASE_FEIN</td>\n",
       "      <td>lifestage fine</td>\n",
       "      <td>3</td>\n",
       "      <td>single average earners of younger age</td>\n",
       "      <td>False</td>\n",
       "    </tr>\n",
       "    <tr>\n",
       "      <th>1917</th>\n",
       "      <td>LP_LEBENSPHASE_FEIN</td>\n",
       "      <td>lifestage fine</td>\n",
       "      <td>4</td>\n",
       "      <td>single average earners of middle age</td>\n",
       "      <td>False</td>\n",
       "    </tr>\n",
       "    <tr>\n",
       "      <th>1918</th>\n",
       "      <td>LP_LEBENSPHASE_FEIN</td>\n",
       "      <td>lifestage fine</td>\n",
       "      <td>5</td>\n",
       "      <td>single low-income earners of advanced age</td>\n",
       "      <td>False</td>\n",
       "    </tr>\n",
       "    <tr>\n",
       "      <th>1919</th>\n",
       "      <td>LP_LEBENSPHASE_FEIN</td>\n",
       "      <td>lifestage fine</td>\n",
       "      <td>6</td>\n",
       "      <td>single low-income earners at retirement age</td>\n",
       "      <td>False</td>\n",
       "    </tr>\n",
       "    <tr>\n",
       "      <th>1920</th>\n",
       "      <td>LP_LEBENSPHASE_FEIN</td>\n",
       "      <td>lifestage fine</td>\n",
       "      <td>7</td>\n",
       "      <td>single average earners of advanced age</td>\n",
       "      <td>False</td>\n",
       "    </tr>\n",
       "    <tr>\n",
       "      <th>1921</th>\n",
       "      <td>LP_LEBENSPHASE_FEIN</td>\n",
       "      <td>lifestage fine</td>\n",
       "      <td>8</td>\n",
       "      <td>single average earners at retirement age</td>\n",
       "      <td>False</td>\n",
       "    </tr>\n",
       "    <tr>\n",
       "      <th>1922</th>\n",
       "      <td>LP_LEBENSPHASE_FEIN</td>\n",
       "      <td>lifestage fine</td>\n",
       "      <td>9</td>\n",
       "      <td>single independant persons</td>\n",
       "      <td>False</td>\n",
       "    </tr>\n",
       "    <tr>\n",
       "      <th>1923</th>\n",
       "      <td>LP_LEBENSPHASE_FEIN</td>\n",
       "      <td>lifestage fine</td>\n",
       "      <td>10</td>\n",
       "      <td>wealthy single homeowners</td>\n",
       "      <td>False</td>\n",
       "    </tr>\n",
       "    <tr>\n",
       "      <th>1924</th>\n",
       "      <td>LP_LEBENSPHASE_FEIN</td>\n",
       "      <td>lifestage fine</td>\n",
       "      <td>11</td>\n",
       "      <td>single homeowners of advanced age</td>\n",
       "      <td>False</td>\n",
       "    </tr>\n",
       "    <tr>\n",
       "      <th>1925</th>\n",
       "      <td>LP_LEBENSPHASE_FEIN</td>\n",
       "      <td>lifestage fine</td>\n",
       "      <td>12</td>\n",
       "      <td>single homeowners at retirement age</td>\n",
       "      <td>False</td>\n",
       "    </tr>\n",
       "    <tr>\n",
       "      <th>1926</th>\n",
       "      <td>LP_LEBENSPHASE_FEIN</td>\n",
       "      <td>lifestage fine</td>\n",
       "      <td>13</td>\n",
       "      <td>single top earners of higher age</td>\n",
       "      <td>False</td>\n",
       "    </tr>\n",
       "    <tr>\n",
       "      <th>1927</th>\n",
       "      <td>LP_LEBENSPHASE_FEIN</td>\n",
       "      <td>lifestage fine</td>\n",
       "      <td>14</td>\n",
       "      <td>low-income- and average earner-couples of youn...</td>\n",
       "      <td>False</td>\n",
       "    </tr>\n",
       "    <tr>\n",
       "      <th>1928</th>\n",
       "      <td>LP_LEBENSPHASE_FEIN</td>\n",
       "      <td>lifestage fine</td>\n",
       "      <td>15</td>\n",
       "      <td>low-income earner-couples of higher age</td>\n",
       "      <td>False</td>\n",
       "    </tr>\n",
       "    <tr>\n",
       "      <th>1929</th>\n",
       "      <td>LP_LEBENSPHASE_FEIN</td>\n",
       "      <td>lifestage fine</td>\n",
       "      <td>16</td>\n",
       "      <td>average earner-couples of higher age</td>\n",
       "      <td>False</td>\n",
       "    </tr>\n",
       "    <tr>\n",
       "      <th>1930</th>\n",
       "      <td>LP_LEBENSPHASE_FEIN</td>\n",
       "      <td>lifestage fine</td>\n",
       "      <td>17</td>\n",
       "      <td>independant couples</td>\n",
       "      <td>False</td>\n",
       "    </tr>\n",
       "    <tr>\n",
       "      <th>1931</th>\n",
       "      <td>LP_LEBENSPHASE_FEIN</td>\n",
       "      <td>lifestage fine</td>\n",
       "      <td>18</td>\n",
       "      <td>wealthy homeowner-couples of younger age</td>\n",
       "      <td>False</td>\n",
       "    </tr>\n",
       "    <tr>\n",
       "      <th>1932</th>\n",
       "      <td>LP_LEBENSPHASE_FEIN</td>\n",
       "      <td>lifestage fine</td>\n",
       "      <td>19</td>\n",
       "      <td>homeowner-couples of higher age</td>\n",
       "      <td>False</td>\n",
       "    </tr>\n",
       "    <tr>\n",
       "      <th>1933</th>\n",
       "      <td>LP_LEBENSPHASE_FEIN</td>\n",
       "      <td>lifestage fine</td>\n",
       "      <td>20</td>\n",
       "      <td>top earner-couples of higher age</td>\n",
       "      <td>False</td>\n",
       "    </tr>\n",
       "    <tr>\n",
       "      <th>1934</th>\n",
       "      <td>LP_LEBENSPHASE_FEIN</td>\n",
       "      <td>lifestage fine</td>\n",
       "      <td>21</td>\n",
       "      <td>single parent low-income earners</td>\n",
       "      <td>False</td>\n",
       "    </tr>\n",
       "    <tr>\n",
       "      <th>1935</th>\n",
       "      <td>LP_LEBENSPHASE_FEIN</td>\n",
       "      <td>lifestage fine</td>\n",
       "      <td>22</td>\n",
       "      <td>single parent average earners</td>\n",
       "      <td>False</td>\n",
       "    </tr>\n",
       "    <tr>\n",
       "      <th>1936</th>\n",
       "      <td>LP_LEBENSPHASE_FEIN</td>\n",
       "      <td>lifestage fine</td>\n",
       "      <td>23</td>\n",
       "      <td>single parent high-income earners</td>\n",
       "      <td>False</td>\n",
       "    </tr>\n",
       "    <tr>\n",
       "      <th>1937</th>\n",
       "      <td>LP_LEBENSPHASE_FEIN</td>\n",
       "      <td>lifestage fine</td>\n",
       "      <td>24</td>\n",
       "      <td>low-income earner-families</td>\n",
       "      <td>False</td>\n",
       "    </tr>\n",
       "    <tr>\n",
       "      <th>1938</th>\n",
       "      <td>LP_LEBENSPHASE_FEIN</td>\n",
       "      <td>lifestage fine</td>\n",
       "      <td>25</td>\n",
       "      <td>average earner-families</td>\n",
       "      <td>False</td>\n",
       "    </tr>\n",
       "    <tr>\n",
       "      <th>1939</th>\n",
       "      <td>LP_LEBENSPHASE_FEIN</td>\n",
       "      <td>lifestage fine</td>\n",
       "      <td>26</td>\n",
       "      <td>independant families</td>\n",
       "      <td>False</td>\n",
       "    </tr>\n",
       "    <tr>\n",
       "      <th>1940</th>\n",
       "      <td>LP_LEBENSPHASE_FEIN</td>\n",
       "      <td>lifestage fine</td>\n",
       "      <td>27</td>\n",
       "      <td>homeowner-families</td>\n",
       "      <td>False</td>\n",
       "    </tr>\n",
       "    <tr>\n",
       "      <th>1941</th>\n",
       "      <td>LP_LEBENSPHASE_FEIN</td>\n",
       "      <td>lifestage fine</td>\n",
       "      <td>28</td>\n",
       "      <td>top earner-families</td>\n",
       "      <td>False</td>\n",
       "    </tr>\n",
       "    <tr>\n",
       "      <th>1942</th>\n",
       "      <td>LP_LEBENSPHASE_FEIN</td>\n",
       "      <td>lifestage fine</td>\n",
       "      <td>29</td>\n",
       "      <td>low-income earners of younger age from mulitpe...</td>\n",
       "      <td>False</td>\n",
       "    </tr>\n",
       "    <tr>\n",
       "      <th>1943</th>\n",
       "      <td>LP_LEBENSPHASE_FEIN</td>\n",
       "      <td>lifestage fine</td>\n",
       "      <td>30</td>\n",
       "      <td>average earners of younger age from mulitperso...</td>\n",
       "      <td>False</td>\n",
       "    </tr>\n",
       "    <tr>\n",
       "      <th>1944</th>\n",
       "      <td>LP_LEBENSPHASE_FEIN</td>\n",
       "      <td>lifestage fine</td>\n",
       "      <td>31</td>\n",
       "      <td>low-income earners of higher age from mulitper...</td>\n",
       "      <td>False</td>\n",
       "    </tr>\n",
       "    <tr>\n",
       "      <th>1945</th>\n",
       "      <td>LP_LEBENSPHASE_FEIN</td>\n",
       "      <td>lifestage fine</td>\n",
       "      <td>32</td>\n",
       "      <td>average earners of higher age from mulitperson...</td>\n",
       "      <td>False</td>\n",
       "    </tr>\n",
       "    <tr>\n",
       "      <th>1946</th>\n",
       "      <td>LP_LEBENSPHASE_FEIN</td>\n",
       "      <td>lifestage fine</td>\n",
       "      <td>33</td>\n",
       "      <td>independant persons of younger age from mulitp...</td>\n",
       "      <td>False</td>\n",
       "    </tr>\n",
       "    <tr>\n",
       "      <th>1947</th>\n",
       "      <td>LP_LEBENSPHASE_FEIN</td>\n",
       "      <td>lifestage fine</td>\n",
       "      <td>34</td>\n",
       "      <td>homeowners of younger age from mulitperson hou...</td>\n",
       "      <td>False</td>\n",
       "    </tr>\n",
       "    <tr>\n",
       "      <th>1948</th>\n",
       "      <td>LP_LEBENSPHASE_FEIN</td>\n",
       "      <td>lifestage fine</td>\n",
       "      <td>35</td>\n",
       "      <td>top earners of younger age from mulitperson ho...</td>\n",
       "      <td>False</td>\n",
       "    </tr>\n",
       "    <tr>\n",
       "      <th>1949</th>\n",
       "      <td>LP_LEBENSPHASE_FEIN</td>\n",
       "      <td>lifestage fine</td>\n",
       "      <td>36</td>\n",
       "      <td>independant persons of higher age from mulitpe...</td>\n",
       "      <td>False</td>\n",
       "    </tr>\n",
       "    <tr>\n",
       "      <th>1950</th>\n",
       "      <td>LP_LEBENSPHASE_FEIN</td>\n",
       "      <td>lifestage fine</td>\n",
       "      <td>37</td>\n",
       "      <td>homeowners of advanced age from mulitperson ho...</td>\n",
       "      <td>False</td>\n",
       "    </tr>\n",
       "    <tr>\n",
       "      <th>1951</th>\n",
       "      <td>LP_LEBENSPHASE_FEIN</td>\n",
       "      <td>lifestage fine</td>\n",
       "      <td>38</td>\n",
       "      <td>homeowners at retirement age from mulitperson ...</td>\n",
       "      <td>False</td>\n",
       "    </tr>\n",
       "    <tr>\n",
       "      <th>1952</th>\n",
       "      <td>LP_LEBENSPHASE_FEIN</td>\n",
       "      <td>lifestage fine</td>\n",
       "      <td>39</td>\n",
       "      <td>top earners of middle age from mulitperson hou...</td>\n",
       "      <td>False</td>\n",
       "    </tr>\n",
       "    <tr>\n",
       "      <th>1953</th>\n",
       "      <td>LP_LEBENSPHASE_FEIN</td>\n",
       "      <td>lifestage fine</td>\n",
       "      <td>40</td>\n",
       "      <td>top earners at retirement age from mulitperson...</td>\n",
       "      <td>False</td>\n",
       "    </tr>\n",
       "  </tbody>\n",
       "</table>\n",
       "</div>"
      ],
      "text/plain": [
       "                Attribute      Description Value  \\\n",
       "1914  LP_LEBENSPHASE_FEIN  lifestage fine      1   \n",
       "1915  LP_LEBENSPHASE_FEIN  lifestage fine      2   \n",
       "1916  LP_LEBENSPHASE_FEIN  lifestage fine      3   \n",
       "1917  LP_LEBENSPHASE_FEIN  lifestage fine      4   \n",
       "1918  LP_LEBENSPHASE_FEIN  lifestage fine      5   \n",
       "1919  LP_LEBENSPHASE_FEIN  lifestage fine      6   \n",
       "1920  LP_LEBENSPHASE_FEIN  lifestage fine      7   \n",
       "1921  LP_LEBENSPHASE_FEIN  lifestage fine      8   \n",
       "1922  LP_LEBENSPHASE_FEIN  lifestage fine      9   \n",
       "1923  LP_LEBENSPHASE_FEIN  lifestage fine     10   \n",
       "1924  LP_LEBENSPHASE_FEIN  lifestage fine     11   \n",
       "1925  LP_LEBENSPHASE_FEIN  lifestage fine     12   \n",
       "1926  LP_LEBENSPHASE_FEIN  lifestage fine     13   \n",
       "1927  LP_LEBENSPHASE_FEIN  lifestage fine     14   \n",
       "1928  LP_LEBENSPHASE_FEIN  lifestage fine     15   \n",
       "1929  LP_LEBENSPHASE_FEIN  lifestage fine     16   \n",
       "1930  LP_LEBENSPHASE_FEIN  lifestage fine     17   \n",
       "1931  LP_LEBENSPHASE_FEIN  lifestage fine     18   \n",
       "1932  LP_LEBENSPHASE_FEIN  lifestage fine     19   \n",
       "1933  LP_LEBENSPHASE_FEIN  lifestage fine     20   \n",
       "1934  LP_LEBENSPHASE_FEIN  lifestage fine     21   \n",
       "1935  LP_LEBENSPHASE_FEIN  lifestage fine     22   \n",
       "1936  LP_LEBENSPHASE_FEIN  lifestage fine     23   \n",
       "1937  LP_LEBENSPHASE_FEIN  lifestage fine     24   \n",
       "1938  LP_LEBENSPHASE_FEIN  lifestage fine     25   \n",
       "1939  LP_LEBENSPHASE_FEIN  lifestage fine     26   \n",
       "1940  LP_LEBENSPHASE_FEIN  lifestage fine     27   \n",
       "1941  LP_LEBENSPHASE_FEIN  lifestage fine     28   \n",
       "1942  LP_LEBENSPHASE_FEIN  lifestage fine     29   \n",
       "1943  LP_LEBENSPHASE_FEIN  lifestage fine     30   \n",
       "1944  LP_LEBENSPHASE_FEIN  lifestage fine     31   \n",
       "1945  LP_LEBENSPHASE_FEIN  lifestage fine     32   \n",
       "1946  LP_LEBENSPHASE_FEIN  lifestage fine     33   \n",
       "1947  LP_LEBENSPHASE_FEIN  lifestage fine     34   \n",
       "1948  LP_LEBENSPHASE_FEIN  lifestage fine     35   \n",
       "1949  LP_LEBENSPHASE_FEIN  lifestage fine     36   \n",
       "1950  LP_LEBENSPHASE_FEIN  lifestage fine     37   \n",
       "1951  LP_LEBENSPHASE_FEIN  lifestage fine     38   \n",
       "1952  LP_LEBENSPHASE_FEIN  lifestage fine     39   \n",
       "1953  LP_LEBENSPHASE_FEIN  lifestage fine     40   \n",
       "\n",
       "                                                Meaning Missing  \n",
       "1914           single low-income earners of younger age   False  \n",
       "1915            single low-income earners of middle age   False  \n",
       "1916             single average earners of younger age    False  \n",
       "1917               single average earners of middle age   False  \n",
       "1918          single low-income earners of advanced age   False  \n",
       "1919       single low-income earners at retirement age    False  \n",
       "1920             single average earners of advanced age   False  \n",
       "1921           single average earners at retirement age   False  \n",
       "1922                         single independant persons   False  \n",
       "1923                          wealthy single homeowners   False  \n",
       "1924                  single homeowners of advanced age   False  \n",
       "1925                single homeowners at retirement age   False  \n",
       "1926                  single top earners of higher age    False  \n",
       "1927  low-income- and average earner-couples of youn...   False  \n",
       "1928            low-income earner-couples of higher age   False  \n",
       "1929              average earner-couples of higher age    False  \n",
       "1930                                independant couples   False  \n",
       "1931          wealthy homeowner-couples of younger age    False  \n",
       "1932                    homeowner-couples of higher age   False  \n",
       "1933                   top earner-couples of higher age   False  \n",
       "1934                   single parent low-income earners   False  \n",
       "1935                      single parent average earners   False  \n",
       "1936                  single parent high-income earners   False  \n",
       "1937                         low-income earner-families   False  \n",
       "1938                           average earner-families    False  \n",
       "1939                               independant families   False  \n",
       "1940                                 homeowner-families   False  \n",
       "1941                                top earner-families   False  \n",
       "1942  low-income earners of younger age from mulitpe...   False  \n",
       "1943  average earners of younger age from mulitperso...   False  \n",
       "1944  low-income earners of higher age from mulitper...   False  \n",
       "1945  average earners of higher age from mulitperson...   False  \n",
       "1946  independant persons of younger age from mulitp...   False  \n",
       "1947  homeowners of younger age from mulitperson hou...   False  \n",
       "1948  top earners of younger age from mulitperson ho...   False  \n",
       "1949  independant persons of higher age from mulitpe...   False  \n",
       "1950  homeowners of advanced age from mulitperson ho...   False  \n",
       "1951  homeowners at retirement age from mulitperson ...   False  \n",
       "1952  top earners of middle age from mulitperson hou...   False  \n",
       "1953  top earners at retirement age from mulitperson...   False  "
      ]
     },
     "execution_count": 105,
     "metadata": {},
     "output_type": "execute_result"
    }
   ],
   "source": [
    "LP_LEBENSPHASE_FEIN_attribute_values = get_attribute_info('LP_LEBENSPHASE_FEIN', attributes).copy()\n",
    "LP_LEBENSPHASE_FEIN_attribute_values"
   ]
  },
  {
   "cell_type": "code",
   "execution_count": 106,
   "metadata": {},
   "outputs": [],
   "source": [
    "# Create a dict of encodings using attributes df\n",
    "LP_LEBENSPHASE_FEIN_attribute_values.Meaning = ['younger', 'middle', 'younger', 'middle', 'advanced', \n",
    "                                                'retirement', 'advanced', 'retirement', 'middle', 'middle',\n",
    "                                                'advanced', 'retirement', 'higher', 'younger', 'higher', \n",
    "                                                'higher', 'middle', 'younger', 'higher', 'higher',\n",
    "                                                'middle', 'middle', 'middle', 'middle', 'middle', \n",
    "                                                'middle', 'middle', 'middle', 'younger', 'younger',\n",
    "                                                'higher', 'higher', 'younger', 'younger', 'younger', \n",
    "                                                'higher', 'advanced', 'retirement', 'middle', 'retirement']\n",
    "LP_LEBENSPHASE_FEIN_attribute_values.Meaning.replace({'younger':1, 'middle':2, 'higher':3, 'advanced':4, 'retirement':5}, \n",
    "                                                     inplace=True\n",
    "                                                     )\n",
    "LP_LEBENSPHASE_FEIN_dict = LP_LEBENSPHASE_FEIN_attribute_values.set_index('Value')['Meaning'].to_dict()\n",
    "\n",
    "# Create a new column using above dict\n",
    "feature_engine.apply_remap('LP_LEBENSPHASE_FEIN_ALTER', 'LP_LEBENSPHASE_FEIN', LP_LEBENSPHASE_FEIN_dict)"
   ]
  },
  {
   "cell_type": "code",
   "execution_count": 107,
   "metadata": {},
   "outputs": [
    {
     "data": {
      "text/plain": [
       "array([ 2.,  1., nan,  3.,  5.,  4.])"
      ]
     },
     "execution_count": 107,
     "metadata": {},
     "output_type": "execute_result"
    }
   ],
   "source": [
    "azdias['LP_LEBENSPHASE_FEIN_ALTER'].unique()"
   ]
  },
  {
   "cell_type": "code",
   "execution_count": 108,
   "metadata": {},
   "outputs": [],
   "source": [
    "# Create a dict of encodings using attributes df\n",
    "lebensphase_einkomnen = ['low', 'low', 'average', 'average', 'low', \n",
    "                         'low', 'average', 'average', 'average', 'wealthy',\n",
    "                         'average', 'average', 'top', 'average', 'low', \n",
    "                         'average', 'average', 'wealthy', 'wealthy', 'top', \n",
    "                         'low', 'average', 'wealthy', 'low', 'average', \n",
    "                         'average', 'average', 'top', 'low', 'average', \n",
    "                         'low', 'average', 'average', 'average', 'top',\n",
    "                         'average', 'average', 'average', 'top', 'top']\n",
    "LP_LEBENSPHASE_FEIN_attribute_values.Meaning = lebensphase_einkomnen\n",
    "LP_LEBENSPHASE_FEIN_attribute_values.Meaning.replace({'low':1, 'average':2, 'wealthy':3, 'top':4}, inplace=True)\n",
    "LP_LEBENSPHASE_FEIN_einkomnen_dict = LP_LEBENSPHASE_FEIN_attribute_values.set_index('Value')['Meaning'].to_dict()\n",
    "\n",
    "# Create a new column using above encoding dict\n",
    "feature_engine.apply_remap('LP_LEBENSPHASE_FEIN_EINK', 'LP_LEBENSPHASE_FEIN', LP_LEBENSPHASE_FEIN_einkomnen_dict)"
   ]
  },
  {
   "cell_type": "code",
   "execution_count": 109,
   "metadata": {},
   "outputs": [
    {
     "data": {
      "text/plain": [
       "array([ 1.,  2., nan,  3.,  4.])"
      ]
     },
     "execution_count": 109,
     "metadata": {},
     "output_type": "execute_result"
    }
   ],
   "source": [
    "azdias['LP_LEBENSPHASE_FEIN_EINK'].unique()"
   ]
  },
  {
   "cell_type": "code",
   "execution_count": 110,
   "metadata": {},
   "outputs": [
    {
     "data": {
      "text/plain": [
       "array([ 2.,  3.,  9.,  4.,  1., 10.,  5.,  8.,  6.,  7., nan])"
      ]
     },
     "execution_count": 110,
     "metadata": {},
     "output_type": "execute_result"
    }
   ],
   "source": [
    "azdias['LP_STATUS_FEIN'].unique()"
   ]
  },
  {
   "cell_type": "code",
   "execution_count": 111,
   "metadata": {},
   "outputs": [
    {
     "data": {
      "text/html": [
       "<div>\n",
       "<style scoped>\n",
       "    .dataframe tbody tr th:only-of-type {\n",
       "        vertical-align: middle;\n",
       "    }\n",
       "\n",
       "    .dataframe tbody tr th {\n",
       "        vertical-align: top;\n",
       "    }\n",
       "\n",
       "    .dataframe thead th {\n",
       "        text-align: right;\n",
       "    }\n",
       "</style>\n",
       "<table border=\"1\" class=\"dataframe\">\n",
       "  <thead>\n",
       "    <tr style=\"text-align: right;\">\n",
       "      <th></th>\n",
       "      <th>Attribute</th>\n",
       "      <th>Description</th>\n",
       "      <th>Value</th>\n",
       "      <th>Meaning</th>\n",
       "      <th>Missing</th>\n",
       "    </tr>\n",
       "  </thead>\n",
       "  <tbody>\n",
       "    <tr>\n",
       "      <th>2229</th>\n",
       "      <td>WOHNLAGE</td>\n",
       "      <td>residential-area</td>\n",
       "      <td>-1</td>\n",
       "      <td>unknown</td>\n",
       "      <td>True</td>\n",
       "    </tr>\n",
       "    <tr>\n",
       "      <th>2230</th>\n",
       "      <td>WOHNLAGE</td>\n",
       "      <td>residential-area</td>\n",
       "      <td>0</td>\n",
       "      <td>no score calculated</td>\n",
       "      <td>False</td>\n",
       "    </tr>\n",
       "    <tr>\n",
       "      <th>2231</th>\n",
       "      <td>WOHNLAGE</td>\n",
       "      <td>residential-area</td>\n",
       "      <td>1</td>\n",
       "      <td>very good neighbourhood</td>\n",
       "      <td>False</td>\n",
       "    </tr>\n",
       "    <tr>\n",
       "      <th>2232</th>\n",
       "      <td>WOHNLAGE</td>\n",
       "      <td>residential-area</td>\n",
       "      <td>2</td>\n",
       "      <td>good neighbourhood</td>\n",
       "      <td>False</td>\n",
       "    </tr>\n",
       "    <tr>\n",
       "      <th>2233</th>\n",
       "      <td>WOHNLAGE</td>\n",
       "      <td>residential-area</td>\n",
       "      <td>3</td>\n",
       "      <td>average neighbourhood</td>\n",
       "      <td>False</td>\n",
       "    </tr>\n",
       "    <tr>\n",
       "      <th>2234</th>\n",
       "      <td>WOHNLAGE</td>\n",
       "      <td>residential-area</td>\n",
       "      <td>4</td>\n",
       "      <td>poor neighbourhood</td>\n",
       "      <td>False</td>\n",
       "    </tr>\n",
       "    <tr>\n",
       "      <th>2235</th>\n",
       "      <td>WOHNLAGE</td>\n",
       "      <td>residential-area</td>\n",
       "      <td>5</td>\n",
       "      <td>very poor neighbourhood</td>\n",
       "      <td>False</td>\n",
       "    </tr>\n",
       "    <tr>\n",
       "      <th>2236</th>\n",
       "      <td>WOHNLAGE</td>\n",
       "      <td>residential-area</td>\n",
       "      <td>7</td>\n",
       "      <td>rural neighbourhood</td>\n",
       "      <td>False</td>\n",
       "    </tr>\n",
       "    <tr>\n",
       "      <th>2237</th>\n",
       "      <td>WOHNLAGE</td>\n",
       "      <td>residential-area</td>\n",
       "      <td>8</td>\n",
       "      <td>new building in rural neighbourhood</td>\n",
       "      <td>False</td>\n",
       "    </tr>\n",
       "  </tbody>\n",
       "</table>\n",
       "</div>"
      ],
      "text/plain": [
       "     Attribute        Description Value                              Meaning  \\\n",
       "2229  WOHNLAGE  residential-area     -1                              unknown   \n",
       "2230  WOHNLAGE  residential-area      0                  no score calculated   \n",
       "2231  WOHNLAGE  residential-area      1              very good neighbourhood   \n",
       "2232  WOHNLAGE  residential-area      2                   good neighbourhood   \n",
       "2233  WOHNLAGE  residential-area      3                average neighbourhood   \n",
       "2234  WOHNLAGE  residential-area      4                   poor neighbourhood   \n",
       "2235  WOHNLAGE  residential-area      5              very poor neighbourhood   \n",
       "2236  WOHNLAGE  residential-area      7                  rural neighbourhood   \n",
       "2237  WOHNLAGE  residential-area      8  new building in rural neighbourhood   \n",
       "\n",
       "     Missing  \n",
       "2229    True  \n",
       "2230   False  \n",
       "2231   False  \n",
       "2232   False  \n",
       "2233   False  \n",
       "2234   False  \n",
       "2235   False  \n",
       "2236   False  \n",
       "2237   False  "
      ]
     },
     "execution_count": 111,
     "metadata": {},
     "output_type": "execute_result"
    }
   ],
   "source": [
    "get_attribute_info('WOHNLAGE', attributes)"
   ]
  },
  {
   "cell_type": "code",
   "execution_count": 112,
   "metadata": {},
   "outputs": [
    {
     "data": {
      "text/plain": [
       "array([ 4.,  2.,  7.,  3.,  5.,  1.,  8., nan])"
      ]
     },
     "execution_count": 112,
     "metadata": {},
     "output_type": "execute_result"
    }
   ],
   "source": [
    "azdias['WOHNLAGE'].unique()"
   ]
  },
  {
   "cell_type": "code",
   "execution_count": 113,
   "metadata": {},
   "outputs": [],
   "source": [
    "# Create new column indicating rural neighbourhood\n",
    "feature_engine.apply_transform('WOHNLAGE_LANDLICH', 'WOHNLAGE', lambda x: 1 if ((x==7) or (x==8)) else 0)"
   ]
  },
  {
   "cell_type": "code",
   "execution_count": 114,
   "metadata": {},
   "outputs": [
    {
     "data": {
      "text/plain": [
       "array([0, 1], dtype=int64)"
      ]
     },
     "execution_count": 114,
     "metadata": {},
     "output_type": "execute_result"
    }
   ],
   "source": [
    "azdias['WOHNLAGE_LANDLICH'].unique()"
   ]
  },
  {
   "cell_type": "code",
   "execution_count": 115,
   "metadata": {},
   "outputs": [],
   "source": [
    "# Create new columns based on class of neighbourhood w.r.t. ordinal scale\n",
    "feature_engine.apply_remap('WOHNLAGE_KLASSE', 'WOHNLAGE', {5:1, 4:2, 3:3, 2:4, 1:5, 7:1, 8:2})\n",
    "# Create new columns based on type of neighbourhood w.r.t. ordinal scale \n",
    "feature_engine.apply_remap('WOHNLAGE_TYP', 'WOHNLAGE', {5:3, 4:4, 3:5, 2:6, 1:7, 7:1, 8:2})"
   ]
  },
  {
   "cell_type": "code",
   "execution_count": 116,
   "metadata": {},
   "outputs": [
    {
     "data": {
      "text/plain": [
       "CAMEO_DEU_2015              object\n",
       "D19_LETZTER_KAUF_BRANCHE    object\n",
       "EINGEFUEGT_AM               object\n",
       "dtype: object"
      ]
     },
     "execution_count": 116,
     "metadata": {},
     "output_type": "execute_result"
    }
   ],
   "source": [
    "azdias.dtypes[azdias.dtypes == object]"
   ]
  },
  {
   "cell_type": "code",
   "execution_count": 117,
   "metadata": {},
   "outputs": [],
   "source": [
    "# Create numerical encodings for D19_LETZTER_KAUF_BRANCHE column\n",
    "# sklearn's column transformers and categorical encoder would have also worked\n",
    "LETZTER_KAUF_BRANCHE_dict = {v:k for k, v in enumerate([category for category in list(azdias['D19_LETZTER_KAUF_BRANCHE'].unique()) if type(category)==str])}\n",
    "\n",
    "# Apply encodings\n",
    "feature_engine.apply_remap('D19_LETZTER_KAUF_BRANCHE', 'D19_LETZTER_KAUF_BRANCHE', LETZTER_KAUF_BRANCHE_dict)"
   ]
  },
  {
   "cell_type": "code",
   "execution_count": 118,
   "metadata": {},
   "outputs": [
    {
     "data": {
      "text/plain": [
       "array([nan,  0.,  1.,  2.,  3.,  4.,  5.,  6.,  7.,  8.,  9., 10., 11.,\n",
       "       12., 13., 14., 15., 16., 17., 18., 19., 20., 21., 22., 23., 24.,\n",
       "       25., 26., 27., 28., 29., 30., 31., 32., 33., 34.])"
      ]
     },
     "execution_count": 118,
     "metadata": {},
     "output_type": "execute_result"
    }
   ],
   "source": [
    "azdias['D19_LETZTER_KAUF_BRANCHE'].unique()"
   ]
  },
  {
   "cell_type": "code",
   "execution_count": 119,
   "metadata": {},
   "outputs": [],
   "source": [
    "# Create numerical encodings using values in attributes df \n",
    "cameo_deu_2015_map = {v:k+1 for k,v in enumerate(attributes[attributes.Attribute=='CAMEO_DEU_2015'].Value)}\n",
    "\n",
    "# Apply encodings\n",
    "feature_engine.apply_remap('CAMEO_DEU_2015', cols_cameo[1], cameo_deu_2015_map)"
   ]
  },
  {
   "cell_type": "code",
   "execution_count": 120,
   "metadata": {},
   "outputs": [
    {
     "data": {
      "text/html": [
       "<div>\n",
       "<style scoped>\n",
       "    .dataframe tbody tr th:only-of-type {\n",
       "        vertical-align: middle;\n",
       "    }\n",
       "\n",
       "    .dataframe tbody tr th {\n",
       "        vertical-align: top;\n",
       "    }\n",
       "\n",
       "    .dataframe thead th {\n",
       "        text-align: right;\n",
       "    }\n",
       "</style>\n",
       "<table border=\"1\" class=\"dataframe\">\n",
       "  <thead>\n",
       "    <tr style=\"text-align: right;\">\n",
       "      <th></th>\n",
       "      <th>Attribute</th>\n",
       "      <th>Description</th>\n",
       "      <th>Value</th>\n",
       "      <th>Meaning</th>\n",
       "      <th>Missing</th>\n",
       "    </tr>\n",
       "  </thead>\n",
       "  <tbody>\n",
       "    <tr>\n",
       "      <th>51</th>\n",
       "      <td>CAMEO_DEUG_2015</td>\n",
       "      <td>CAMEO classification 2015 - Uppergroup</td>\n",
       "      <td>-1</td>\n",
       "      <td>unknown</td>\n",
       "      <td>True</td>\n",
       "    </tr>\n",
       "    <tr>\n",
       "      <th>52</th>\n",
       "      <td>CAMEO_DEUG_2015</td>\n",
       "      <td>CAMEO classification 2015 - Uppergroup</td>\n",
       "      <td>1</td>\n",
       "      <td>upper class</td>\n",
       "      <td>False</td>\n",
       "    </tr>\n",
       "    <tr>\n",
       "      <th>53</th>\n",
       "      <td>CAMEO_DEUG_2015</td>\n",
       "      <td>CAMEO classification 2015 - Uppergroup</td>\n",
       "      <td>2</td>\n",
       "      <td>upper middleclass</td>\n",
       "      <td>False</td>\n",
       "    </tr>\n",
       "    <tr>\n",
       "      <th>54</th>\n",
       "      <td>CAMEO_DEUG_2015</td>\n",
       "      <td>CAMEO classification 2015 - Uppergroup</td>\n",
       "      <td>3</td>\n",
       "      <td>established middleclasse</td>\n",
       "      <td>False</td>\n",
       "    </tr>\n",
       "    <tr>\n",
       "      <th>55</th>\n",
       "      <td>CAMEO_DEUG_2015</td>\n",
       "      <td>CAMEO classification 2015 - Uppergroup</td>\n",
       "      <td>4</td>\n",
       "      <td>consumption-oriented middleclass</td>\n",
       "      <td>False</td>\n",
       "    </tr>\n",
       "    <tr>\n",
       "      <th>56</th>\n",
       "      <td>CAMEO_DEUG_2015</td>\n",
       "      <td>CAMEO classification 2015 - Uppergroup</td>\n",
       "      <td>5</td>\n",
       "      <td>active middleclass</td>\n",
       "      <td>False</td>\n",
       "    </tr>\n",
       "    <tr>\n",
       "      <th>57</th>\n",
       "      <td>CAMEO_DEUG_2015</td>\n",
       "      <td>CAMEO classification 2015 - Uppergroup</td>\n",
       "      <td>6</td>\n",
       "      <td>low-consumption middleclass</td>\n",
       "      <td>False</td>\n",
       "    </tr>\n",
       "    <tr>\n",
       "      <th>58</th>\n",
       "      <td>CAMEO_DEUG_2015</td>\n",
       "      <td>CAMEO classification 2015 - Uppergroup</td>\n",
       "      <td>7</td>\n",
       "      <td>lower middleclass</td>\n",
       "      <td>False</td>\n",
       "    </tr>\n",
       "    <tr>\n",
       "      <th>59</th>\n",
       "      <td>CAMEO_DEUG_2015</td>\n",
       "      <td>CAMEO classification 2015 - Uppergroup</td>\n",
       "      <td>8</td>\n",
       "      <td>working class</td>\n",
       "      <td>False</td>\n",
       "    </tr>\n",
       "    <tr>\n",
       "      <th>60</th>\n",
       "      <td>CAMEO_DEUG_2015</td>\n",
       "      <td>CAMEO classification 2015 - Uppergroup</td>\n",
       "      <td>9</td>\n",
       "      <td>urban working class</td>\n",
       "      <td>False</td>\n",
       "    </tr>\n",
       "  </tbody>\n",
       "</table>\n",
       "</div>"
      ],
      "text/plain": [
       "          Attribute                             Description Value  \\\n",
       "51  CAMEO_DEUG_2015  CAMEO classification 2015 - Uppergroup    -1   \n",
       "52  CAMEO_DEUG_2015  CAMEO classification 2015 - Uppergroup     1   \n",
       "53  CAMEO_DEUG_2015  CAMEO classification 2015 - Uppergroup     2   \n",
       "54  CAMEO_DEUG_2015  CAMEO classification 2015 - Uppergroup     3   \n",
       "55  CAMEO_DEUG_2015  CAMEO classification 2015 - Uppergroup     4   \n",
       "56  CAMEO_DEUG_2015  CAMEO classification 2015 - Uppergroup     5   \n",
       "57  CAMEO_DEUG_2015  CAMEO classification 2015 - Uppergroup     6   \n",
       "58  CAMEO_DEUG_2015  CAMEO classification 2015 - Uppergroup     7   \n",
       "59  CAMEO_DEUG_2015  CAMEO classification 2015 - Uppergroup     8   \n",
       "60  CAMEO_DEUG_2015  CAMEO classification 2015 - Uppergroup     9   \n",
       "\n",
       "                              Meaning Missing  \n",
       "51                            unknown    True  \n",
       "52                        upper class   False  \n",
       "53                  upper middleclass   False  \n",
       "54           established middleclasse   False  \n",
       "55  consumption-oriented middleclass    False  \n",
       "56                active middleclass    False  \n",
       "57        low-consumption middleclass   False  \n",
       "58                  lower middleclass   False  \n",
       "59                      working class   False  \n",
       "60                urban working class   False  "
      ]
     },
     "execution_count": 120,
     "metadata": {},
     "output_type": "execute_result"
    }
   ],
   "source": [
    "CAMEO_DEUG_attribute_values = get_attribute_info(cols_cameo[0], attributes).copy()\n",
    "CAMEO_DEUG_attribute_values"
   ]
  },
  {
   "cell_type": "code",
   "execution_count": 121,
   "metadata": {},
   "outputs": [
    {
     "data": {
      "text/plain": [
       "array([ 8.,  4.,  2.,  6.,  1.,  9.,  5.,  7.,  3., nan])"
      ]
     },
     "execution_count": 121,
     "metadata": {},
     "output_type": "execute_result"
    }
   ],
   "source": [
    "azdias[cols_cameo[0]].unique()"
   ]
  },
  {
   "cell_type": "code",
   "execution_count": 122,
   "metadata": {},
   "outputs": [],
   "source": [
    "# Create new columns based on income class w.r.t. ordinal scale\n",
    "feature_engine.apply_remap(f'{cols_cameo[0]}_KLASSE', cols_cameo[0], {8:1,9:1,7:2,6:2,5:2,4:2,3:2,2:2,1:3})\n",
    "feature_engine.apply_remap(f'{cols_cameo[0]}_TYP', cols_cameo[0], {8:1,9:2,7:3,6:4,5:5,4:6,3:7,2:8,1:9})"
   ]
  },
  {
   "cell_type": "code",
   "execution_count": 123,
   "metadata": {},
   "outputs": [],
   "source": [
    "# Apply all transformations to customers dataframe\n",
    "feature_engine.transform(customers)"
   ]
  },
  {
   "cell_type": "code",
   "execution_count": 124,
   "metadata": {},
   "outputs": [],
   "source": [
    "# Checking if columns are same\n",
    "assert(len(set(azdias.columns)-set(customers.columns)) == 0)\n",
    "assert(len(set(customers.columns)-set(azdias.columns)) == 0)"
   ]
  },
  {
   "cell_type": "code",
   "execution_count": 125,
   "metadata": {},
   "outputs": [],
   "source": [
    "# Clearing up memory usage\n",
    "for i in [LP_FAMILIE_GROB_attribute_values, LP_FAMILIE_FEIN_attribute_values, LP_STATUS_GROB_attribute_values, LP_LEBENSPHASE_FEIN_attribute_values]:\n",
    "    i = None"
   ]
  },
  {
   "cell_type": "code",
   "execution_count": 126,
   "metadata": {},
   "outputs": [],
   "source": [
    "# Dropping columns that have become redundant after above processing\n",
    "# LNR represents unique code for each observation & 'EINGEFUEGT_AM' literally translates to inserted on\n",
    "azdias.drop(['LNR', 'EINGEFUEGT_AM', 'LP_FAMILIE_FEIN', 'LP_LEBENSPHASE_FEIN', 'CAMEO_INTL_2015'], axis=1, inplace=True)\n",
    "customers.drop(['LNR', 'EINGEFUEGT_AM', 'LP_FAMILIE_FEIN', 'LP_LEBENSPHASE_FEIN', 'CAMEO_INTL_2015'], axis=1, inplace=True)"
   ]
  },
  {
   "cell_type": "code",
   "execution_count": 127,
   "metadata": {},
   "outputs": [],
   "source": [
    "def reduce_mem_usage(df):\n",
    "    '''Reduce Memory usage of df'''\n",
    "    int_64_cols = df.select_dtypes(include='int64').columns\n",
    "    df[int_64_cols] = df[int_64_cols].astype('int32')\n",
    "\n",
    "    float_64_cols = df.select_dtypes(include='float64').columns\n",
    "    df[float_64_cols] = df[float_64_cols].astype('float32')"
   ]
  },
  {
   "cell_type": "code",
   "execution_count": 128,
   "metadata": {},
   "outputs": [
    {
     "name": "stdout",
     "output_type": "stream",
     "text": [
      "<class 'pandas.core.frame.DataFrame'>\n",
      "Int64Index: 785252 entries, 1 to 891220\n",
      "Columns: 363 entries, AKT_DAT_KL to CAMEO_DEUG_2015_TYP\n",
      "dtypes: float64(276), int64(87)\n",
      "memory usage: 2.1 GB\n"
     ]
    }
   ],
   "source": [
    "azdias.info()"
   ]
  },
  {
   "cell_type": "code",
   "execution_count": 129,
   "metadata": {},
   "outputs": [],
   "source": [
    "reduce_mem_usage(azdias)"
   ]
  },
  {
   "cell_type": "code",
   "execution_count": 130,
   "metadata": {},
   "outputs": [
    {
     "name": "stdout",
     "output_type": "stream",
     "text": [
      "<class 'pandas.core.frame.DataFrame'>\n",
      "Int64Index: 785252 entries, 1 to 891220\n",
      "Columns: 363 entries, AKT_DAT_KL to CAMEO_DEUG_2015_TYP\n",
      "dtypes: float32(276), int32(87)\n",
      "memory usage: 1.1 GB\n"
     ]
    }
   ],
   "source": [
    "azdias.info()"
   ]
  },
  {
   "cell_type": "code",
   "execution_count": 131,
   "metadata": {},
   "outputs": [
    {
     "name": "stdout",
     "output_type": "stream",
     "text": [
      "<class 'pandas.core.frame.DataFrame'>\n",
      "Int64Index: 140350 entries, 0 to 191651\n",
      "Columns: 363 entries, AKT_DAT_KL to CAMEO_DEUG_2015_TYP\n",
      "dtypes: float64(276), int64(87)\n",
      "memory usage: 389.8 MB\n"
     ]
    }
   ],
   "source": [
    "customers.info()"
   ]
  },
  {
   "cell_type": "code",
   "execution_count": 132,
   "metadata": {},
   "outputs": [],
   "source": [
    "reduce_mem_usage(customers)"
   ]
  },
  {
   "cell_type": "code",
   "execution_count": 133,
   "metadata": {},
   "outputs": [
    {
     "name": "stdout",
     "output_type": "stream",
     "text": [
      "<class 'pandas.core.frame.DataFrame'>\n",
      "Int64Index: 140350 entries, 0 to 191651\n",
      "Columns: 363 entries, AKT_DAT_KL to CAMEO_DEUG_2015_TYP\n",
      "dtypes: float32(276), int32(87)\n",
      "memory usage: 195.4 MB\n"
     ]
    }
   ],
   "source": [
    "customers.info()"
   ]
  },
  {
   "attachments": {},
   "cell_type": "markdown",
   "metadata": {},
   "source": [
    "##### Checkpoint"
   ]
  },
  {
   "cell_type": "code",
   "execution_count": 137,
   "metadata": {},
   "outputs": [],
   "source": [
    "with open('models/feat_eng.pkl', 'wb') as handle:\n",
    "    dill.dump(feature_engine, handle)"
   ]
  },
  {
   "cell_type": "code",
   "execution_count": 138,
   "metadata": {},
   "outputs": [],
   "source": [
    "azdias.to_pickle('data/azdias_feat_engineered.pkl')\n",
    "customers.to_pickle('data/customers_feat_engineered.pkl')"
   ]
  },
  {
   "cell_type": "code",
   "execution_count": 179,
   "metadata": {},
   "outputs": [],
   "source": [
    "azdias = pd.read_pickle('data/azdias_feat_engineered.pkl')\n",
    "customers = pd.read_pickle('data/customers_feat_engineered.pkl')"
   ]
  },
  {
   "cell_type": "markdown",
   "metadata": {},
   "source": [
    "## Part 1: Customer Segmentation Report\n",
    "\n",
    "The main bulk of your analysis will come in this part of the project. Here, you should use unsupervised learning techniques to describe the relationship between the demographics of the company's existing customers and the general population of Germany. By the end of this part, you should be able to describe parts of the general population that are more likely to be part of the mail-order company's main customer base, and which parts of the general population are less so."
   ]
  },
  {
   "cell_type": "markdown",
   "metadata": {},
   "source": [
    "#### Impute missing Values"
   ]
  },
  {
   "cell_type": "code",
   "execution_count": 134,
   "metadata": {},
   "outputs": [],
   "source": [
    "# impute = Imputer(strategy='most_frequent')\n",
    "imputer = SimpleImputer(strategy='median')\n",
    "imputer.set_output(transform='pandas')\n",
    "\n",
    "imputer.fit(azdias)\n",
    "azdias = imputer.transform(azdias)\n",
    "customers = imputer.transform(customers)"
   ]
  },
  {
   "cell_type": "markdown",
   "metadata": {},
   "source": [
    "##### Checkpoint"
   ]
  },
  {
   "cell_type": "code",
   "execution_count": 140,
   "metadata": {},
   "outputs": [],
   "source": [
    "azdias.to_pickle('data/azdias_imputed.pkl')\n",
    "customers.to_pickle('data/customers_imputed.pkl')"
   ]
  },
  {
   "cell_type": "code",
   "execution_count": null,
   "metadata": {},
   "outputs": [],
   "source": [
    "azdias = pd.read_pickle('data/azdias_imputed.pkl')\n",
    "customers = pd.read_pickle('data/customers_imputed.pkl')"
   ]
  },
  {
   "cell_type": "markdown",
   "metadata": {},
   "source": [
    "#### Scale Values before performing dimensional reduction"
   ]
  },
  {
   "cell_type": "code",
   "execution_count": 135,
   "metadata": {},
   "outputs": [],
   "source": [
    "scaler = StandardScaler()\n",
    "\n",
    "scaler.fit(azdias)\n",
    "scaler.set_output(transform='pandas')\n",
    "\n",
    "azdias = pd.DataFrame(scaler.transform(azdias), columns=azdias.columns)\n",
    "\n",
    "customers = pd.DataFrame(scaler.transform(customers), columns=customers.columns)"
   ]
  },
  {
   "cell_type": "markdown",
   "metadata": {},
   "source": [
    "##### Checkpoint"
   ]
  },
  {
   "cell_type": "code",
   "execution_count": 142,
   "metadata": {},
   "outputs": [],
   "source": [
    "azdias.to_pickle('data/azdias_scaled.pkl')\n",
    "customers.to_pickle('data/customers_scaled.pkl')"
   ]
  },
  {
   "cell_type": "code",
   "execution_count": 5,
   "metadata": {},
   "outputs": [],
   "source": [
    "azdias = pd.read_pickle('data/azdias_scaled.pkl')\n",
    "customers = pd.read_pickle('data/customers_scaled.pkl')"
   ]
  },
  {
   "attachments": {},
   "cell_type": "markdown",
   "metadata": {},
   "source": [
    "### Perform PCA"
   ]
  },
  {
   "cell_type": "code",
   "execution_count": 136,
   "metadata": {},
   "outputs": [
    {
     "data": {
      "text/html": [
       "<style>#sk-container-id-1 {color: black;background-color: white;}#sk-container-id-1 pre{padding: 0;}#sk-container-id-1 div.sk-toggleable {background-color: white;}#sk-container-id-1 label.sk-toggleable__label {cursor: pointer;display: block;width: 100%;margin-bottom: 0;padding: 0.3em;box-sizing: border-box;text-align: center;}#sk-container-id-1 label.sk-toggleable__label-arrow:before {content: \"▸\";float: left;margin-right: 0.25em;color: #696969;}#sk-container-id-1 label.sk-toggleable__label-arrow:hover:before {color: black;}#sk-container-id-1 div.sk-estimator:hover label.sk-toggleable__label-arrow:before {color: black;}#sk-container-id-1 div.sk-toggleable__content {max-height: 0;max-width: 0;overflow: hidden;text-align: left;background-color: #f0f8ff;}#sk-container-id-1 div.sk-toggleable__content pre {margin: 0.2em;color: black;border-radius: 0.25em;background-color: #f0f8ff;}#sk-container-id-1 input.sk-toggleable__control:checked~div.sk-toggleable__content {max-height: 200px;max-width: 100%;overflow: auto;}#sk-container-id-1 input.sk-toggleable__control:checked~label.sk-toggleable__label-arrow:before {content: \"▾\";}#sk-container-id-1 div.sk-estimator input.sk-toggleable__control:checked~label.sk-toggleable__label {background-color: #d4ebff;}#sk-container-id-1 div.sk-label input.sk-toggleable__control:checked~label.sk-toggleable__label {background-color: #d4ebff;}#sk-container-id-1 input.sk-hidden--visually {border: 0;clip: rect(1px 1px 1px 1px);clip: rect(1px, 1px, 1px, 1px);height: 1px;margin: -1px;overflow: hidden;padding: 0;position: absolute;width: 1px;}#sk-container-id-1 div.sk-estimator {font-family: monospace;background-color: #f0f8ff;border: 1px dotted black;border-radius: 0.25em;box-sizing: border-box;margin-bottom: 0.5em;}#sk-container-id-1 div.sk-estimator:hover {background-color: #d4ebff;}#sk-container-id-1 div.sk-parallel-item::after {content: \"\";width: 100%;border-bottom: 1px solid gray;flex-grow: 1;}#sk-container-id-1 div.sk-label:hover label.sk-toggleable__label {background-color: #d4ebff;}#sk-container-id-1 div.sk-serial::before {content: \"\";position: absolute;border-left: 1px solid gray;box-sizing: border-box;top: 0;bottom: 0;left: 50%;z-index: 0;}#sk-container-id-1 div.sk-serial {display: flex;flex-direction: column;align-items: center;background-color: white;padding-right: 0.2em;padding-left: 0.2em;position: relative;}#sk-container-id-1 div.sk-item {position: relative;z-index: 1;}#sk-container-id-1 div.sk-parallel {display: flex;align-items: stretch;justify-content: center;background-color: white;position: relative;}#sk-container-id-1 div.sk-item::before, #sk-container-id-1 div.sk-parallel-item::before {content: \"\";position: absolute;border-left: 1px solid gray;box-sizing: border-box;top: 0;bottom: 0;left: 50%;z-index: -1;}#sk-container-id-1 div.sk-parallel-item {display: flex;flex-direction: column;z-index: 1;position: relative;background-color: white;}#sk-container-id-1 div.sk-parallel-item:first-child::after {align-self: flex-end;width: 50%;}#sk-container-id-1 div.sk-parallel-item:last-child::after {align-self: flex-start;width: 50%;}#sk-container-id-1 div.sk-parallel-item:only-child::after {width: 0;}#sk-container-id-1 div.sk-dashed-wrapped {border: 1px dashed gray;margin: 0 0.4em 0.5em 0.4em;box-sizing: border-box;padding-bottom: 0.4em;background-color: white;}#sk-container-id-1 div.sk-label label {font-family: monospace;font-weight: bold;display: inline-block;line-height: 1.2em;}#sk-container-id-1 div.sk-label-container {text-align: center;}#sk-container-id-1 div.sk-container {/* jupyter's `normalize.less` sets `[hidden] { display: none; }` but bootstrap.min.css set `[hidden] { display: none !important; }` so we also need the `!important` here to be able to override the default hidden behavior on the sphinx rendered scikit-learn.org. See: https://github.com/scikit-learn/scikit-learn/issues/21755 */display: inline-block !important;position: relative;}#sk-container-id-1 div.sk-text-repr-fallback {display: none;}</style><div id=\"sk-container-id-1\" class=\"sk-top-container\"><div class=\"sk-text-repr-fallback\"><pre>PCA(random_state=42)</pre><b>In a Jupyter environment, please rerun this cell to show the HTML representation or trust the notebook. <br />On GitHub, the HTML representation is unable to render, please try loading this page with nbviewer.org.</b></div><div class=\"sk-container\" hidden><div class=\"sk-item\"><div class=\"sk-estimator sk-toggleable\"><input class=\"sk-toggleable__control sk-hidden--visually\" id=\"sk-estimator-id-1\" type=\"checkbox\" checked><label for=\"sk-estimator-id-1\" class=\"sk-toggleable__label sk-toggleable__label-arrow\">PCA</label><div class=\"sk-toggleable__content\"><pre>PCA(random_state=42)</pre></div></div></div></div></div>"
      ],
      "text/plain": [
       "PCA(random_state=42)"
      ]
     },
     "execution_count": 136,
     "metadata": {},
     "output_type": "execute_result"
    }
   ],
   "source": [
    "pca = PCA(random_state=randomState)\n",
    "pca.fit(azdias)"
   ]
  },
  {
   "cell_type": "code",
   "execution_count": 137,
   "metadata": {},
   "outputs": [],
   "source": [
    "variance = pca.explained_variance_ratio_\n",
    "cumulative_variance = np.cumsum(variance)"
   ]
  },
  {
   "cell_type": "code",
   "execution_count": 138,
   "metadata": {},
   "outputs": [
    {
     "data": {
      "image/png": "[encoded data removed]",
      "text/plain": [
       "<Figure size 1000x500 with 2 Axes>"
      ]
     },
     "metadata": {},
     "output_type": "display_data"
    }
   ],
   "source": [
    "# Plot Variance explained by Components\n",
    "fig, ax1 = plt.subplots(figsize=(10, 5))\n",
    "ax1.bar(range(1, len(variance)+1), variance, label='Individual variance')\n",
    "ax1.set_xlabel('Principal component')\n",
    "ax1.set_ylabel('Proportion of variance explained')\n",
    "ax2 = ax1.twinx()\n",
    "ax2.plot(range(1, len(variance)+1), cumulative_variance, label='Cumulative variance')\n",
    "ax2.set_ylabel('Proportion of variance explained')\n",
    "fig.legend()\n",
    "fig.tight_layout(pad=4)\n",
    "plt.show();"
   ]
  },
  {
   "cell_type": "code",
   "execution_count": 139,
   "metadata": {},
   "outputs": [
    {
     "data": {
      "text/plain": [
       "(176, 177)"
      ]
     },
     "execution_count": 139,
     "metadata": {},
     "output_type": "execute_result"
    }
   ],
   "source": [
    "# Check thresholds\n",
    "indices_evr_lt_90 = np.where(cumulative_variance<=0.90)\n",
    "indices_evr_gt_90 = np.where(cumulative_variance>0.90)\n",
    "indices_evr_lt_90[0][-1], indices_evr_gt_90[0][0]"
   ]
  },
  {
   "cell_type": "code",
   "execution_count": 140,
   "metadata": {},
   "outputs": [
    {
     "data": {
      "image/png": "[encoded data removed]",
      "text/plain": [
       "<Figure size 640x480 with 1 Axes>"
      ]
     },
     "metadata": {},
     "output_type": "display_data"
    }
   ],
   "source": [
    "# Plot lines indicating thresholds\n",
    "plt.ylim(min(cumulative_variance))\n",
    "plt.axhline(y=0.9, color='r')\n",
    "plt.axvline(x=176, color='r')\n",
    "\n",
    "plt.axhline(y=0.86, color='r', linestyle='--')\n",
    "plt.axvline(x=150, color='r', linestyle='--')\n",
    "\n",
    "plt.plot(cumulative_variance)\n",
    "plt.xlabel('Principal component')\n",
    "plt.ylabel('Proportion of variance explained')\n",
    "plt.title(\"Explained Variance (Cumulative) per N Principal Components\")\n",
    "plt.show();"
   ]
  },
  {
   "attachments": {},
   "cell_type": "markdown",
   "metadata": {},
   "source": [
    "#### We will perform PCA considering both ~90% & ~85% of variance explained"
   ]
  },
  {
   "cell_type": "code",
   "execution_count": 141,
   "metadata": {},
   "outputs": [],
   "source": [
    "# PCA with 176 Components ~ 90% Variance\n",
    "pca_176 = PCA(random_state=randomState, n_components=176)\n",
    "pca_176.fit(azdias)\n",
    "azdias_pca_176 = pca_176.transform(azdias)\n",
    "customers_pca_176 = pca_176.transform(customers)"
   ]
  },
  {
   "attachments": {},
   "cell_type": "markdown",
   "metadata": {},
   "source": [
    "#### Plotting Explained Variance of Components"
   ]
  },
  {
   "cell_type": "code",
   "execution_count": 142,
   "metadata": {},
   "outputs": [
    {
     "data": {
      "image/png": "[encoded data removed]",
      "text/plain": [
       "<Figure size 1000x500 with 2 Axes>"
      ]
     },
     "metadata": {},
     "output_type": "display_data"
    }
   ],
   "source": [
    "plot_evr(pca_176)"
   ]
  },
  {
   "attachments": {},
   "cell_type": "markdown",
   "metadata": {},
   "source": [
    "#### Check Feature Weights of top 4 components"
   ]
  },
  {
   "cell_type": "code",
   "execution_count": 143,
   "metadata": {},
   "outputs": [],
   "source": [
    "top_feature_weights_list = [get_feature_weights(pca_176, azdias, i) for i in range(4)]"
   ]
  },
  {
   "cell_type": "code",
   "execution_count": 146,
   "metadata": {},
   "outputs": [
    {
     "data": {
      "image/png": "[encoded data removed]",
      "text/plain": [
       "<Figure size 640x480 with 1 Axes>"
      ]
     },
     "metadata": {},
     "output_type": "display_data"
    },
    {
     "data": {
      "image/png": "[encoded data removed]",
      "text/plain": [
       "<Figure size 640x480 with 1 Axes>"
      ]
     },
     "metadata": {},
     "output_type": "display_data"
    },
    {
     "data": {
      "image/png": "[encoded data removed]",
      "text/plain": [
       "<Figure size 640x480 with 1 Axes>"
      ]
     },
     "metadata": {},
     "output_type": "display_data"
    },
    {
     "data": {
      "image/png": "[encoded data removed]",
      "text/plain": [
       "<Figure size 640x480 with 1 Axes>"
      ]
     },
     "metadata": {},
     "output_type": "display_data"
    }
   ],
   "source": [
    "for i in range(4):\n",
    "    feature_weights_i = top_feature_weights_list[i]\n",
    "    plt.title(f'Feature Weights for Component {i+1}')\n",
    "    plot_feature_weights(feature_weights_i)"
   ]
  },
  {
   "attachments": {},
   "cell_type": "markdown",
   "metadata": {},
   "source": [
    "### KMeans Clusering"
   ]
  },
  {
   "attachments": {},
   "cell_type": "markdown",
   "metadata": {},
   "source": [
    "#### Elbow method to choose optimum number of clusters\n",
    "\n",
    "We will use yellowbrick's KElbowVisualizer to visualize the optimum value"
   ]
  },
  {
   "cell_type": "code",
   "execution_count": 147,
   "metadata": {},
   "outputs": [],
   "source": [
    "from src.modelling import plot_elbow"
   ]
  },
  {
   "cell_type": "code",
   "execution_count": 148,
   "metadata": {},
   "outputs": [
    {
     "data": {
      "image/png": "[encoded data removed]",
      "text/plain": [
       "<Figure size 800x550 with 2 Axes>"
      ]
     },
     "metadata": {},
     "output_type": "display_data"
    }
   ],
   "source": [
    "plot_elbow(azdias_pca_176)"
   ]
  },
  {
   "cell_type": "code",
   "execution_count": 149,
   "metadata": {},
   "outputs": [],
   "source": [
    "# KMeans Clustering for data with 176 dims\n",
    "kmeans = KMeans(n_clusters=10, random_state=randomState, n_init='auto')\n",
    "kmeans.fit(azdias_pca_176)\n",
    "azdias_clusters = kmeans.predict(azdias_pca_176)\n",
    "customers_clusters = kmeans.predict(customers_pca_176)"
   ]
  },
  {
   "cell_type": "code",
   "execution_count": 150,
   "metadata": {},
   "outputs": [],
   "source": [
    "from src.utils import plot_clusters"
   ]
  },
  {
   "cell_type": "code",
   "execution_count": 151,
   "metadata": {},
   "outputs": [
    {
     "data": {
      "image/png": "[encoded data removed]",
      "text/plain": [
       "<Figure size 1200x600 with 2 Axes>"
      ]
     },
     "metadata": {},
     "output_type": "display_data"
    }
   ],
   "source": [
    "# Plot Num of Observations in each Cluster for data with 176 dims\n",
    "plot_clusters(azdias_clusters, customers_clusters)"
   ]
  },
  {
   "cell_type": "code",
   "execution_count": 162,
   "metadata": {},
   "outputs": [],
   "source": [
    "# with open('models/imputer.pkl', 'wb') as imputer_pkl:\n",
    "#     pickle.dump(imputer, imputer_pkl)\n",
    "\n",
    "# with open('models/scaler.pkl', 'wb') as scaler_pkl:\n",
    "#     pickle.dump(scaler, scaler_pkl)\n",
    "\n",
    "# with open('models/pca_176.pkl', 'wb') as pca_pkl:\n",
    "#     pickle.dump(pca_176, pca_pkl)\n",
    "\n",
    "# with open('models/kmeans.pkl', 'wb') as kmeans_pkl:\n",
    "#     pickle.dump(kmeans, kmeans_pkl)\n",
    "\n",
    "# with open('metadata/high_cardinality_klasse_type_cols.pkl', 'wb') as cols_pkl:\n",
    "#     pickle.dump(high_cardinality_klasse_type_cols, cols_pkl)"
   ]
  },
  {
   "cell_type": "markdown",
   "metadata": {},
   "source": [
    "## Part 2: Supervised Learning Model\n",
    "\n",
    "Now that you've found which parts of the population are more likely to be customers of the mail-order company, it's time to build a prediction model. Each of the rows in the \"MAILOUT\" data files represents an individual that was targeted for a mailout campaign. Ideally, we should be able to use the demographic information from each individual to decide whether or not it will be worth it to include that person in the campaign.\n",
    "\n",
    "The \"MAILOUT\" data has been split into two approximately equal parts, each with almost 43 000 data rows. In this part, you can verify your model with the \"TRAIN\" partition, which includes a column, \"RESPONSE\", that states whether or not a person became a customer of the company following the campaign. In the next part, you'll need to create predictions on the \"TEST\" partition, where the \"RESPONSE\" column has been withheld."
   ]
  },
  {
   "cell_type": "code",
   "execution_count": null,
   "metadata": {},
   "outputs": [],
   "source": [
    "# with open('models/imputer.pkl', 'rb') as imputer_pkl:\n",
    "#     pickle.load(imputer, imputer_pkl)\n",
    "\n",
    "# with open('models/scaler.pkl', 'rb') as scaler_pkl:\n",
    "#     pickle.dump(scaler, scaler_pkl)\n",
    "\n",
    "# with open('models/pca_176.pkl', 'rb') as pca_pkl:\n",
    "#     pickle.dump(pca_176, pca_pkl)\n",
    "\n",
    "# with open('models/kmeans.pkl', 'rb') as kmeans_pkl:\n",
    "#     pickle.dump(kmeans, kmeans_pkl)\n",
    "\n",
    "# with open('metadata/high_cardinality_klasse_type_cols.pkl', 'rb') as cols_pkl:\n",
    "#     pickle.dump(high_cardinality_klasse_type_cols, cols_pkl)"
   ]
  },
  {
   "cell_type": "code",
   "execution_count": 163,
   "metadata": {},
   "outputs": [],
   "source": [
    "# with open('models/clean_data.pkl', 'rb') as clean:\n",
    "#     clean_data = dill.load(clean)"
   ]
  },
  {
   "cell_type": "code",
   "execution_count": 164,
   "metadata": {},
   "outputs": [],
   "source": [
    "# with open('models/feat_eng.pkl', 'rb') as fe:\n",
    "#     feature_engine = dill.load(fe)"
   ]
  },
  {
   "attachments": {},
   "cell_type": "markdown",
   "metadata": {},
   "source": [
    "### Train"
   ]
  },
  {
   "cell_type": "code",
   "execution_count": 152,
   "metadata": {},
   "outputs": [
    {
     "name": "stderr",
     "output_type": "stream",
     "text": [
      "C:\\Users\\Satya\\AppData\\Local\\Temp\\ipykernel_23664\\2290286062.py:1: DtypeWarning: Columns (18,19) have mixed types. Specify dtype option on import or set low_memory=False.\n",
      "  mailout_train = pd.read_csv('../../data/Term2/capstone/arvato_data/Udacity_MAILOUT_052018_TRAIN.csv', sep=';')\n"
     ]
    }
   ],
   "source": [
    "mailout_train = pd.read_csv('data/Udacity_MAILOUT_052018_TRAIN.csv', sep=';')"
   ]
  },
  {
   "cell_type": "code",
   "execution_count": 155,
   "metadata": {},
   "outputs": [
    {
     "data": {
      "image/png": "[encoded data removed]",
      "text/plain": [
       "<Figure size 800x550 with 1 Axes>"
      ]
     },
     "metadata": {},
     "output_type": "display_data"
    }
   ],
   "source": [
    "response_counts = mailout_train['RESPONSE'].value_counts()/len(mailout_train['RESPONSE'])\n",
    "response_counts.plot.bar(color=['b', 'r'])\n",
    "plt.xticks(ticks=[0,1], labels=['No', 'Yes'])\n",
    "plt.xlabel('RESPONSE')\n",
    "plt.ylabel('Percent')\n",
    "plt.show();"
   ]
  },
  {
   "cell_type": "code",
   "execution_count": 156,
   "metadata": {},
   "outputs": [],
   "source": [
    "# Applying All Transformations\\Processing applied to Gen Pop & Customers Data\n",
    "clean_data.transform(mailout_train)\n",
    "mailout_train_clean = mailout_train.copy()\n",
    "feature_engine.transform(mailout_train_clean)"
   ]
  },
  {
   "cell_type": "code",
   "execution_count": 157,
   "metadata": {},
   "outputs": [],
   "source": [
    "# Dropping Columns\n",
    "mailout_train_clean.drop(list(get_cols_to_drop(mailout_train_clean, 0.30)), axis=1, inplace=True)\n",
    "mailout_train_clean.drop(['EINGEFUEGT_AM', 'LNR', \n",
    "                          'CAMEO_INTL_2015', 'LP_FAMILIE_FEIN', 'LP_LEBENSPHASE_FEIN'\n",
    "                          ], axis=1, inplace=True)"
   ]
  },
  {
   "cell_type": "code",
   "execution_count": 158,
   "metadata": {},
   "outputs": [],
   "source": [
    "# Creating X, y for modelling\n",
    "X_train, y_train = mailout_train_clean.drop('RESPONSE', axis=1), mailout_train_clean['RESPONSE']\n",
    "\n",
    "# Verifying Integrity\n",
    "assert(X_train.shape[1] == azdias.shape[1])"
   ]
  },
  {
   "attachments": {},
   "cell_type": "markdown",
   "metadata": {},
   "source": [
    "#### Some more Feature Engineering"
   ]
  },
  {
   "cell_type": "code",
   "execution_count": 159,
   "metadata": {},
   "outputs": [],
   "source": [
    "# Adding New Features to capture information learn during the Unsupervided learning part i.e. Customer Segmentation\n",
    "# We use the dimensional reduction and KMeans clustering performed on azdias dataset to get two new features\n",
    "X_train_imputed = imputer.transform(X_train)\n",
    "X_train_imputed_scaled = scaler.transform(X_train_imputed)\n",
    "X_train_pca_176 = pca_176.transform(X_train_imputed_scaled)\n",
    "cluster_p176_c10 = kmeans.predict(X_train_pca_176)\n",
    "X_train_imputed['cluster_p176_c10'] = cluster_p176_c10"
   ]
  },
  {
   "cell_type": "code",
   "execution_count": 160,
   "metadata": {},
   "outputs": [],
   "source": [
    "# Creating One Hot Encoding for Certain Columns\n",
    "ohe_cols = list((set(klasse_type_cols)-set(high_cardinality_klasse_type_cols))&set(mailout_train_clean.columns))\n",
    "X_train_ohe = pd.get_dummies(X_train_imputed, columns=ohe_cols)"
   ]
  },
  {
   "cell_type": "code",
   "execution_count": 161,
   "metadata": {},
   "outputs": [],
   "source": [
    "# Imports for modelling\n",
    "from sklearn.metrics import roc_auc_score\n",
    "from src.modelling import GridSearch_ClassifierCV"
   ]
  },
  {
   "attachments": {},
   "cell_type": "markdown",
   "metadata": {},
   "source": [
    "##### Creating train dataset & labels that will taken as inputs by classification algorithms"
   ]
  },
  {
   "cell_type": "code",
   "execution_count": 162,
   "metadata": {},
   "outputs": [],
   "source": [
    "# train = X_train_ohe\n",
    "train = pd.concat([X_train_ohe, X_train_imputed[ohe_cols]], axis=1)\n",
    "\n",
    "labels = y_train"
   ]
  },
  {
   "attachments": {},
   "cell_type": "markdown",
   "metadata": {},
   "source": [
    "Reduce mem usage"
   ]
  },
  {
   "cell_type": "code",
   "execution_count": 163,
   "metadata": {},
   "outputs": [],
   "source": [
    "azdias = None\n",
    "customers = None"
   ]
  },
  {
   "cell_type": "code",
   "execution_count": 164,
   "metadata": {},
   "outputs": [],
   "source": [
    "from xgboost import XGBClassifier\n",
    "from lightgbm import LGBMClassifier\n",
    "from sklearn.ensemble import RandomForestClassifier"
   ]
  },
  {
   "cell_type": "code",
   "execution_count": 165,
   "metadata": {},
   "outputs": [
    {
     "data": {
      "text/plain": [
       "79.75563909774436"
      ]
     },
     "execution_count": 165,
     "metadata": {},
     "output_type": "execute_result"
    }
   ],
   "source": [
    "# for hyper parameter for imbalanced dataset\n",
    "scale_pos_weight = sum(y_train==0)/sum(y_train==1)\n",
    "scale_pos_weight"
   ]
  },
  {
   "cell_type": "code",
   "execution_count": 166,
   "metadata": {},
   "outputs": [
    {
     "data": {
      "text/plain": [
       "(0.764680952419457,\n",
       " {'learning_rate': 0.1, 'max_depth': 3, 'scale_pos_weight': None})"
      ]
     },
     "execution_count": 166,
     "metadata": {},
     "output_type": "execute_result"
    }
   ],
   "source": [
    "xgb_clf = XGBClassifier(objective='binary:logistic', \n",
    "                        random_state=randomState\n",
    "                        )\n",
    "xgb_param_grid = {\n",
    "                  'scale_pos_weight': [None, 10, scale_pos_weight],\n",
    "                  'learning_rate':[0.1,0.01],\n",
    "                  'max_depth': [3,12,24]\n",
    "                 }\n",
    "                 \n",
    "xgb_grid = GridSearch_ClassifierCV(xgb_clf, train, labels,\n",
    "                                   params=xgb_param_grid,\n",
    "                                   cv=3\n",
    "                                  )\n",
    "xgb_grid.best_score_, xgb_grid.best_params_"
   ]
  },
  {
   "cell_type": "code",
   "execution_count": 167,
   "metadata": {},
   "outputs": [
    {
     "data": {
      "text/plain": [
       "(0.7586573733567302,\n",
       " {'boosting_type': 'dart', 'is_unbalance': None, 'max_depth': 50})"
      ]
     },
     "execution_count": 167,
     "metadata": {},
     "output_type": "execute_result"
    }
   ],
   "source": [
    "lgb_clf = LGBMClassifier(objective='binary',\n",
    "                        random_state=randomState,\n",
    "                        )\n",
    "\n",
    "lgb_param_grid = {# 'feature_fraction':[1, 0.9],\n",
    "                  'boosting_type' : ['gbdt', 'dart'],\n",
    "                  'max_depth': [50, 100],\n",
    "                  'is_unbalance' : [True, None]\n",
    "                 # 'num_leaves':[100, 500]\n",
    "                 }\n",
    "                 \n",
    "lgb_grid = GridSearch_ClassifierCV(lgb_clf, train, labels,\n",
    "                                   params=lgb_param_grid,\n",
    "                                   cv=3\n",
    "                                  )\n",
    "lgb_grid.best_score_, lgb_grid.best_params_"
   ]
  },
  {
   "cell_type": "code",
   "execution_count": 168,
   "metadata": {},
   "outputs": [
    {
     "data": {
      "text/plain": [
       "(0.6668600760932467, {'max_depth': 10, 'n_estimators': 900})"
      ]
     },
     "execution_count": 168,
     "metadata": {},
     "output_type": "execute_result"
    }
   ],
   "source": [
    "rf_clf = RandomForestClassifier(random_state=randomState\n",
    "                                )\n",
    "rf_param_grid = {\n",
    "                 'max_depth': [10, 50, 90],\n",
    "                 'n_estimators':[100, 500, 900]\n",
    "                 }\n",
    "                 \n",
    "rf_grid = GridSearch_ClassifierCV(rf_clf, train, labels,\n",
    "                                  params=rf_param_grid,\n",
    "                                  cv=3\n",
    "                                  )\n",
    "rf_grid.best_score_, rf_grid.best_params_"
   ]
  },
  {
   "attachments": {},
   "cell_type": "markdown",
   "metadata": {},
   "source": [
    "#### Algorithms/Techniques to deal with Imbalanced data"
   ]
  },
  {
   "cell_type": "code",
   "execution_count": 169,
   "metadata": {},
   "outputs": [],
   "source": [
    "from imblearn.over_sampling import SMOTE\n",
    "from imblearn.pipeline import Pipeline"
   ]
  },
  {
   "cell_type": "code",
   "execution_count": 170,
   "metadata": {},
   "outputs": [
    {
     "data": {
      "text/plain": [
       "(0.7444815808662346,\n",
       " {'classifier__learning_rate': 0.01, 'classifier__max_depth': 3})"
      ]
     },
     "execution_count": 170,
     "metadata": {},
     "output_type": "execute_result"
    }
   ],
   "source": [
    "xgb_imb_clf = XGBClassifier(objective='binary:logistic', \n",
    "                            random_state=randomState\n",
    "                            )\n",
    "\n",
    "xgb_imb_param_grid = {\n",
    "                      'learning_rate':[0.1,0.01],\n",
    "                      'max_depth': [3,12,24]\n",
    "                      }\n",
    "\n",
    "xgb_imb_clf_pipeline = Pipeline([('smote', SMOTE(random_state=randomState)),\n",
    "                                 ('classifier', xgb_imb_clf) \n",
    "                                 ])\n",
    "\n",
    "xgb_imb_grid = GridSearch_ClassifierCV(xgb_imb_clf_pipeline, train, labels,\n",
    "                                       params={'classifier__'+k:v for k,v in xgb_imb_param_grid.items()},\n",
    "                                       cv=3\n",
    "                                       )\n",
    "\n",
    "xgb_imb_grid.best_score_, xgb_imb_grid.best_params_"
   ]
  },
  {
   "cell_type": "code",
   "execution_count": 171,
   "metadata": {},
   "outputs": [
    {
     "data": {
      "text/plain": [
       "(0.689834570512831,\n",
       " {'classifier__boosting_type': 'gbdt', 'classifier__max_depth': 50})"
      ]
     },
     "execution_count": 171,
     "metadata": {},
     "output_type": "execute_result"
    }
   ],
   "source": [
    "lgb_imb_clf = LGBMClassifier(objective='binary',\n",
    "                        random_state=randomState,\n",
    "                        )\n",
    "\n",
    "lgb_imb_param_grid = {\n",
    "                      'boosting_type' : ['gbdt', 'dart'],\n",
    "                      'max_depth': [50, 100],\n",
    "                      }\n",
    "\n",
    "lgb_imb_clf_pipeline = Pipeline([('smote', SMOTE(random_state=randomState)),\n",
    "                                 ('classifier', lgb_imb_clf) \n",
    "                                 ])\n",
    "\n",
    "lgb_imb_grid = GridSearch_ClassifierCV(lgb_imb_clf_pipeline, train, labels,\n",
    "                                       params={'classifier__'+k:v for k,v in lgb_imb_param_grid.items()},\n",
    "                                       cv=3\n",
    "                                      )\n",
    "\n",
    "lgb_imb_grid.best_score_, lgb_imb_grid.best_params_"
   ]
  },
  {
   "cell_type": "code",
   "execution_count": 172,
   "metadata": {},
   "outputs": [
    {
     "data": {
      "text/plain": [
       "(0.6371978247509427,\n",
       " {'classifier__max_depth': 90, 'classifier__n_estimators': 900})"
      ]
     },
     "execution_count": 172,
     "metadata": {},
     "output_type": "execute_result"
    }
   ],
   "source": [
    "rf_imb_clf = RandomForestClassifier(random_state=randomState\n",
    "                                    )\n",
    "rf_imb_param_grid = {\n",
    "                     'max_depth': [50, 90],\n",
    "                     'n_estimators':[500, 900]\n",
    "                     }\n",
    "                 \n",
    "rf_imb_clf_pipeline = Pipeline([('smote', SMOTE(random_state=randomState)),\n",
    "                                ('classifier', rf_imb_clf) \n",
    "                                ])\n",
    "\n",
    "rf_imb_grid = GridSearch_ClassifierCV(rf_imb_clf_pipeline, train, labels,\n",
    "                                      params={'classifier__'+k:v for k,v in rf_imb_param_grid.items()},\n",
    "                                      cv=3\n",
    "                                      )\n",
    "\n",
    "rf_imb_grid.best_score_, rf_imb_grid.best_params_"
   ]
  },
  {
   "attachments": {},
   "cell_type": "markdown",
   "metadata": {},
   "source": [
    "#### Summarise Grid Search Results"
   ]
  },
  {
   "cell_type": "code",
   "execution_count": 173,
   "metadata": {},
   "outputs": [
    {
     "data": {
      "text/html": [
       "<div>\n",
       "<style scoped>\n",
       "    .dataframe tbody tr th:only-of-type {\n",
       "        vertical-align: middle;\n",
       "    }\n",
       "\n",
       "    .dataframe tbody tr th {\n",
       "        vertical-align: top;\n",
       "    }\n",
       "\n",
       "    .dataframe thead th {\n",
       "        text-align: right;\n",
       "    }\n",
       "</style>\n",
       "<table border=\"1\" class=\"dataframe\">\n",
       "  <thead>\n",
       "    <tr style=\"text-align: right;\">\n",
       "      <th></th>\n",
       "      <th>model</th>\n",
       "      <th>best_params</th>\n",
       "      <th>score</th>\n",
       "    </tr>\n",
       "  </thead>\n",
       "  <tbody>\n",
       "    <tr>\n",
       "      <th>0</th>\n",
       "      <td>xgboost</td>\n",
       "      <td>{'learning_rate': 0.1, 'max_depth': 3, 'scale_pos_weight': None}</td>\n",
       "      <td>0.764681</td>\n",
       "    </tr>\n",
       "    <tr>\n",
       "      <th>1</th>\n",
       "      <td>lightgbm</td>\n",
       "      <td>{'boosting_type': 'dart', 'is_unbalance': None, 'max_depth': 50}</td>\n",
       "      <td>0.758657</td>\n",
       "    </tr>\n",
       "    <tr>\n",
       "      <th>2</th>\n",
       "      <td>randomforest</td>\n",
       "      <td>{'max_depth': 10, 'n_estimators': 900}</td>\n",
       "      <td>0.666860</td>\n",
       "    </tr>\n",
       "    <tr>\n",
       "      <th>3</th>\n",
       "      <td>xgboost with smote</td>\n",
       "      <td>{'classifier__learning_rate': 0.01, 'classifier__max_depth': 3}</td>\n",
       "      <td>0.744482</td>\n",
       "    </tr>\n",
       "    <tr>\n",
       "      <th>4</th>\n",
       "      <td>lightgbm with smote</td>\n",
       "      <td>{'classifier__boosting_type': 'gbdt', 'classifier__max_depth': 50}</td>\n",
       "      <td>0.689835</td>\n",
       "    </tr>\n",
       "    <tr>\n",
       "      <th>5</th>\n",
       "      <td>randomforest with smote</td>\n",
       "      <td>{'classifier__max_depth': 90, 'classifier__n_estimators': 900}</td>\n",
       "      <td>0.637198</td>\n",
       "    </tr>\n",
       "  </tbody>\n",
       "</table>\n",
       "</div>"
      ],
      "text/plain": [
       "                     model  \\\n",
       "0                  xgboost   \n",
       "1                 lightgbm   \n",
       "2             randomforest   \n",
       "3       xgboost with smote   \n",
       "4      lightgbm with smote   \n",
       "5  randomforest with smote   \n",
       "\n",
       "                                                          best_params  \\\n",
       "0    {'learning_rate': 0.1, 'max_depth': 3, 'scale_pos_weight': None}   \n",
       "1    {'boosting_type': 'dart', 'is_unbalance': None, 'max_depth': 50}   \n",
       "2                              {'max_depth': 10, 'n_estimators': 900}   \n",
       "3     {'classifier__learning_rate': 0.01, 'classifier__max_depth': 3}   \n",
       "4  {'classifier__boosting_type': 'gbdt', 'classifier__max_depth': 50}   \n",
       "5      {'classifier__max_depth': 90, 'classifier__n_estimators': 900}   \n",
       "\n",
       "      score  \n",
       "0  0.764681  \n",
       "1  0.758657  \n",
       "2  0.666860  \n",
       "3  0.744482  \n",
       "4  0.689835  \n",
       "5  0.637198  "
      ]
     },
     "metadata": {},
     "output_type": "display_data"
    }
   ],
   "source": [
    "summary_df = pd.DataFrame({'model': ['xgboost', 'lightgbm', 'randomforest', \n",
    "                                     'xgboost with smote', 'lightgbm with smote', \n",
    "                                     'randomforest with smote'\n",
    "                                     ],\n",
    "                            'best_params': [xgb_grid.best_params_, lgb_grid.best_params_, rf_grid.best_params_, \n",
    "                                            xgb_imb_grid.best_params_, lgb_imb_grid.best_params_, \n",
    "                                            rf_imb_grid.best_params_\n",
    "                                            ],\n",
    "                            'score': [xgb_grid.best_score_, lgb_grid.best_score_, rf_grid.best_score_, \n",
    "                                      xgb_imb_grid.best_score_, lgb_imb_grid.best_score_, \n",
    "                                      rf_imb_grid.best_score_\n",
    "                                      ]\n",
    "                           })\n",
    "\n",
    "with pd.option_context('display.max_colwidth', None):\n",
    "    display(summary_df)"
   ]
  },
  {
   "attachments": {},
   "cell_type": "markdown",
   "metadata": {},
   "source": [
    "#### Retraining models using best params obtained above on entire dataset"
   ]
  },
  {
   "cell_type": "code",
   "execution_count": 174,
   "metadata": {},
   "outputs": [
    {
     "data": {
      "text/plain": [
       "0.878149592694912"
      ]
     },
     "execution_count": 174,
     "metadata": {},
     "output_type": "execute_result"
    }
   ],
   "source": [
    "model = XGBClassifier(objective='binary:logistic', random_state=randomState,\n",
    "                      **xgb_grid.best_params_\n",
    "                      )\n",
    "model.fit(train, labels)\n",
    "\n",
    "y_pred_probab = model.predict_proba(train)[:, 1]\n",
    "roc_auc_score(y_train, y_pred_probab)"
   ]
  },
  {
   "cell_type": "code",
   "execution_count": 175,
   "metadata": {},
   "outputs": [
    {
     "data": {
      "text/plain": [
       "0.9301486393334267"
      ]
     },
     "execution_count": 175,
     "metadata": {},
     "output_type": "execute_result"
    }
   ],
   "source": [
    "light_model = LGBMClassifier(random_state=randomState,\n",
    "                             objective='binary',\n",
    "                             **lgb_grid.best_params_\n",
    "                             )\n",
    "light_model.fit(train, labels)\n",
    "\n",
    "y_pred_light_probab = light_model.predict_proba(train)[:, 1]\n",
    "roc_auc_score(y_train, y_pred_light_probab)"
   ]
  },
  {
   "cell_type": "code",
   "execution_count": 176,
   "metadata": {},
   "outputs": [
    {
     "data": {
      "text/plain": [
       "0.955797009315653"
      ]
     },
     "execution_count": 176,
     "metadata": {},
     "output_type": "execute_result"
    }
   ],
   "source": [
    "forest_model = RandomForestClassifier(random_state=randomState,\n",
    "                                      **rf_grid.best_params_\n",
    "                                      )\n",
    "forest_model.fit(train, labels)\n",
    "\n",
    "y_pred_forest_probab = forest_model.predict_proba(train)[:, 1]\n",
    "roc_auc_score(y_train, y_pred_forest_probab)"
   ]
  },
  {
   "cell_type": "code",
   "execution_count": 177,
   "metadata": {},
   "outputs": [],
   "source": [
    "# Synthetic Minority Oversampling Technique\n",
    "sm = SMOTE(random_state=randomState)\n",
    "train_resampled, labels_resampled = sm.fit_resample(train, labels)"
   ]
  },
  {
   "cell_type": "code",
   "execution_count": 178,
   "metadata": {},
   "outputs": [
    {
     "data": {
      "text/plain": [
       "0.7695094662770525"
      ]
     },
     "execution_count": 178,
     "metadata": {},
     "output_type": "execute_result"
    }
   ],
   "source": [
    "model_imb = XGBClassifier(objective='binary:logistic', \n",
    "                          random_state=randomState,\n",
    "                         **{k.split('__')[1]:v for k,v in xgb_imb_grid.best_params_.items()}\n",
    "                      )\n",
    "model_imb.fit(train_resampled, labels_resampled)\n",
    "\n",
    "y_pred_imb_probab = model_imb.predict_proba(train)[:, 1]\n",
    "roc_auc_score(y_train, y_pred_imb_probab)"
   ]
  },
  {
   "cell_type": "code",
   "execution_count": 179,
   "metadata": {},
   "outputs": [
    {
     "data": {
      "text/plain": [
       "0.8973981249966774"
      ]
     },
     "execution_count": 179,
     "metadata": {},
     "output_type": "execute_result"
    }
   ],
   "source": [
    "light_imb_model = LGBMClassifier(random_state=randomState,\n",
    "                                 objective='binary',\n",
    "                                 **{k.split('__')[1]: v for k, v in lgb_imb_grid.best_params_.items()}\n",
    "                                 )\n",
    "light_imb_model.fit(train_resampled, labels_resampled)\n",
    "\n",
    "y_pred_imb_light_probab = light_imb_model.predict_proba(train)[:, 1]\n",
    "roc_auc_score(y_train, y_pred_imb_light_probab)"
   ]
  },
  {
   "cell_type": "code",
   "execution_count": 180,
   "metadata": {},
   "outputs": [
    {
     "data": {
      "text/plain": [
       "0.9919829697387472"
      ]
     },
     "execution_count": 180,
     "metadata": {},
     "output_type": "execute_result"
    }
   ],
   "source": [
    "forest_imb_model = RandomForestClassifier(random_state=randomState,\n",
    "                                          **{k.split('__')[1]: v for k, v in rf_imb_grid.best_params_.items()}\n",
    "                                          )\n",
    "forest_imb_model.fit(train_resampled, labels_resampled)\n",
    "\n",
    "y_pred_imb_forest_probab = forest_imb_model.predict_proba(train)[:, 1]\n",
    "roc_auc_score(y_train, y_pred_imb_forest_probab)"
   ]
  },
  {
   "attachments": {},
   "cell_type": "markdown",
   "metadata": {},
   "source": [
    "#### Summarise Evaluation Scores on training data"
   ]
  },
  {
   "cell_type": "code",
   "execution_count": 181,
   "metadata": {},
   "outputs": [
    {
     "data": {
      "text/html": [
       "<div>\n",
       "<style scoped>\n",
       "    .dataframe tbody tr th:only-of-type {\n",
       "        vertical-align: middle;\n",
       "    }\n",
       "\n",
       "    .dataframe tbody tr th {\n",
       "        vertical-align: top;\n",
       "    }\n",
       "\n",
       "    .dataframe thead th {\n",
       "        text-align: right;\n",
       "    }\n",
       "</style>\n",
       "<table border=\"1\" class=\"dataframe\">\n",
       "  <thead>\n",
       "    <tr style=\"text-align: right;\">\n",
       "      <th></th>\n",
       "      <th>model</th>\n",
       "      <th>training score</th>\n",
       "    </tr>\n",
       "  </thead>\n",
       "  <tbody>\n",
       "    <tr>\n",
       "      <th>0</th>\n",
       "      <td>xgboost</td>\n",
       "      <td>0.878150</td>\n",
       "    </tr>\n",
       "    <tr>\n",
       "      <th>1</th>\n",
       "      <td>lightgbm</td>\n",
       "      <td>0.930149</td>\n",
       "    </tr>\n",
       "    <tr>\n",
       "      <th>2</th>\n",
       "      <td>randomforest</td>\n",
       "      <td>0.955797</td>\n",
       "    </tr>\n",
       "    <tr>\n",
       "      <th>3</th>\n",
       "      <td>xgboost with smote</td>\n",
       "      <td>0.769509</td>\n",
       "    </tr>\n",
       "    <tr>\n",
       "      <th>4</th>\n",
       "      <td>lightgbm with smote</td>\n",
       "      <td>0.897398</td>\n",
       "    </tr>\n",
       "    <tr>\n",
       "      <th>5</th>\n",
       "      <td>randomforest with smote</td>\n",
       "      <td>0.991983</td>\n",
       "    </tr>\n",
       "  </tbody>\n",
       "</table>\n",
       "</div>"
      ],
      "text/plain": [
       "                     model  training score\n",
       "0                  xgboost        0.878150\n",
       "1                 lightgbm        0.930149\n",
       "2             randomforest        0.955797\n",
       "3       xgboost with smote        0.769509\n",
       "4      lightgbm with smote        0.897398\n",
       "5  randomforest with smote        0.991983"
      ]
     },
     "execution_count": 181,
     "metadata": {},
     "output_type": "execute_result"
    }
   ],
   "source": [
    "results_df = pd.DataFrame({'model': ['xgboost', 'lightgbm', 'randomforest', \n",
    "                                     'xgboost with smote', 'lightgbm with smote', \n",
    "                                     'randomforest with smote'\n",
    "                                     ],\n",
    "                            'training score': [roc_auc_score(y_train, y_pred_probab), \n",
    "                                               roc_auc_score(y_train, y_pred_light_probab),\n",
    "                                               roc_auc_score(y_train, y_pred_forest_probab),\n",
    "                                               roc_auc_score(y_train, y_pred_imb_probab),\n",
    "                                               roc_auc_score(y_train, y_pred_imb_light_probab),\n",
    "                                               roc_auc_score(y_train, y_pred_imb_forest_probab)                                               \n",
    "                                               ]\n",
    "                           })\n",
    "results_df"
   ]
  },
  {
   "cell_type": "code",
   "execution_count": 182,
   "metadata": {},
   "outputs": [],
   "source": [
    "# save models\n",
    "with open('models/xgb.pkl', 'wb') as model_file:\n",
    "    pickle.dump(model, model_file)\n",
    "with open('models/lgb.pkl', 'wb') as model_file:\n",
    "    pickle.dump(light_model, model_file)\n",
    "with open('models/rf.pkl', 'wb') as model_file:\n",
    "    pickle.dump(forest_model, model_file)\n",
    "with open('models/xgb_smote.pkl', 'wb') as model_file:\n",
    "    pickle.dump(model_imb, model_file)\n",
    "with open('models/lgb_smote.pkl', 'wb') as model_file:\n",
    "    pickle.dump(light_imb_model, model_file)\n",
    "with open('models/rf_smote.pkl', 'wb') as model_file:\n",
    "    pickle.dump(forest_imb_model, model_file)"
   ]
  },
  {
   "attachments": {},
   "cell_type": "markdown",
   "metadata": {},
   "source": [
    "### TEST"
   ]
  },
  {
   "cell_type": "code",
   "execution_count": 183,
   "metadata": {},
   "outputs": [
    {
     "name": "stderr",
     "output_type": "stream",
     "text": [
      "C:\\Users\\Satya\\AppData\\Local\\Temp\\ipykernel_23664\\440238055.py:1: DtypeWarning: Columns (18,19) have mixed types. Specify dtype option on import or set low_memory=False.\n",
      "  mailout_test = pd.read_csv('../../data/Term2/capstone/arvato_data/Udacity_MAILOUT_052018_TEST.csv', sep=';')\n"
     ]
    }
   ],
   "source": [
    "mailout_test = pd.read_csv('data/Udacity_MAILOUT_052018_TEST.csv', sep=';')"
   ]
  },
  {
   "cell_type": "code",
   "execution_count": 184,
   "metadata": {},
   "outputs": [],
   "source": [
    "# Applying All Transformations\\Processing applied to Gen Pop & Customers Data\n",
    "clean_data.transform(mailout_test)\n",
    "mailout_test_clean = mailout_test.copy()\n",
    "feature_engine.transform(mailout_test_clean)"
   ]
  },
  {
   "cell_type": "code",
   "execution_count": 185,
   "metadata": {},
   "outputs": [],
   "source": [
    "# Dropping Columns\n",
    "mailout_test_clean.drop(get_cols_to_drop(mailout_test_clean, 0.3), axis=1, inplace=True)\n",
    "mailout_test_clean.drop(['EINGEFUEGT_AM', \n",
    "                         'CAMEO_INTL_2015', 'LP_FAMILIE_FEIN', 'LP_LEBENSPHASE_FEIN'\n",
    "                         ], \n",
    "                         axis=1, inplace=True\n",
    "                         )"
   ]
  },
  {
   "cell_type": "code",
   "execution_count": 186,
   "metadata": {},
   "outputs": [],
   "source": [
    "# Dropping ID column\n",
    "X_test = mailout_test_clean.drop('LNR', axis=1)"
   ]
  },
  {
   "cell_type": "code",
   "execution_count": 187,
   "metadata": {},
   "outputs": [],
   "source": [
    "# Adding Features created from information extracted by KMeans model \n",
    "X_test_imputed = imputer.transform(X_test)\n",
    "X_test_imputed_scaled = scaler.transform(X_test_imputed)\n",
    "X_test_pca_176 = pca_176.transform(X_test_imputed_scaled)\n",
    "test_cluster_p176_c10 = kmeans.predict(X_test_pca_176)\n",
    "X_test_imputed['cluster_p176_c10'] = test_cluster_p176_c10\n",
    "\n",
    "# Creating OHE cols\n",
    "X_test_ohe = pd.get_dummies(X_test_imputed, columns=ohe_cols)"
   ]
  },
  {
   "cell_type": "code",
   "execution_count": 188,
   "metadata": {},
   "outputs": [],
   "source": [
    "# Creating test dataset for prediction\n",
    "\n",
    "# test = X_test_ohe\n",
    "test = pd.concat([X_test_ohe, X_test_imputed[ohe_cols]], axis=1)"
   ]
  },
  {
   "attachments": {},
   "cell_type": "markdown",
   "metadata": {},
   "source": [
    "#### Make Predictions"
   ]
  },
  {
   "cell_type": "code",
   "execution_count": 189,
   "metadata": {},
   "outputs": [],
   "source": [
    "y_test = model.predict_proba(test)\n",
    "y_test_light = light_model.predict_proba(test)\n",
    "y_test_forest = forest_model.predict_proba(test)\n",
    "\n",
    "y_test_imb = model_imb.predict_proba(test)\n",
    "y_test_imb_light = light_imb_model.predict_proba(test)\n",
    "y_test_imb_forest = forest_imb_model.predict_proba(test)"
   ]
  },
  {
   "attachments": {},
   "cell_type": "markdown",
   "metadata": {},
   "source": [
    "#### Submission"
   ]
  },
  {
   "cell_type": "code",
   "execution_count": 190,
   "metadata": {},
   "outputs": [],
   "source": [
    "def create_submission(response_vals, submission_file='', index_vals=mailout_test_clean.LNR):\n",
    "    '''Creat Kaggle Submission CSV'''\n",
    "    submission = pd.DataFrame({'LNR': index_vals, 'RESPONSE': response_vals})\n",
    "    assert len(submission) == 42833\n",
    "    submission.to_csv(f'results/arvato_kaggle_submission{submission_file}.csv', index=False)"
   ]
  },
  {
   "cell_type": "code",
   "execution_count": 191,
   "metadata": {},
   "outputs": [],
   "source": [
    "create_submission(y_test[:, 1], '_xgb')\n",
    "create_submission(y_test_light[:, 1], '_light')\n",
    "create_submission(y_test_forest[:, 1], '_forest')\n",
    "\n",
    "create_submission(y_test_imb[:, 1], '_xgb_imb')\n",
    "create_submission(y_test_imb_light[:, 1], '_light_imb')\n",
    "create_submission(y_test_imb_forest[:, 1], '_forest_imb')"
   ]
  },
  {
   "cell_type": "code",
   "execution_count": null,
   "metadata": {},
   "outputs": [],
   "source": []
  }
 ],
 "metadata": {
  "kernelspec": {
   "display_name": "base",
   "language": "python",
   "name": "python3"
  },
  "language_info": {
   "codemirror_mode": {
    "name": "ipython",
    "version": 3
   },
   "file_extension": ".py",
   "mimetype": "text/x-python",
   "name": "python",
   "nbconvert_exporter": "python",
   "pygments_lexer": "ipython3",
   "version": "3.9.6"
  },
  "vscode": {
   "interpreter": {
    "hash": "19d1d53a962d236aa061289c2ac16dc8e6d9648c89fe79f459ae9a3493bc67b4"
   }
  }
 },
 "nbformat": 4,
 "nbformat_minor": 2
}
